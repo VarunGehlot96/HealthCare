{
 "cells": [
  {
   "cell_type": "markdown",
   "id": "9ecb2ed3",
   "metadata": {},
   "source": [
    "# Project by Varun Gehlot\n"
   ]
  },
  {
   "cell_type": "markdown",
   "id": "fe53a4db",
   "metadata": {},
   "source": [
    "\n",
    "\n",
    "## Objective:\n",
    "\n",
    "### To identify the probable cause of Breast Cancer, Renel Cancer, Colon Cancer, Lung Cancer and Prostrate Cancer in terms of genes responsible for each cancer type. \n",
    "### Leading us to early identification of each type of cancer reducing the fatality rate.\n"
   ]
  },
  {
   "cell_type": "code",
   "execution_count": 3,
   "id": "ee80d7e9",
   "metadata": {},
   "outputs": [],
   "source": [
    "import numpy as np\n",
    "import pandas as pd"
   ]
  },
  {
   "cell_type": "markdown",
   "id": "e40be187",
   "metadata": {},
   "source": [
    "#### Loading the Dataset\n"
   ]
  },
  {
   "cell_type": "code",
   "execution_count": 4,
   "id": "a04f8579",
   "metadata": {},
   "outputs": [],
   "source": [
    "df = pd.read_csv(\"data.csv\")\n",
    "label_df = pd.read_csv(\"labels.csv\")"
   ]
  },
  {
   "cell_type": "markdown",
   "id": "50e41c06",
   "metadata": {},
   "source": [
    "## Exploratory Data Analysis"
   ]
  },
  {
   "cell_type": "code",
   "execution_count": 5,
   "id": "b8cf9744",
   "metadata": {},
   "outputs": [
    {
     "data": {
      "text/html": [
       "<div>\n",
       "<style scoped>\n",
       "    .dataframe tbody tr th:only-of-type {\n",
       "        vertical-align: middle;\n",
       "    }\n",
       "\n",
       "    .dataframe tbody tr th {\n",
       "        vertical-align: top;\n",
       "    }\n",
       "\n",
       "    .dataframe thead th {\n",
       "        text-align: right;\n",
       "    }\n",
       "</style>\n",
       "<table border=\"1\" class=\"dataframe\">\n",
       "  <thead>\n",
       "    <tr style=\"text-align: right;\">\n",
       "      <th></th>\n",
       "      <th>Unnamed: 0</th>\n",
       "      <th>gene_0</th>\n",
       "      <th>gene_1</th>\n",
       "      <th>gene_2</th>\n",
       "      <th>gene_3</th>\n",
       "      <th>gene_4</th>\n",
       "      <th>gene_5</th>\n",
       "      <th>gene_6</th>\n",
       "      <th>gene_7</th>\n",
       "      <th>gene_8</th>\n",
       "      <th>...</th>\n",
       "      <th>gene_20521</th>\n",
       "      <th>gene_20522</th>\n",
       "      <th>gene_20523</th>\n",
       "      <th>gene_20524</th>\n",
       "      <th>gene_20525</th>\n",
       "      <th>gene_20526</th>\n",
       "      <th>gene_20527</th>\n",
       "      <th>gene_20528</th>\n",
       "      <th>gene_20529</th>\n",
       "      <th>gene_20530</th>\n",
       "    </tr>\n",
       "  </thead>\n",
       "  <tbody>\n",
       "    <tr>\n",
       "      <th>0</th>\n",
       "      <td>sample_0</td>\n",
       "      <td>0.0</td>\n",
       "      <td>2.017209</td>\n",
       "      <td>3.265527</td>\n",
       "      <td>5.478487</td>\n",
       "      <td>10.431999</td>\n",
       "      <td>0.0</td>\n",
       "      <td>7.175175</td>\n",
       "      <td>0.591871</td>\n",
       "      <td>0.0</td>\n",
       "      <td>...</td>\n",
       "      <td>4.926711</td>\n",
       "      <td>8.210257</td>\n",
       "      <td>9.723516</td>\n",
       "      <td>7.220030</td>\n",
       "      <td>9.119813</td>\n",
       "      <td>12.003135</td>\n",
       "      <td>9.650743</td>\n",
       "      <td>8.921326</td>\n",
       "      <td>5.286759</td>\n",
       "      <td>0.0</td>\n",
       "    </tr>\n",
       "    <tr>\n",
       "      <th>1</th>\n",
       "      <td>sample_1</td>\n",
       "      <td>0.0</td>\n",
       "      <td>0.592732</td>\n",
       "      <td>1.588421</td>\n",
       "      <td>7.586157</td>\n",
       "      <td>9.623011</td>\n",
       "      <td>0.0</td>\n",
       "      <td>6.816049</td>\n",
       "      <td>0.000000</td>\n",
       "      <td>0.0</td>\n",
       "      <td>...</td>\n",
       "      <td>4.593372</td>\n",
       "      <td>7.323865</td>\n",
       "      <td>9.740931</td>\n",
       "      <td>6.256586</td>\n",
       "      <td>8.381612</td>\n",
       "      <td>12.674552</td>\n",
       "      <td>10.517059</td>\n",
       "      <td>9.397854</td>\n",
       "      <td>2.094168</td>\n",
       "      <td>0.0</td>\n",
       "    </tr>\n",
       "    <tr>\n",
       "      <th>2</th>\n",
       "      <td>sample_2</td>\n",
       "      <td>0.0</td>\n",
       "      <td>3.511759</td>\n",
       "      <td>4.327199</td>\n",
       "      <td>6.881787</td>\n",
       "      <td>9.870730</td>\n",
       "      <td>0.0</td>\n",
       "      <td>6.972130</td>\n",
       "      <td>0.452595</td>\n",
       "      <td>0.0</td>\n",
       "      <td>...</td>\n",
       "      <td>5.125213</td>\n",
       "      <td>8.127123</td>\n",
       "      <td>10.908640</td>\n",
       "      <td>5.401607</td>\n",
       "      <td>9.911597</td>\n",
       "      <td>9.045255</td>\n",
       "      <td>9.788359</td>\n",
       "      <td>10.090470</td>\n",
       "      <td>1.683023</td>\n",
       "      <td>0.0</td>\n",
       "    </tr>\n",
       "    <tr>\n",
       "      <th>3</th>\n",
       "      <td>sample_3</td>\n",
       "      <td>0.0</td>\n",
       "      <td>3.663618</td>\n",
       "      <td>4.507649</td>\n",
       "      <td>6.659068</td>\n",
       "      <td>10.196184</td>\n",
       "      <td>0.0</td>\n",
       "      <td>7.843375</td>\n",
       "      <td>0.434882</td>\n",
       "      <td>0.0</td>\n",
       "      <td>...</td>\n",
       "      <td>6.076566</td>\n",
       "      <td>8.792959</td>\n",
       "      <td>10.141520</td>\n",
       "      <td>8.942805</td>\n",
       "      <td>9.601208</td>\n",
       "      <td>11.392682</td>\n",
       "      <td>9.694814</td>\n",
       "      <td>9.684365</td>\n",
       "      <td>3.292001</td>\n",
       "      <td>0.0</td>\n",
       "    </tr>\n",
       "    <tr>\n",
       "      <th>4</th>\n",
       "      <td>sample_4</td>\n",
       "      <td>0.0</td>\n",
       "      <td>2.655741</td>\n",
       "      <td>2.821547</td>\n",
       "      <td>6.539454</td>\n",
       "      <td>9.738265</td>\n",
       "      <td>0.0</td>\n",
       "      <td>6.566967</td>\n",
       "      <td>0.360982</td>\n",
       "      <td>0.0</td>\n",
       "      <td>...</td>\n",
       "      <td>5.996032</td>\n",
       "      <td>8.891425</td>\n",
       "      <td>10.373790</td>\n",
       "      <td>7.181162</td>\n",
       "      <td>9.846910</td>\n",
       "      <td>11.922439</td>\n",
       "      <td>9.217749</td>\n",
       "      <td>9.461191</td>\n",
       "      <td>5.110372</td>\n",
       "      <td>0.0</td>\n",
       "    </tr>\n",
       "  </tbody>\n",
       "</table>\n",
       "<p>5 rows × 20532 columns</p>\n",
       "</div>"
      ],
      "text/plain": [
       "  Unnamed: 0  gene_0    gene_1    gene_2    gene_3     gene_4  gene_5  \\\n",
       "0   sample_0     0.0  2.017209  3.265527  5.478487  10.431999     0.0   \n",
       "1   sample_1     0.0  0.592732  1.588421  7.586157   9.623011     0.0   \n",
       "2   sample_2     0.0  3.511759  4.327199  6.881787   9.870730     0.0   \n",
       "3   sample_3     0.0  3.663618  4.507649  6.659068  10.196184     0.0   \n",
       "4   sample_4     0.0  2.655741  2.821547  6.539454   9.738265     0.0   \n",
       "\n",
       "     gene_6    gene_7  gene_8  ...  gene_20521  gene_20522  gene_20523  \\\n",
       "0  7.175175  0.591871     0.0  ...    4.926711    8.210257    9.723516   \n",
       "1  6.816049  0.000000     0.0  ...    4.593372    7.323865    9.740931   \n",
       "2  6.972130  0.452595     0.0  ...    5.125213    8.127123   10.908640   \n",
       "3  7.843375  0.434882     0.0  ...    6.076566    8.792959   10.141520   \n",
       "4  6.566967  0.360982     0.0  ...    5.996032    8.891425   10.373790   \n",
       "\n",
       "   gene_20524  gene_20525  gene_20526  gene_20527  gene_20528  gene_20529  \\\n",
       "0    7.220030    9.119813   12.003135    9.650743    8.921326    5.286759   \n",
       "1    6.256586    8.381612   12.674552   10.517059    9.397854    2.094168   \n",
       "2    5.401607    9.911597    9.045255    9.788359   10.090470    1.683023   \n",
       "3    8.942805    9.601208   11.392682    9.694814    9.684365    3.292001   \n",
       "4    7.181162    9.846910   11.922439    9.217749    9.461191    5.110372   \n",
       "\n",
       "   gene_20530  \n",
       "0         0.0  \n",
       "1         0.0  \n",
       "2         0.0  \n",
       "3         0.0  \n",
       "4         0.0  \n",
       "\n",
       "[5 rows x 20532 columns]"
      ]
     },
     "execution_count": 5,
     "metadata": {},
     "output_type": "execute_result"
    }
   ],
   "source": [
    "df.head()"
   ]
  },
  {
   "cell_type": "code",
   "execution_count": 6,
   "id": "1495c383",
   "metadata": {},
   "outputs": [
    {
     "data": {
      "text/plain": [
       "(801, 20532)"
      ]
     },
     "execution_count": 6,
     "metadata": {},
     "output_type": "execute_result"
    }
   ],
   "source": [
    "df.shape"
   ]
  },
  {
   "cell_type": "code",
   "execution_count": 7,
   "id": "abb054ab",
   "metadata": {},
   "outputs": [
    {
     "name": "stdout",
     "output_type": "stream",
     "text": [
      "<class 'pandas.core.frame.DataFrame'>\n",
      "RangeIndex: 801 entries, 0 to 800\n",
      "Columns: 20532 entries, Unnamed: 0 to gene_20530\n",
      "dtypes: float64(20531), object(1)\n",
      "memory usage: 125.5+ MB\n"
     ]
    }
   ],
   "source": [
    "df.info()"
   ]
  },
  {
   "cell_type": "code",
   "execution_count": 8,
   "id": "e9622a2f",
   "metadata": {},
   "outputs": [
    {
     "data": {
      "text/html": [
       "<div>\n",
       "<style scoped>\n",
       "    .dataframe tbody tr th:only-of-type {\n",
       "        vertical-align: middle;\n",
       "    }\n",
       "\n",
       "    .dataframe tbody tr th {\n",
       "        vertical-align: top;\n",
       "    }\n",
       "\n",
       "    .dataframe thead th {\n",
       "        text-align: right;\n",
       "    }\n",
       "</style>\n",
       "<table border=\"1\" class=\"dataframe\">\n",
       "  <thead>\n",
       "    <tr style=\"text-align: right;\">\n",
       "      <th></th>\n",
       "      <th>Unnamed: 0</th>\n",
       "      <th>Class</th>\n",
       "    </tr>\n",
       "  </thead>\n",
       "  <tbody>\n",
       "    <tr>\n",
       "      <th>0</th>\n",
       "      <td>sample_0</td>\n",
       "      <td>PRAD</td>\n",
       "    </tr>\n",
       "    <tr>\n",
       "      <th>1</th>\n",
       "      <td>sample_1</td>\n",
       "      <td>LUAD</td>\n",
       "    </tr>\n",
       "    <tr>\n",
       "      <th>2</th>\n",
       "      <td>sample_2</td>\n",
       "      <td>PRAD</td>\n",
       "    </tr>\n",
       "    <tr>\n",
       "      <th>3</th>\n",
       "      <td>sample_3</td>\n",
       "      <td>PRAD</td>\n",
       "    </tr>\n",
       "    <tr>\n",
       "      <th>4</th>\n",
       "      <td>sample_4</td>\n",
       "      <td>BRCA</td>\n",
       "    </tr>\n",
       "  </tbody>\n",
       "</table>\n",
       "</div>"
      ],
      "text/plain": [
       "  Unnamed: 0 Class\n",
       "0   sample_0  PRAD\n",
       "1   sample_1  LUAD\n",
       "2   sample_2  PRAD\n",
       "3   sample_3  PRAD\n",
       "4   sample_4  BRCA"
      ]
     },
     "execution_count": 8,
     "metadata": {},
     "output_type": "execute_result"
    }
   ],
   "source": [
    "label_df.head()"
   ]
  },
  {
   "cell_type": "code",
   "execution_count": 9,
   "id": "dd42a6cd",
   "metadata": {},
   "outputs": [
    {
     "data": {
      "text/plain": [
       "(801, 2)"
      ]
     },
     "execution_count": 9,
     "metadata": {},
     "output_type": "execute_result"
    }
   ],
   "source": [
    "label_df.shape"
   ]
  },
  {
   "cell_type": "code",
   "execution_count": 10,
   "id": "b018d74e",
   "metadata": {},
   "outputs": [
    {
     "name": "stdout",
     "output_type": "stream",
     "text": [
      "<class 'pandas.core.frame.DataFrame'>\n",
      "RangeIndex: 801 entries, 0 to 800\n",
      "Data columns (total 2 columns):\n",
      " #   Column      Non-Null Count  Dtype \n",
      "---  ------      --------------  ----- \n",
      " 0   Unnamed: 0  801 non-null    object\n",
      " 1   Class       801 non-null    object\n",
      "dtypes: object(2)\n",
      "memory usage: 12.6+ KB\n"
     ]
    }
   ],
   "source": [
    "label_df.info()"
   ]
  },
  {
   "cell_type": "code",
   "execution_count": 11,
   "id": "de7b8e03",
   "metadata": {},
   "outputs": [
    {
     "data": {
      "text/plain": [
       "BRCA    300\n",
       "KIRC    146\n",
       "LUAD    141\n",
       "PRAD    136\n",
       "COAD     78\n",
       "Name: Class, dtype: int64"
      ]
     },
     "execution_count": 11,
     "metadata": {},
     "output_type": "execute_result"
    }
   ],
   "source": [
    "label_df['Class'].value_counts()"
   ]
  },
  {
   "cell_type": "code",
   "execution_count": 12,
   "id": "1dd348b6",
   "metadata": {},
   "outputs": [
    {
     "data": {
      "text/html": [
       "<div>\n",
       "<style scoped>\n",
       "    .dataframe tbody tr th:only-of-type {\n",
       "        vertical-align: middle;\n",
       "    }\n",
       "\n",
       "    .dataframe tbody tr th {\n",
       "        vertical-align: top;\n",
       "    }\n",
       "\n",
       "    .dataframe thead th {\n",
       "        text-align: right;\n",
       "    }\n",
       "</style>\n",
       "<table border=\"1\" class=\"dataframe\">\n",
       "  <thead>\n",
       "    <tr style=\"text-align: right;\">\n",
       "      <th></th>\n",
       "      <th>Unnamed: 0</th>\n",
       "      <th>gene_0</th>\n",
       "      <th>gene_1</th>\n",
       "      <th>gene_2</th>\n",
       "      <th>gene_3</th>\n",
       "      <th>gene_4</th>\n",
       "      <th>gene_5</th>\n",
       "      <th>gene_6</th>\n",
       "      <th>gene_7</th>\n",
       "      <th>gene_8</th>\n",
       "      <th>...</th>\n",
       "      <th>gene_20522</th>\n",
       "      <th>gene_20523</th>\n",
       "      <th>gene_20524</th>\n",
       "      <th>gene_20525</th>\n",
       "      <th>gene_20526</th>\n",
       "      <th>gene_20527</th>\n",
       "      <th>gene_20528</th>\n",
       "      <th>gene_20529</th>\n",
       "      <th>gene_20530</th>\n",
       "      <th>Class</th>\n",
       "    </tr>\n",
       "  </thead>\n",
       "  <tbody>\n",
       "    <tr>\n",
       "      <th>0</th>\n",
       "      <td>sample_0</td>\n",
       "      <td>0.0</td>\n",
       "      <td>2.017209</td>\n",
       "      <td>3.265527</td>\n",
       "      <td>5.478487</td>\n",
       "      <td>10.431999</td>\n",
       "      <td>0.0</td>\n",
       "      <td>7.175175</td>\n",
       "      <td>0.591871</td>\n",
       "      <td>0.0</td>\n",
       "      <td>...</td>\n",
       "      <td>8.210257</td>\n",
       "      <td>9.723516</td>\n",
       "      <td>7.220030</td>\n",
       "      <td>9.119813</td>\n",
       "      <td>12.003135</td>\n",
       "      <td>9.650743</td>\n",
       "      <td>8.921326</td>\n",
       "      <td>5.286759</td>\n",
       "      <td>0.0</td>\n",
       "      <td>PRAD</td>\n",
       "    </tr>\n",
       "    <tr>\n",
       "      <th>1</th>\n",
       "      <td>sample_1</td>\n",
       "      <td>0.0</td>\n",
       "      <td>0.592732</td>\n",
       "      <td>1.588421</td>\n",
       "      <td>7.586157</td>\n",
       "      <td>9.623011</td>\n",
       "      <td>0.0</td>\n",
       "      <td>6.816049</td>\n",
       "      <td>0.000000</td>\n",
       "      <td>0.0</td>\n",
       "      <td>...</td>\n",
       "      <td>7.323865</td>\n",
       "      <td>9.740931</td>\n",
       "      <td>6.256586</td>\n",
       "      <td>8.381612</td>\n",
       "      <td>12.674552</td>\n",
       "      <td>10.517059</td>\n",
       "      <td>9.397854</td>\n",
       "      <td>2.094168</td>\n",
       "      <td>0.0</td>\n",
       "      <td>LUAD</td>\n",
       "    </tr>\n",
       "    <tr>\n",
       "      <th>2</th>\n",
       "      <td>sample_2</td>\n",
       "      <td>0.0</td>\n",
       "      <td>3.511759</td>\n",
       "      <td>4.327199</td>\n",
       "      <td>6.881787</td>\n",
       "      <td>9.870730</td>\n",
       "      <td>0.0</td>\n",
       "      <td>6.972130</td>\n",
       "      <td>0.452595</td>\n",
       "      <td>0.0</td>\n",
       "      <td>...</td>\n",
       "      <td>8.127123</td>\n",
       "      <td>10.908640</td>\n",
       "      <td>5.401607</td>\n",
       "      <td>9.911597</td>\n",
       "      <td>9.045255</td>\n",
       "      <td>9.788359</td>\n",
       "      <td>10.090470</td>\n",
       "      <td>1.683023</td>\n",
       "      <td>0.0</td>\n",
       "      <td>PRAD</td>\n",
       "    </tr>\n",
       "    <tr>\n",
       "      <th>3</th>\n",
       "      <td>sample_3</td>\n",
       "      <td>0.0</td>\n",
       "      <td>3.663618</td>\n",
       "      <td>4.507649</td>\n",
       "      <td>6.659068</td>\n",
       "      <td>10.196184</td>\n",
       "      <td>0.0</td>\n",
       "      <td>7.843375</td>\n",
       "      <td>0.434882</td>\n",
       "      <td>0.0</td>\n",
       "      <td>...</td>\n",
       "      <td>8.792959</td>\n",
       "      <td>10.141520</td>\n",
       "      <td>8.942805</td>\n",
       "      <td>9.601208</td>\n",
       "      <td>11.392682</td>\n",
       "      <td>9.694814</td>\n",
       "      <td>9.684365</td>\n",
       "      <td>3.292001</td>\n",
       "      <td>0.0</td>\n",
       "      <td>PRAD</td>\n",
       "    </tr>\n",
       "    <tr>\n",
       "      <th>4</th>\n",
       "      <td>sample_4</td>\n",
       "      <td>0.0</td>\n",
       "      <td>2.655741</td>\n",
       "      <td>2.821547</td>\n",
       "      <td>6.539454</td>\n",
       "      <td>9.738265</td>\n",
       "      <td>0.0</td>\n",
       "      <td>6.566967</td>\n",
       "      <td>0.360982</td>\n",
       "      <td>0.0</td>\n",
       "      <td>...</td>\n",
       "      <td>8.891425</td>\n",
       "      <td>10.373790</td>\n",
       "      <td>7.181162</td>\n",
       "      <td>9.846910</td>\n",
       "      <td>11.922439</td>\n",
       "      <td>9.217749</td>\n",
       "      <td>9.461191</td>\n",
       "      <td>5.110372</td>\n",
       "      <td>0.0</td>\n",
       "      <td>BRCA</td>\n",
       "    </tr>\n",
       "  </tbody>\n",
       "</table>\n",
       "<p>5 rows × 20533 columns</p>\n",
       "</div>"
      ],
      "text/plain": [
       "  Unnamed: 0  gene_0    gene_1    gene_2    gene_3     gene_4  gene_5  \\\n",
       "0   sample_0     0.0  2.017209  3.265527  5.478487  10.431999     0.0   \n",
       "1   sample_1     0.0  0.592732  1.588421  7.586157   9.623011     0.0   \n",
       "2   sample_2     0.0  3.511759  4.327199  6.881787   9.870730     0.0   \n",
       "3   sample_3     0.0  3.663618  4.507649  6.659068  10.196184     0.0   \n",
       "4   sample_4     0.0  2.655741  2.821547  6.539454   9.738265     0.0   \n",
       "\n",
       "     gene_6    gene_7  gene_8  ...  gene_20522  gene_20523  gene_20524  \\\n",
       "0  7.175175  0.591871     0.0  ...    8.210257    9.723516    7.220030   \n",
       "1  6.816049  0.000000     0.0  ...    7.323865    9.740931    6.256586   \n",
       "2  6.972130  0.452595     0.0  ...    8.127123   10.908640    5.401607   \n",
       "3  7.843375  0.434882     0.0  ...    8.792959   10.141520    8.942805   \n",
       "4  6.566967  0.360982     0.0  ...    8.891425   10.373790    7.181162   \n",
       "\n",
       "   gene_20525  gene_20526  gene_20527  gene_20528  gene_20529  gene_20530  \\\n",
       "0    9.119813   12.003135    9.650743    8.921326    5.286759         0.0   \n",
       "1    8.381612   12.674552   10.517059    9.397854    2.094168         0.0   \n",
       "2    9.911597    9.045255    9.788359   10.090470    1.683023         0.0   \n",
       "3    9.601208   11.392682    9.694814    9.684365    3.292001         0.0   \n",
       "4    9.846910   11.922439    9.217749    9.461191    5.110372         0.0   \n",
       "\n",
       "   Class  \n",
       "0   PRAD  \n",
       "1   LUAD  \n",
       "2   PRAD  \n",
       "3   PRAD  \n",
       "4   BRCA  \n",
       "\n",
       "[5 rows x 20533 columns]"
      ]
     },
     "execution_count": 12,
     "metadata": {},
     "output_type": "execute_result"
    }
   ],
   "source": [
    "df_1 =  pd.merge(df,label_df, on=['Unnamed: 0'])\n",
    "df_1.head()"
   ]
  },
  {
   "cell_type": "code",
   "execution_count": 13,
   "id": "6b6803f3",
   "metadata": {},
   "outputs": [
    {
     "data": {
      "text/plain": [
       "(801, 20533)"
      ]
     },
     "execution_count": 13,
     "metadata": {},
     "output_type": "execute_result"
    }
   ],
   "source": [
    "df_1.shape"
   ]
  },
  {
   "cell_type": "code",
   "execution_count": 14,
   "id": "6bd8ae70",
   "metadata": {},
   "outputs": [
    {
     "data": {
      "text/plain": [
       "BRCA    300\n",
       "KIRC    146\n",
       "LUAD    141\n",
       "PRAD    136\n",
       "COAD     78\n",
       "Name: Class, dtype: int64"
      ]
     },
     "execution_count": 14,
     "metadata": {},
     "output_type": "execute_result"
    }
   ],
   "source": [
    "df_1['Class'].value_counts()"
   ]
  },
  {
   "cell_type": "code",
   "execution_count": 15,
   "id": "2a732eea",
   "metadata": {},
   "outputs": [],
   "source": [
    "df_1.drop('Unnamed: 0', axis = 1,inplace=True)"
   ]
  },
  {
   "cell_type": "code",
   "execution_count": 16,
   "id": "1782b7d3",
   "metadata": {},
   "outputs": [
    {
     "data": {
      "text/html": [
       "<div>\n",
       "<style scoped>\n",
       "    .dataframe tbody tr th:only-of-type {\n",
       "        vertical-align: middle;\n",
       "    }\n",
       "\n",
       "    .dataframe tbody tr th {\n",
       "        vertical-align: top;\n",
       "    }\n",
       "\n",
       "    .dataframe thead th {\n",
       "        text-align: right;\n",
       "    }\n",
       "</style>\n",
       "<table border=\"1\" class=\"dataframe\">\n",
       "  <thead>\n",
       "    <tr style=\"text-align: right;\">\n",
       "      <th></th>\n",
       "      <th>gene_0</th>\n",
       "      <th>gene_1</th>\n",
       "      <th>gene_2</th>\n",
       "      <th>gene_3</th>\n",
       "      <th>gene_4</th>\n",
       "      <th>gene_5</th>\n",
       "      <th>gene_6</th>\n",
       "      <th>gene_7</th>\n",
       "      <th>gene_8</th>\n",
       "      <th>gene_9</th>\n",
       "      <th>...</th>\n",
       "      <th>gene_20522</th>\n",
       "      <th>gene_20523</th>\n",
       "      <th>gene_20524</th>\n",
       "      <th>gene_20525</th>\n",
       "      <th>gene_20526</th>\n",
       "      <th>gene_20527</th>\n",
       "      <th>gene_20528</th>\n",
       "      <th>gene_20529</th>\n",
       "      <th>gene_20530</th>\n",
       "      <th>Class</th>\n",
       "    </tr>\n",
       "  </thead>\n",
       "  <tbody>\n",
       "    <tr>\n",
       "      <th>0</th>\n",
       "      <td>0.0</td>\n",
       "      <td>2.017209</td>\n",
       "      <td>3.265527</td>\n",
       "      <td>5.478487</td>\n",
       "      <td>10.431999</td>\n",
       "      <td>0.0</td>\n",
       "      <td>7.175175</td>\n",
       "      <td>0.591871</td>\n",
       "      <td>0.0</td>\n",
       "      <td>0.0</td>\n",
       "      <td>...</td>\n",
       "      <td>8.210257</td>\n",
       "      <td>9.723516</td>\n",
       "      <td>7.220030</td>\n",
       "      <td>9.119813</td>\n",
       "      <td>12.003135</td>\n",
       "      <td>9.650743</td>\n",
       "      <td>8.921326</td>\n",
       "      <td>5.286759</td>\n",
       "      <td>0.0</td>\n",
       "      <td>PRAD</td>\n",
       "    </tr>\n",
       "    <tr>\n",
       "      <th>1</th>\n",
       "      <td>0.0</td>\n",
       "      <td>0.592732</td>\n",
       "      <td>1.588421</td>\n",
       "      <td>7.586157</td>\n",
       "      <td>9.623011</td>\n",
       "      <td>0.0</td>\n",
       "      <td>6.816049</td>\n",
       "      <td>0.000000</td>\n",
       "      <td>0.0</td>\n",
       "      <td>0.0</td>\n",
       "      <td>...</td>\n",
       "      <td>7.323865</td>\n",
       "      <td>9.740931</td>\n",
       "      <td>6.256586</td>\n",
       "      <td>8.381612</td>\n",
       "      <td>12.674552</td>\n",
       "      <td>10.517059</td>\n",
       "      <td>9.397854</td>\n",
       "      <td>2.094168</td>\n",
       "      <td>0.0</td>\n",
       "      <td>LUAD</td>\n",
       "    </tr>\n",
       "    <tr>\n",
       "      <th>2</th>\n",
       "      <td>0.0</td>\n",
       "      <td>3.511759</td>\n",
       "      <td>4.327199</td>\n",
       "      <td>6.881787</td>\n",
       "      <td>9.870730</td>\n",
       "      <td>0.0</td>\n",
       "      <td>6.972130</td>\n",
       "      <td>0.452595</td>\n",
       "      <td>0.0</td>\n",
       "      <td>0.0</td>\n",
       "      <td>...</td>\n",
       "      <td>8.127123</td>\n",
       "      <td>10.908640</td>\n",
       "      <td>5.401607</td>\n",
       "      <td>9.911597</td>\n",
       "      <td>9.045255</td>\n",
       "      <td>9.788359</td>\n",
       "      <td>10.090470</td>\n",
       "      <td>1.683023</td>\n",
       "      <td>0.0</td>\n",
       "      <td>PRAD</td>\n",
       "    </tr>\n",
       "    <tr>\n",
       "      <th>3</th>\n",
       "      <td>0.0</td>\n",
       "      <td>3.663618</td>\n",
       "      <td>4.507649</td>\n",
       "      <td>6.659068</td>\n",
       "      <td>10.196184</td>\n",
       "      <td>0.0</td>\n",
       "      <td>7.843375</td>\n",
       "      <td>0.434882</td>\n",
       "      <td>0.0</td>\n",
       "      <td>0.0</td>\n",
       "      <td>...</td>\n",
       "      <td>8.792959</td>\n",
       "      <td>10.141520</td>\n",
       "      <td>8.942805</td>\n",
       "      <td>9.601208</td>\n",
       "      <td>11.392682</td>\n",
       "      <td>9.694814</td>\n",
       "      <td>9.684365</td>\n",
       "      <td>3.292001</td>\n",
       "      <td>0.0</td>\n",
       "      <td>PRAD</td>\n",
       "    </tr>\n",
       "    <tr>\n",
       "      <th>4</th>\n",
       "      <td>0.0</td>\n",
       "      <td>2.655741</td>\n",
       "      <td>2.821547</td>\n",
       "      <td>6.539454</td>\n",
       "      <td>9.738265</td>\n",
       "      <td>0.0</td>\n",
       "      <td>6.566967</td>\n",
       "      <td>0.360982</td>\n",
       "      <td>0.0</td>\n",
       "      <td>0.0</td>\n",
       "      <td>...</td>\n",
       "      <td>8.891425</td>\n",
       "      <td>10.373790</td>\n",
       "      <td>7.181162</td>\n",
       "      <td>9.846910</td>\n",
       "      <td>11.922439</td>\n",
       "      <td>9.217749</td>\n",
       "      <td>9.461191</td>\n",
       "      <td>5.110372</td>\n",
       "      <td>0.0</td>\n",
       "      <td>BRCA</td>\n",
       "    </tr>\n",
       "  </tbody>\n",
       "</table>\n",
       "<p>5 rows × 20532 columns</p>\n",
       "</div>"
      ],
      "text/plain": [
       "   gene_0    gene_1    gene_2    gene_3     gene_4  gene_5    gene_6  \\\n",
       "0     0.0  2.017209  3.265527  5.478487  10.431999     0.0  7.175175   \n",
       "1     0.0  0.592732  1.588421  7.586157   9.623011     0.0  6.816049   \n",
       "2     0.0  3.511759  4.327199  6.881787   9.870730     0.0  6.972130   \n",
       "3     0.0  3.663618  4.507649  6.659068  10.196184     0.0  7.843375   \n",
       "4     0.0  2.655741  2.821547  6.539454   9.738265     0.0  6.566967   \n",
       "\n",
       "     gene_7  gene_8  gene_9  ...  gene_20522  gene_20523  gene_20524  \\\n",
       "0  0.591871     0.0     0.0  ...    8.210257    9.723516    7.220030   \n",
       "1  0.000000     0.0     0.0  ...    7.323865    9.740931    6.256586   \n",
       "2  0.452595     0.0     0.0  ...    8.127123   10.908640    5.401607   \n",
       "3  0.434882     0.0     0.0  ...    8.792959   10.141520    8.942805   \n",
       "4  0.360982     0.0     0.0  ...    8.891425   10.373790    7.181162   \n",
       "\n",
       "   gene_20525  gene_20526  gene_20527  gene_20528  gene_20529  gene_20530  \\\n",
       "0    9.119813   12.003135    9.650743    8.921326    5.286759         0.0   \n",
       "1    8.381612   12.674552   10.517059    9.397854    2.094168         0.0   \n",
       "2    9.911597    9.045255    9.788359   10.090470    1.683023         0.0   \n",
       "3    9.601208   11.392682    9.694814    9.684365    3.292001         0.0   \n",
       "4    9.846910   11.922439    9.217749    9.461191    5.110372         0.0   \n",
       "\n",
       "   Class  \n",
       "0   PRAD  \n",
       "1   LUAD  \n",
       "2   PRAD  \n",
       "3   PRAD  \n",
       "4   BRCA  \n",
       "\n",
       "[5 rows x 20532 columns]"
      ]
     },
     "execution_count": 16,
     "metadata": {},
     "output_type": "execute_result"
    }
   ],
   "source": [
    "df_1.head()"
   ]
  },
  {
   "cell_type": "code",
   "execution_count": 17,
   "id": "704350d1",
   "metadata": {
    "scrolled": true
   },
   "outputs": [],
   "source": [
    "agg_data =pd.pivot_table(data= df_1, index = 'Class', aggfunc='mean')"
   ]
  },
  {
   "cell_type": "code",
   "execution_count": 18,
   "id": "ed14036e",
   "metadata": {},
   "outputs": [
    {
     "data": {
      "text/html": [
       "<div>\n",
       "<style scoped>\n",
       "    .dataframe tbody tr th:only-of-type {\n",
       "        vertical-align: middle;\n",
       "    }\n",
       "\n",
       "    .dataframe tbody tr th {\n",
       "        vertical-align: top;\n",
       "    }\n",
       "\n",
       "    .dataframe thead th {\n",
       "        text-align: right;\n",
       "    }\n",
       "</style>\n",
       "<table border=\"1\" class=\"dataframe\">\n",
       "  <thead>\n",
       "    <tr style=\"text-align: right;\">\n",
       "      <th></th>\n",
       "      <th>gene_0</th>\n",
       "      <th>gene_1</th>\n",
       "      <th>gene_10</th>\n",
       "      <th>gene_100</th>\n",
       "      <th>gene_1000</th>\n",
       "      <th>gene_10000</th>\n",
       "      <th>gene_10001</th>\n",
       "      <th>gene_10002</th>\n",
       "      <th>gene_10003</th>\n",
       "      <th>gene_10004</th>\n",
       "      <th>...</th>\n",
       "      <th>gene_9990</th>\n",
       "      <th>gene_9991</th>\n",
       "      <th>gene_9992</th>\n",
       "      <th>gene_9993</th>\n",
       "      <th>gene_9994</th>\n",
       "      <th>gene_9995</th>\n",
       "      <th>gene_9996</th>\n",
       "      <th>gene_9997</th>\n",
       "      <th>gene_9998</th>\n",
       "      <th>gene_9999</th>\n",
       "    </tr>\n",
       "    <tr>\n",
       "      <th>Class</th>\n",
       "      <th></th>\n",
       "      <th></th>\n",
       "      <th></th>\n",
       "      <th></th>\n",
       "      <th></th>\n",
       "      <th></th>\n",
       "      <th></th>\n",
       "      <th></th>\n",
       "      <th></th>\n",
       "      <th></th>\n",
       "      <th></th>\n",
       "      <th></th>\n",
       "      <th></th>\n",
       "      <th></th>\n",
       "      <th></th>\n",
       "      <th></th>\n",
       "      <th></th>\n",
       "      <th></th>\n",
       "      <th></th>\n",
       "      <th></th>\n",
       "      <th></th>\n",
       "    </tr>\n",
       "  </thead>\n",
       "  <tbody>\n",
       "    <tr>\n",
       "      <th>BRCA</th>\n",
       "      <td>0.011362</td>\n",
       "      <td>2.839739</td>\n",
       "      <td>0.544066</td>\n",
       "      <td>10.681488</td>\n",
       "      <td>10.303568</td>\n",
       "      <td>3.258028</td>\n",
       "      <td>7.339461</td>\n",
       "      <td>7.900497</td>\n",
       "      <td>7.489146</td>\n",
       "      <td>7.508378</td>\n",
       "      <td>...</td>\n",
       "      <td>1.969278</td>\n",
       "      <td>5.142237</td>\n",
       "      <td>1.736160</td>\n",
       "      <td>2.312551</td>\n",
       "      <td>1.696127</td>\n",
       "      <td>2.493789</td>\n",
       "      <td>0.046527</td>\n",
       "      <td>2.099709</td>\n",
       "      <td>0.151063</td>\n",
       "      <td>6.954733</td>\n",
       "    </tr>\n",
       "    <tr>\n",
       "      <th>COAD</th>\n",
       "      <td>0.022212</td>\n",
       "      <td>3.438381</td>\n",
       "      <td>0.357278</td>\n",
       "      <td>11.015745</td>\n",
       "      <td>9.951124</td>\n",
       "      <td>3.462039</td>\n",
       "      <td>5.526673</td>\n",
       "      <td>7.487396</td>\n",
       "      <td>3.783493</td>\n",
       "      <td>6.959238</td>\n",
       "      <td>...</td>\n",
       "      <td>2.216178</td>\n",
       "      <td>0.354828</td>\n",
       "      <td>1.833606</td>\n",
       "      <td>1.619692</td>\n",
       "      <td>3.839205</td>\n",
       "      <td>2.396207</td>\n",
       "      <td>0.090327</td>\n",
       "      <td>2.298246</td>\n",
       "      <td>0.065007</td>\n",
       "      <td>6.618466</td>\n",
       "    </tr>\n",
       "    <tr>\n",
       "      <th>KIRC</th>\n",
       "      <td>0.046544</td>\n",
       "      <td>2.398129</td>\n",
       "      <td>1.166824</td>\n",
       "      <td>10.238999</td>\n",
       "      <td>11.148094</td>\n",
       "      <td>1.651798</td>\n",
       "      <td>6.895752</td>\n",
       "      <td>7.686932</td>\n",
       "      <td>7.269611</td>\n",
       "      <td>7.636246</td>\n",
       "      <td>...</td>\n",
       "      <td>1.824964</td>\n",
       "      <td>0.596508</td>\n",
       "      <td>2.393303</td>\n",
       "      <td>1.872888</td>\n",
       "      <td>1.289448</td>\n",
       "      <td>3.139623</td>\n",
       "      <td>0.130416</td>\n",
       "      <td>2.387948</td>\n",
       "      <td>0.148641</td>\n",
       "      <td>6.429343</td>\n",
       "    </tr>\n",
       "    <tr>\n",
       "      <th>LUAD</th>\n",
       "      <td>0.041088</td>\n",
       "      <td>3.358260</td>\n",
       "      <td>0.607541</td>\n",
       "      <td>10.517670</td>\n",
       "      <td>10.503698</td>\n",
       "      <td>3.754181</td>\n",
       "      <td>7.281878</td>\n",
       "      <td>7.041924</td>\n",
       "      <td>6.145042</td>\n",
       "      <td>7.148682</td>\n",
       "      <td>...</td>\n",
       "      <td>2.609490</td>\n",
       "      <td>2.801700</td>\n",
       "      <td>2.738326</td>\n",
       "      <td>1.869805</td>\n",
       "      <td>2.217144</td>\n",
       "      <td>2.459608</td>\n",
       "      <td>0.042070</td>\n",
       "      <td>2.281828</td>\n",
       "      <td>0.056608</td>\n",
       "      <td>6.721517</td>\n",
       "    </tr>\n",
       "    <tr>\n",
       "      <th>PRAD</th>\n",
       "      <td>0.026544</td>\n",
       "      <td>3.441041</td>\n",
       "      <td>0.765608</td>\n",
       "      <td>10.282936</td>\n",
       "      <td>9.967433</td>\n",
       "      <td>1.949878</td>\n",
       "      <td>7.946141</td>\n",
       "      <td>8.529695</td>\n",
       "      <td>5.696368</td>\n",
       "      <td>7.396572</td>\n",
       "      <td>...</td>\n",
       "      <td>1.623491</td>\n",
       "      <td>4.594215</td>\n",
       "      <td>1.684084</td>\n",
       "      <td>2.588050</td>\n",
       "      <td>1.703772</td>\n",
       "      <td>3.568490</td>\n",
       "      <td>0.572893</td>\n",
       "      <td>3.621548</td>\n",
       "      <td>0.094953</td>\n",
       "      <td>7.104225</td>\n",
       "    </tr>\n",
       "  </tbody>\n",
       "</table>\n",
       "<p>5 rows × 20531 columns</p>\n",
       "</div>"
      ],
      "text/plain": [
       "         gene_0    gene_1   gene_10   gene_100  gene_1000  gene_10000  \\\n",
       "Class                                                                   \n",
       "BRCA   0.011362  2.839739  0.544066  10.681488  10.303568    3.258028   \n",
       "COAD   0.022212  3.438381  0.357278  11.015745   9.951124    3.462039   \n",
       "KIRC   0.046544  2.398129  1.166824  10.238999  11.148094    1.651798   \n",
       "LUAD   0.041088  3.358260  0.607541  10.517670  10.503698    3.754181   \n",
       "PRAD   0.026544  3.441041  0.765608  10.282936   9.967433    1.949878   \n",
       "\n",
       "       gene_10001  gene_10002  gene_10003  gene_10004  ...  gene_9990  \\\n",
       "Class                                                  ...              \n",
       "BRCA     7.339461    7.900497    7.489146    7.508378  ...   1.969278   \n",
       "COAD     5.526673    7.487396    3.783493    6.959238  ...   2.216178   \n",
       "KIRC     6.895752    7.686932    7.269611    7.636246  ...   1.824964   \n",
       "LUAD     7.281878    7.041924    6.145042    7.148682  ...   2.609490   \n",
       "PRAD     7.946141    8.529695    5.696368    7.396572  ...   1.623491   \n",
       "\n",
       "       gene_9991  gene_9992  gene_9993  gene_9994  gene_9995  gene_9996  \\\n",
       "Class                                                                     \n",
       "BRCA    5.142237   1.736160   2.312551   1.696127   2.493789   0.046527   \n",
       "COAD    0.354828   1.833606   1.619692   3.839205   2.396207   0.090327   \n",
       "KIRC    0.596508   2.393303   1.872888   1.289448   3.139623   0.130416   \n",
       "LUAD    2.801700   2.738326   1.869805   2.217144   2.459608   0.042070   \n",
       "PRAD    4.594215   1.684084   2.588050   1.703772   3.568490   0.572893   \n",
       "\n",
       "       gene_9997  gene_9998  gene_9999  \n",
       "Class                                   \n",
       "BRCA    2.099709   0.151063   6.954733  \n",
       "COAD    2.298246   0.065007   6.618466  \n",
       "KIRC    2.387948   0.148641   6.429343  \n",
       "LUAD    2.281828   0.056608   6.721517  \n",
       "PRAD    3.621548   0.094953   7.104225  \n",
       "\n",
       "[5 rows x 20531 columns]"
      ]
     },
     "execution_count": 18,
     "metadata": {},
     "output_type": "execute_result"
    }
   ],
   "source": [
    "agg_data"
   ]
  },
  {
   "cell_type": "code",
   "execution_count": 19,
   "id": "c647f8c6",
   "metadata": {},
   "outputs": [
    {
     "data": {
      "text/plain": [
       "(5, 20531)"
      ]
     },
     "execution_count": 19,
     "metadata": {},
     "output_type": "execute_result"
    }
   ],
   "source": [
    "agg_data.shape"
   ]
  },
  {
   "cell_type": "code",
   "execution_count": 20,
   "id": "d1602209",
   "metadata": {},
   "outputs": [],
   "source": [
    "import matplotlib.pyplot as plt\n",
    "import seaborn as sns"
   ]
  },
  {
   "cell_type": "code",
   "execution_count": 21,
   "id": "735fcc26",
   "metadata": {},
   "outputs": [
    {
     "data": {
      "text/html": [
       "<div>\n",
       "<style scoped>\n",
       "    .dataframe tbody tr th:only-of-type {\n",
       "        vertical-align: middle;\n",
       "    }\n",
       "\n",
       "    .dataframe tbody tr th {\n",
       "        vertical-align: top;\n",
       "    }\n",
       "\n",
       "    .dataframe thead th {\n",
       "        text-align: right;\n",
       "    }\n",
       "</style>\n",
       "<table border=\"1\" class=\"dataframe\">\n",
       "  <thead>\n",
       "    <tr style=\"text-align: right;\">\n",
       "      <th>Class</th>\n",
       "      <th>BRCA</th>\n",
       "      <th>COAD</th>\n",
       "      <th>KIRC</th>\n",
       "      <th>LUAD</th>\n",
       "      <th>PRAD</th>\n",
       "    </tr>\n",
       "  </thead>\n",
       "  <tbody>\n",
       "    <tr>\n",
       "      <th>gene_0</th>\n",
       "      <td>0.011362</td>\n",
       "      <td>0.022212</td>\n",
       "      <td>0.046544</td>\n",
       "      <td>0.041088</td>\n",
       "      <td>0.026544</td>\n",
       "    </tr>\n",
       "    <tr>\n",
       "      <th>gene_1</th>\n",
       "      <td>2.839739</td>\n",
       "      <td>3.438381</td>\n",
       "      <td>2.398129</td>\n",
       "      <td>3.358260</td>\n",
       "      <td>3.441041</td>\n",
       "    </tr>\n",
       "    <tr>\n",
       "      <th>gene_10</th>\n",
       "      <td>0.544066</td>\n",
       "      <td>0.357278</td>\n",
       "      <td>1.166824</td>\n",
       "      <td>0.607541</td>\n",
       "      <td>0.765608</td>\n",
       "    </tr>\n",
       "    <tr>\n",
       "      <th>gene_100</th>\n",
       "      <td>10.681488</td>\n",
       "      <td>11.015745</td>\n",
       "      <td>10.238999</td>\n",
       "      <td>10.517670</td>\n",
       "      <td>10.282936</td>\n",
       "    </tr>\n",
       "    <tr>\n",
       "      <th>gene_1000</th>\n",
       "      <td>10.303568</td>\n",
       "      <td>9.951124</td>\n",
       "      <td>11.148094</td>\n",
       "      <td>10.503698</td>\n",
       "      <td>9.967433</td>\n",
       "    </tr>\n",
       "  </tbody>\n",
       "</table>\n",
       "</div>"
      ],
      "text/plain": [
       "Class           BRCA       COAD       KIRC       LUAD       PRAD\n",
       "gene_0      0.011362   0.022212   0.046544   0.041088   0.026544\n",
       "gene_1      2.839739   3.438381   2.398129   3.358260   3.441041\n",
       "gene_10     0.544066   0.357278   1.166824   0.607541   0.765608\n",
       "gene_100   10.681488  11.015745  10.238999  10.517670  10.282936\n",
       "gene_1000  10.303568   9.951124  11.148094  10.503698   9.967433"
      ]
     },
     "execution_count": 21,
     "metadata": {},
     "output_type": "execute_result"
    }
   ],
   "source": [
    "tr_df = agg_data.T\n",
    "tr_df.head()"
   ]
  },
  {
   "cell_type": "code",
   "execution_count": 22,
   "id": "d25182ef",
   "metadata": {},
   "outputs": [
    {
     "data": {
      "text/plain": [
       "(20531, 5)"
      ]
     },
     "execution_count": 22,
     "metadata": {},
     "output_type": "execute_result"
    }
   ],
   "source": [
    "tr_df.shape"
   ]
  },
  {
   "cell_type": "code",
   "execution_count": 23,
   "id": "c3977f95",
   "metadata": {},
   "outputs": [
    {
     "name": "stderr",
     "output_type": "stream",
     "text": [
      "F:\\Anaconda\\lib\\site-packages\\seaborn\\matrix.py:654: UserWarning: Clustering large matrix with scipy. Installing `fastcluster` may give better performance.\n",
      "  warnings.warn(msg)\n"
     ]
    },
    {
     "data": {
      "text/plain": [
       "<seaborn.matrix.ClusterGrid at 0xe9b24a7af0>"
      ]
     },
     "execution_count": 23,
     "metadata": {},
     "output_type": "execute_result"
    },
    {
     "data": {
      "image/png": "[encoded data removed]",
      "text/plain": [
       "<Figure size 1000x1000 with 4 Axes>"
      ]
     },
     "metadata": {},
     "output_type": "display_data"
    }
   ],
   "source": [
    "sns.clustermap(tr_df)"
   ]
  },
  {
   "cell_type": "code",
   "execution_count": 24,
   "id": "e09a5121",
   "metadata": {},
   "outputs": [
    {
     "data": {
      "text/html": [
       "<div>\n",
       "<style scoped>\n",
       "    .dataframe tbody tr th:only-of-type {\n",
       "        vertical-align: middle;\n",
       "    }\n",
       "\n",
       "    .dataframe tbody tr th {\n",
       "        vertical-align: top;\n",
       "    }\n",
       "\n",
       "    .dataframe thead th {\n",
       "        text-align: right;\n",
       "    }\n",
       "</style>\n",
       "<table border=\"1\" class=\"dataframe\">\n",
       "  <thead>\n",
       "    <tr style=\"text-align: right;\">\n",
       "      <th>Class</th>\n",
       "      <th>BRCA</th>\n",
       "      <th>COAD</th>\n",
       "      <th>KIRC</th>\n",
       "      <th>LUAD</th>\n",
       "      <th>PRAD</th>\n",
       "    </tr>\n",
       "  </thead>\n",
       "  <tbody>\n",
       "    <tr>\n",
       "      <th>gene_0</th>\n",
       "      <td>0.011362</td>\n",
       "      <td>0.022212</td>\n",
       "      <td>0.046544</td>\n",
       "      <td>0.041088</td>\n",
       "      <td>0.026544</td>\n",
       "    </tr>\n",
       "    <tr>\n",
       "      <th>gene_1</th>\n",
       "      <td>2.839739</td>\n",
       "      <td>3.438381</td>\n",
       "      <td>2.398129</td>\n",
       "      <td>3.358260</td>\n",
       "      <td>3.441041</td>\n",
       "    </tr>\n",
       "    <tr>\n",
       "      <th>gene_10</th>\n",
       "      <td>0.544066</td>\n",
       "      <td>0.357278</td>\n",
       "      <td>1.166824</td>\n",
       "      <td>0.607541</td>\n",
       "      <td>0.765608</td>\n",
       "    </tr>\n",
       "    <tr>\n",
       "      <th>gene_100</th>\n",
       "      <td>10.681488</td>\n",
       "      <td>11.015745</td>\n",
       "      <td>10.238999</td>\n",
       "      <td>10.517670</td>\n",
       "      <td>10.282936</td>\n",
       "    </tr>\n",
       "    <tr>\n",
       "      <th>gene_1000</th>\n",
       "      <td>10.303568</td>\n",
       "      <td>9.951124</td>\n",
       "      <td>11.148094</td>\n",
       "      <td>10.503698</td>\n",
       "      <td>9.967433</td>\n",
       "    </tr>\n",
       "    <tr>\n",
       "      <th>...</th>\n",
       "      <td>...</td>\n",
       "      <td>...</td>\n",
       "      <td>...</td>\n",
       "      <td>...</td>\n",
       "      <td>...</td>\n",
       "    </tr>\n",
       "    <tr>\n",
       "      <th>gene_9995</th>\n",
       "      <td>2.493789</td>\n",
       "      <td>2.396207</td>\n",
       "      <td>3.139623</td>\n",
       "      <td>2.459608</td>\n",
       "      <td>3.568490</td>\n",
       "    </tr>\n",
       "    <tr>\n",
       "      <th>gene_9996</th>\n",
       "      <td>0.046527</td>\n",
       "      <td>0.090327</td>\n",
       "      <td>0.130416</td>\n",
       "      <td>0.042070</td>\n",
       "      <td>0.572893</td>\n",
       "    </tr>\n",
       "    <tr>\n",
       "      <th>gene_9997</th>\n",
       "      <td>2.099709</td>\n",
       "      <td>2.298246</td>\n",
       "      <td>2.387948</td>\n",
       "      <td>2.281828</td>\n",
       "      <td>3.621548</td>\n",
       "    </tr>\n",
       "    <tr>\n",
       "      <th>gene_9998</th>\n",
       "      <td>0.151063</td>\n",
       "      <td>0.065007</td>\n",
       "      <td>0.148641</td>\n",
       "      <td>0.056608</td>\n",
       "      <td>0.094953</td>\n",
       "    </tr>\n",
       "    <tr>\n",
       "      <th>gene_9999</th>\n",
       "      <td>6.954733</td>\n",
       "      <td>6.618466</td>\n",
       "      <td>6.429343</td>\n",
       "      <td>6.721517</td>\n",
       "      <td>7.104225</td>\n",
       "    </tr>\n",
       "  </tbody>\n",
       "</table>\n",
       "<p>20531 rows × 5 columns</p>\n",
       "</div>"
      ],
      "text/plain": [
       "Class           BRCA       COAD       KIRC       LUAD       PRAD\n",
       "gene_0      0.011362   0.022212   0.046544   0.041088   0.026544\n",
       "gene_1      2.839739   3.438381   2.398129   3.358260   3.441041\n",
       "gene_10     0.544066   0.357278   1.166824   0.607541   0.765608\n",
       "gene_100   10.681488  11.015745  10.238999  10.517670  10.282936\n",
       "gene_1000  10.303568   9.951124  11.148094  10.503698   9.967433\n",
       "...              ...        ...        ...        ...        ...\n",
       "gene_9995   2.493789   2.396207   3.139623   2.459608   3.568490\n",
       "gene_9996   0.046527   0.090327   0.130416   0.042070   0.572893\n",
       "gene_9997   2.099709   2.298246   2.387948   2.281828   3.621548\n",
       "gene_9998   0.151063   0.065007   0.148641   0.056608   0.094953\n",
       "gene_9999   6.954733   6.618466   6.429343   6.721517   7.104225\n",
       "\n",
       "[20531 rows x 5 columns]"
      ]
     },
     "execution_count": 24,
     "metadata": {},
     "output_type": "execute_result"
    }
   ],
   "source": [
    "tr_df"
   ]
  },
  {
   "cell_type": "code",
   "execution_count": 25,
   "id": "6cf1d273",
   "metadata": {},
   "outputs": [],
   "source": [
    "popul_mean_BRCA = tr_df['BRCA'].mean()"
   ]
  },
  {
   "cell_type": "code",
   "execution_count": 26,
   "id": "976109f7",
   "metadata": {},
   "outputs": [],
   "source": [
    "popul_mean_COAD = tr_df['COAD'].mean()"
   ]
  },
  {
   "cell_type": "code",
   "execution_count": 27,
   "id": "510edbeb",
   "metadata": {},
   "outputs": [],
   "source": [
    "popul_mean_KIRC = tr_df['KIRC'].mean()"
   ]
  },
  {
   "cell_type": "code",
   "execution_count": 28,
   "id": "b025367e",
   "metadata": {},
   "outputs": [],
   "source": [
    "popul_mean_LUAD = tr_df['LUAD'].mean() "
   ]
  },
  {
   "cell_type": "code",
   "execution_count": 29,
   "id": "b1b9ce27",
   "metadata": {},
   "outputs": [],
   "source": [
    "popul_mean_PRAD = tr_df['PRAD'].mean()"
   ]
  },
  {
   "cell_type": "code",
   "execution_count": 30,
   "id": "aa5194fd",
   "metadata": {},
   "outputs": [
    {
     "data": {
      "text/html": [
       "<div>\n",
       "<style scoped>\n",
       "    .dataframe tbody tr th:only-of-type {\n",
       "        vertical-align: middle;\n",
       "    }\n",
       "\n",
       "    .dataframe tbody tr th {\n",
       "        vertical-align: top;\n",
       "    }\n",
       "\n",
       "    .dataframe thead th {\n",
       "        text-align: right;\n",
       "    }\n",
       "</style>\n",
       "<table border=\"1\" class=\"dataframe\">\n",
       "  <thead>\n",
       "    <tr style=\"text-align: right;\">\n",
       "      <th>Class</th>\n",
       "      <th>BRCA</th>\n",
       "      <th>COAD</th>\n",
       "      <th>KIRC</th>\n",
       "      <th>LUAD</th>\n",
       "      <th>PRAD</th>\n",
       "    </tr>\n",
       "  </thead>\n",
       "  <tbody>\n",
       "    <tr>\n",
       "      <th>gene_212</th>\n",
       "      <td>8.191377</td>\n",
       "      <td>9.322849</td>\n",
       "      <td>8.473490</td>\n",
       "      <td>8.520590</td>\n",
       "      <td>8.811184</td>\n",
       "    </tr>\n",
       "    <tr>\n",
       "      <th>gene_5246</th>\n",
       "      <td>6.070574</td>\n",
       "      <td>5.552432</td>\n",
       "      <td>5.892936</td>\n",
       "      <td>5.605171</td>\n",
       "      <td>6.250860</td>\n",
       "    </tr>\n",
       "    <tr>\n",
       "      <th>gene_525</th>\n",
       "      <td>11.329820</td>\n",
       "      <td>11.072090</td>\n",
       "      <td>10.976806</td>\n",
       "      <td>11.039549</td>\n",
       "      <td>11.544546</td>\n",
       "    </tr>\n",
       "    <tr>\n",
       "      <th>gene_12494</th>\n",
       "      <td>0.001618</td>\n",
       "      <td>0.006289</td>\n",
       "      <td>0.122659</td>\n",
       "      <td>0.000000</td>\n",
       "      <td>0.027925</td>\n",
       "    </tr>\n",
       "    <tr>\n",
       "      <th>gene_15897</th>\n",
       "      <td>2.899252</td>\n",
       "      <td>4.308109</td>\n",
       "      <td>0.950528</td>\n",
       "      <td>13.639469</td>\n",
       "      <td>9.619839</td>\n",
       "    </tr>\n",
       "    <tr>\n",
       "      <th>...</th>\n",
       "      <td>...</td>\n",
       "      <td>...</td>\n",
       "      <td>...</td>\n",
       "      <td>...</td>\n",
       "      <td>...</td>\n",
       "    </tr>\n",
       "    <tr>\n",
       "      <th>gene_15792</th>\n",
       "      <td>10.610957</td>\n",
       "      <td>11.744283</td>\n",
       "      <td>14.652469</td>\n",
       "      <td>13.415587</td>\n",
       "      <td>8.647777</td>\n",
       "    </tr>\n",
       "    <tr>\n",
       "      <th>gene_14645</th>\n",
       "      <td>10.523550</td>\n",
       "      <td>9.657407</td>\n",
       "      <td>9.848016</td>\n",
       "      <td>10.905916</td>\n",
       "      <td>9.864242</td>\n",
       "    </tr>\n",
       "    <tr>\n",
       "      <th>gene_6531</th>\n",
       "      <td>2.406728</td>\n",
       "      <td>2.969983</td>\n",
       "      <td>0.732681</td>\n",
       "      <td>2.153959</td>\n",
       "      <td>2.159942</td>\n",
       "    </tr>\n",
       "    <tr>\n",
       "      <th>gene_9353</th>\n",
       "      <td>0.049286</td>\n",
       "      <td>0.000000</td>\n",
       "      <td>0.071032</td>\n",
       "      <td>0.064875</td>\n",
       "      <td>0.064964</td>\n",
       "    </tr>\n",
       "    <tr>\n",
       "      <th>gene_5707</th>\n",
       "      <td>11.127975</td>\n",
       "      <td>10.593237</td>\n",
       "      <td>9.887002</td>\n",
       "      <td>9.906431</td>\n",
       "      <td>9.796912</td>\n",
       "    </tr>\n",
       "  </tbody>\n",
       "</table>\n",
       "<p>200 rows × 5 columns</p>\n",
       "</div>"
      ],
      "text/plain": [
       "Class            BRCA       COAD       KIRC       LUAD       PRAD\n",
       "gene_212     8.191377   9.322849   8.473490   8.520590   8.811184\n",
       "gene_5246    6.070574   5.552432   5.892936   5.605171   6.250860\n",
       "gene_525    11.329820  11.072090  10.976806  11.039549  11.544546\n",
       "gene_12494   0.001618   0.006289   0.122659   0.000000   0.027925\n",
       "gene_15897   2.899252   4.308109   0.950528  13.639469   9.619839\n",
       "...               ...        ...        ...        ...        ...\n",
       "gene_15792  10.610957  11.744283  14.652469  13.415587   8.647777\n",
       "gene_14645  10.523550   9.657407   9.848016  10.905916   9.864242\n",
       "gene_6531    2.406728   2.969983   0.732681   2.153959   2.159942\n",
       "gene_9353    0.049286   0.000000   0.071032   0.064875   0.064964\n",
       "gene_5707   11.127975  10.593237   9.887002   9.906431   9.796912\n",
       "\n",
       "[200 rows x 5 columns]"
      ]
     },
     "execution_count": 30,
     "metadata": {},
     "output_type": "execute_result"
    }
   ],
   "source": [
    "tr_df_sampled = tr_df.sample(n = 200)\n",
    "tr_df_sampled"
   ]
  },
  {
   "cell_type": "code",
   "execution_count": 31,
   "id": "768ceedb",
   "metadata": {},
   "outputs": [
    {
     "data": {
      "text/plain": [
       "(200, 5)"
      ]
     },
     "execution_count": 31,
     "metadata": {},
     "output_type": "execute_result"
    }
   ],
   "source": [
    "tr_df_sampled.shape"
   ]
  },
  {
   "cell_type": "code",
   "execution_count": 32,
   "id": "bd584144",
   "metadata": {},
   "outputs": [],
   "source": [
    "samp_mean_BRCA = tr_df_sampled['BRCA'].mean()"
   ]
  },
  {
   "cell_type": "code",
   "execution_count": 33,
   "id": "1d157258",
   "metadata": {},
   "outputs": [],
   "source": [
    "samp_mean_COAD = tr_df_sampled['COAD'].mean()"
   ]
  },
  {
   "cell_type": "code",
   "execution_count": 34,
   "id": "bb4a9d60",
   "metadata": {},
   "outputs": [],
   "source": [
    "samp_mean_KIRC = tr_df_sampled['KIRC'].mean()"
   ]
  },
  {
   "cell_type": "code",
   "execution_count": 35,
   "id": "576d825e",
   "metadata": {},
   "outputs": [],
   "source": [
    "samp_mean_LUAD = tr_df_sampled['LUAD'].mean() "
   ]
  },
  {
   "cell_type": "code",
   "execution_count": 36,
   "id": "f34a308d",
   "metadata": {},
   "outputs": [],
   "source": [
    "samp_mean_PRAD = tr_df_sampled['PRAD'].mean()"
   ]
  },
  {
   "cell_type": "code",
   "execution_count": 37,
   "id": "1dbf8745",
   "metadata": {},
   "outputs": [],
   "source": [
    "from scipy.stats import ttest_1samp"
   ]
  },
  {
   "cell_type": "code",
   "execution_count": 38,
   "id": "7ca52fab",
   "metadata": {},
   "outputs": [
    {
     "data": {
      "text/plain": [
       "gene_212       8.191377\n",
       "gene_5246      6.070574\n",
       "gene_525      11.329820\n",
       "gene_12494     0.001618\n",
       "gene_15897     2.899252\n",
       "                ...    \n",
       "gene_15792    10.610957\n",
       "gene_14645    10.523550\n",
       "gene_6531      2.406728\n",
       "gene_9353      0.049286\n",
       "gene_5707     11.127975\n",
       "Name: BRCA, Length: 200, dtype: float64"
      ]
     },
     "execution_count": 38,
     "metadata": {},
     "output_type": "execute_result"
    }
   ],
   "source": [
    "tr_df_sampled['BRCA']"
   ]
  },
  {
   "cell_type": "code",
   "execution_count": 39,
   "id": "fba98449",
   "metadata": {},
   "outputs": [],
   "source": [
    "# checking if BRCA cancer types belong to the population or not "
   ]
  },
  {
   "cell_type": "code",
   "execution_count": 40,
   "id": "90487585",
   "metadata": {},
   "outputs": [],
   "source": [
    "t_stat1,p_val1=ttest_1samp(tr_df_sampled['BRCA'],popul_mean_BRCA)"
   ]
  },
  {
   "cell_type": "code",
   "execution_count": 41,
   "id": "dc127bba",
   "metadata": {},
   "outputs": [
    {
     "data": {
      "text/plain": [
       "0.6952712275819097"
      ]
     },
     "execution_count": 41,
     "metadata": {},
     "output_type": "execute_result"
    }
   ],
   "source": [
    "p_val1"
   ]
  },
  {
   "cell_type": "code",
   "execution_count": 42,
   "id": "4127f9f7",
   "metadata": {},
   "outputs": [],
   "source": [
    "t_stat2,p_val2=ttest_1samp(tr_df_sampled['COAD'],popul_mean_COAD)"
   ]
  },
  {
   "cell_type": "code",
   "execution_count": 43,
   "id": "ee41c271",
   "metadata": {},
   "outputs": [
    {
     "data": {
      "text/plain": [
       "0.698356732056427"
      ]
     },
     "execution_count": 43,
     "metadata": {},
     "output_type": "execute_result"
    }
   ],
   "source": [
    "p_val2"
   ]
  },
  {
   "cell_type": "code",
   "execution_count": 44,
   "id": "8e3f337b",
   "metadata": {},
   "outputs": [],
   "source": [
    "t_stat3,p_val3=ttest_1samp(tr_df_sampled['KIRC'],popul_mean_KIRC)"
   ]
  },
  {
   "cell_type": "code",
   "execution_count": 45,
   "id": "4f39947c",
   "metadata": {},
   "outputs": [
    {
     "data": {
      "text/plain": [
       "0.9333540262428285"
      ]
     },
     "execution_count": 45,
     "metadata": {},
     "output_type": "execute_result"
    }
   ],
   "source": [
    "p_val3"
   ]
  },
  {
   "cell_type": "code",
   "execution_count": 46,
   "id": "698cc509",
   "metadata": {},
   "outputs": [],
   "source": [
    "t_stat4,p_val4=ttest_1samp(tr_df_sampled['LUAD'],popul_mean_LUAD)"
   ]
  },
  {
   "cell_type": "code",
   "execution_count": 47,
   "id": "48f53ebe",
   "metadata": {},
   "outputs": [
    {
     "data": {
      "text/plain": [
       "0.9732880823773677"
      ]
     },
     "execution_count": 47,
     "metadata": {},
     "output_type": "execute_result"
    }
   ],
   "source": [
    "p_val4"
   ]
  },
  {
   "cell_type": "code",
   "execution_count": 48,
   "id": "43220f19",
   "metadata": {},
   "outputs": [],
   "source": [
    "t_stat5,p_val5=ttest_1samp(tr_df_sampled['PRAD'],popul_mean_PRAD)"
   ]
  },
  {
   "cell_type": "code",
   "execution_count": 49,
   "id": "8d959680",
   "metadata": {},
   "outputs": [
    {
     "data": {
      "text/plain": [
       "0.9246696633572932"
      ]
     },
     "execution_count": 49,
     "metadata": {},
     "output_type": "execute_result"
    }
   ],
   "source": [
    "p_val5"
   ]
  },
  {
   "cell_type": "markdown",
   "id": "320ef834",
   "metadata": {},
   "source": [
    "## Dimensionality Reduction"
   ]
  },
  {
   "cell_type": "markdown",
   "id": "ae529e67",
   "metadata": {},
   "source": [
    "##### pca"
   ]
  },
  {
   "cell_type": "code",
   "execution_count": 50,
   "id": "62f58dd5",
   "metadata": {},
   "outputs": [
    {
     "data": {
      "text/html": [
       "<div>\n",
       "<style scoped>\n",
       "    .dataframe tbody tr th:only-of-type {\n",
       "        vertical-align: middle;\n",
       "    }\n",
       "\n",
       "    .dataframe tbody tr th {\n",
       "        vertical-align: top;\n",
       "    }\n",
       "\n",
       "    .dataframe thead th {\n",
       "        text-align: right;\n",
       "    }\n",
       "</style>\n",
       "<table border=\"1\" class=\"dataframe\">\n",
       "  <thead>\n",
       "    <tr style=\"text-align: right;\">\n",
       "      <th></th>\n",
       "      <th>gene_0</th>\n",
       "      <th>gene_1</th>\n",
       "      <th>gene_2</th>\n",
       "      <th>gene_3</th>\n",
       "      <th>gene_4</th>\n",
       "      <th>gene_5</th>\n",
       "      <th>gene_6</th>\n",
       "      <th>gene_7</th>\n",
       "      <th>gene_8</th>\n",
       "      <th>gene_9</th>\n",
       "      <th>...</th>\n",
       "      <th>gene_20522</th>\n",
       "      <th>gene_20523</th>\n",
       "      <th>gene_20524</th>\n",
       "      <th>gene_20525</th>\n",
       "      <th>gene_20526</th>\n",
       "      <th>gene_20527</th>\n",
       "      <th>gene_20528</th>\n",
       "      <th>gene_20529</th>\n",
       "      <th>gene_20530</th>\n",
       "      <th>Class</th>\n",
       "    </tr>\n",
       "  </thead>\n",
       "  <tbody>\n",
       "    <tr>\n",
       "      <th>0</th>\n",
       "      <td>0.0</td>\n",
       "      <td>2.017209</td>\n",
       "      <td>3.265527</td>\n",
       "      <td>5.478487</td>\n",
       "      <td>10.431999</td>\n",
       "      <td>0.0</td>\n",
       "      <td>7.175175</td>\n",
       "      <td>0.591871</td>\n",
       "      <td>0.0</td>\n",
       "      <td>0.0</td>\n",
       "      <td>...</td>\n",
       "      <td>8.210257</td>\n",
       "      <td>9.723516</td>\n",
       "      <td>7.220030</td>\n",
       "      <td>9.119813</td>\n",
       "      <td>12.003135</td>\n",
       "      <td>9.650743</td>\n",
       "      <td>8.921326</td>\n",
       "      <td>5.286759</td>\n",
       "      <td>0.0</td>\n",
       "      <td>PRAD</td>\n",
       "    </tr>\n",
       "    <tr>\n",
       "      <th>1</th>\n",
       "      <td>0.0</td>\n",
       "      <td>0.592732</td>\n",
       "      <td>1.588421</td>\n",
       "      <td>7.586157</td>\n",
       "      <td>9.623011</td>\n",
       "      <td>0.0</td>\n",
       "      <td>6.816049</td>\n",
       "      <td>0.000000</td>\n",
       "      <td>0.0</td>\n",
       "      <td>0.0</td>\n",
       "      <td>...</td>\n",
       "      <td>7.323865</td>\n",
       "      <td>9.740931</td>\n",
       "      <td>6.256586</td>\n",
       "      <td>8.381612</td>\n",
       "      <td>12.674552</td>\n",
       "      <td>10.517059</td>\n",
       "      <td>9.397854</td>\n",
       "      <td>2.094168</td>\n",
       "      <td>0.0</td>\n",
       "      <td>LUAD</td>\n",
       "    </tr>\n",
       "    <tr>\n",
       "      <th>2</th>\n",
       "      <td>0.0</td>\n",
       "      <td>3.511759</td>\n",
       "      <td>4.327199</td>\n",
       "      <td>6.881787</td>\n",
       "      <td>9.870730</td>\n",
       "      <td>0.0</td>\n",
       "      <td>6.972130</td>\n",
       "      <td>0.452595</td>\n",
       "      <td>0.0</td>\n",
       "      <td>0.0</td>\n",
       "      <td>...</td>\n",
       "      <td>8.127123</td>\n",
       "      <td>10.908640</td>\n",
       "      <td>5.401607</td>\n",
       "      <td>9.911597</td>\n",
       "      <td>9.045255</td>\n",
       "      <td>9.788359</td>\n",
       "      <td>10.090470</td>\n",
       "      <td>1.683023</td>\n",
       "      <td>0.0</td>\n",
       "      <td>PRAD</td>\n",
       "    </tr>\n",
       "    <tr>\n",
       "      <th>3</th>\n",
       "      <td>0.0</td>\n",
       "      <td>3.663618</td>\n",
       "      <td>4.507649</td>\n",
       "      <td>6.659068</td>\n",
       "      <td>10.196184</td>\n",
       "      <td>0.0</td>\n",
       "      <td>7.843375</td>\n",
       "      <td>0.434882</td>\n",
       "      <td>0.0</td>\n",
       "      <td>0.0</td>\n",
       "      <td>...</td>\n",
       "      <td>8.792959</td>\n",
       "      <td>10.141520</td>\n",
       "      <td>8.942805</td>\n",
       "      <td>9.601208</td>\n",
       "      <td>11.392682</td>\n",
       "      <td>9.694814</td>\n",
       "      <td>9.684365</td>\n",
       "      <td>3.292001</td>\n",
       "      <td>0.0</td>\n",
       "      <td>PRAD</td>\n",
       "    </tr>\n",
       "    <tr>\n",
       "      <th>4</th>\n",
       "      <td>0.0</td>\n",
       "      <td>2.655741</td>\n",
       "      <td>2.821547</td>\n",
       "      <td>6.539454</td>\n",
       "      <td>9.738265</td>\n",
       "      <td>0.0</td>\n",
       "      <td>6.566967</td>\n",
       "      <td>0.360982</td>\n",
       "      <td>0.0</td>\n",
       "      <td>0.0</td>\n",
       "      <td>...</td>\n",
       "      <td>8.891425</td>\n",
       "      <td>10.373790</td>\n",
       "      <td>7.181162</td>\n",
       "      <td>9.846910</td>\n",
       "      <td>11.922439</td>\n",
       "      <td>9.217749</td>\n",
       "      <td>9.461191</td>\n",
       "      <td>5.110372</td>\n",
       "      <td>0.0</td>\n",
       "      <td>BRCA</td>\n",
       "    </tr>\n",
       "  </tbody>\n",
       "</table>\n",
       "<p>5 rows × 20532 columns</p>\n",
       "</div>"
      ],
      "text/plain": [
       "   gene_0    gene_1    gene_2    gene_3     gene_4  gene_5    gene_6  \\\n",
       "0     0.0  2.017209  3.265527  5.478487  10.431999     0.0  7.175175   \n",
       "1     0.0  0.592732  1.588421  7.586157   9.623011     0.0  6.816049   \n",
       "2     0.0  3.511759  4.327199  6.881787   9.870730     0.0  6.972130   \n",
       "3     0.0  3.663618  4.507649  6.659068  10.196184     0.0  7.843375   \n",
       "4     0.0  2.655741  2.821547  6.539454   9.738265     0.0  6.566967   \n",
       "\n",
       "     gene_7  gene_8  gene_9  ...  gene_20522  gene_20523  gene_20524  \\\n",
       "0  0.591871     0.0     0.0  ...    8.210257    9.723516    7.220030   \n",
       "1  0.000000     0.0     0.0  ...    7.323865    9.740931    6.256586   \n",
       "2  0.452595     0.0     0.0  ...    8.127123   10.908640    5.401607   \n",
       "3  0.434882     0.0     0.0  ...    8.792959   10.141520    8.942805   \n",
       "4  0.360982     0.0     0.0  ...    8.891425   10.373790    7.181162   \n",
       "\n",
       "   gene_20525  gene_20526  gene_20527  gene_20528  gene_20529  gene_20530  \\\n",
       "0    9.119813   12.003135    9.650743    8.921326    5.286759         0.0   \n",
       "1    8.381612   12.674552   10.517059    9.397854    2.094168         0.0   \n",
       "2    9.911597    9.045255    9.788359   10.090470    1.683023         0.0   \n",
       "3    9.601208   11.392682    9.694814    9.684365    3.292001         0.0   \n",
       "4    9.846910   11.922439    9.217749    9.461191    5.110372         0.0   \n",
       "\n",
       "   Class  \n",
       "0   PRAD  \n",
       "1   LUAD  \n",
       "2   PRAD  \n",
       "3   PRAD  \n",
       "4   BRCA  \n",
       "\n",
       "[5 rows x 20532 columns]"
      ]
     },
     "execution_count": 50,
     "metadata": {},
     "output_type": "execute_result"
    }
   ],
   "source": [
    "df_1.head()"
   ]
  },
  {
   "cell_type": "code",
   "execution_count": 51,
   "id": "ae5e5173",
   "metadata": {},
   "outputs": [
    {
     "data": {
      "text/html": [
       "<div>\n",
       "<style scoped>\n",
       "    .dataframe tbody tr th:only-of-type {\n",
       "        vertical-align: middle;\n",
       "    }\n",
       "\n",
       "    .dataframe tbody tr th {\n",
       "        vertical-align: top;\n",
       "    }\n",
       "\n",
       "    .dataframe thead th {\n",
       "        text-align: right;\n",
       "    }\n",
       "</style>\n",
       "<table border=\"1\" class=\"dataframe\">\n",
       "  <thead>\n",
       "    <tr style=\"text-align: right;\">\n",
       "      <th></th>\n",
       "      <th>gene_0</th>\n",
       "      <th>gene_1</th>\n",
       "      <th>gene_2</th>\n",
       "      <th>gene_3</th>\n",
       "      <th>gene_4</th>\n",
       "      <th>gene_5</th>\n",
       "      <th>gene_6</th>\n",
       "      <th>gene_7</th>\n",
       "      <th>gene_8</th>\n",
       "      <th>gene_9</th>\n",
       "      <th>...</th>\n",
       "      <th>gene_20521</th>\n",
       "      <th>gene_20522</th>\n",
       "      <th>gene_20523</th>\n",
       "      <th>gene_20524</th>\n",
       "      <th>gene_20525</th>\n",
       "      <th>gene_20526</th>\n",
       "      <th>gene_20527</th>\n",
       "      <th>gene_20528</th>\n",
       "      <th>gene_20529</th>\n",
       "      <th>gene_20530</th>\n",
       "    </tr>\n",
       "  </thead>\n",
       "  <tbody>\n",
       "    <tr>\n",
       "      <th>0</th>\n",
       "      <td>0.0</td>\n",
       "      <td>2.017209</td>\n",
       "      <td>3.265527</td>\n",
       "      <td>5.478487</td>\n",
       "      <td>10.431999</td>\n",
       "      <td>0.0</td>\n",
       "      <td>7.175175</td>\n",
       "      <td>0.591871</td>\n",
       "      <td>0.0</td>\n",
       "      <td>0.0</td>\n",
       "      <td>...</td>\n",
       "      <td>4.926711</td>\n",
       "      <td>8.210257</td>\n",
       "      <td>9.723516</td>\n",
       "      <td>7.220030</td>\n",
       "      <td>9.119813</td>\n",
       "      <td>12.003135</td>\n",
       "      <td>9.650743</td>\n",
       "      <td>8.921326</td>\n",
       "      <td>5.286759</td>\n",
       "      <td>0.0</td>\n",
       "    </tr>\n",
       "    <tr>\n",
       "      <th>1</th>\n",
       "      <td>0.0</td>\n",
       "      <td>0.592732</td>\n",
       "      <td>1.588421</td>\n",
       "      <td>7.586157</td>\n",
       "      <td>9.623011</td>\n",
       "      <td>0.0</td>\n",
       "      <td>6.816049</td>\n",
       "      <td>0.000000</td>\n",
       "      <td>0.0</td>\n",
       "      <td>0.0</td>\n",
       "      <td>...</td>\n",
       "      <td>4.593372</td>\n",
       "      <td>7.323865</td>\n",
       "      <td>9.740931</td>\n",
       "      <td>6.256586</td>\n",
       "      <td>8.381612</td>\n",
       "      <td>12.674552</td>\n",
       "      <td>10.517059</td>\n",
       "      <td>9.397854</td>\n",
       "      <td>2.094168</td>\n",
       "      <td>0.0</td>\n",
       "    </tr>\n",
       "    <tr>\n",
       "      <th>2</th>\n",
       "      <td>0.0</td>\n",
       "      <td>3.511759</td>\n",
       "      <td>4.327199</td>\n",
       "      <td>6.881787</td>\n",
       "      <td>9.870730</td>\n",
       "      <td>0.0</td>\n",
       "      <td>6.972130</td>\n",
       "      <td>0.452595</td>\n",
       "      <td>0.0</td>\n",
       "      <td>0.0</td>\n",
       "      <td>...</td>\n",
       "      <td>5.125213</td>\n",
       "      <td>8.127123</td>\n",
       "      <td>10.908640</td>\n",
       "      <td>5.401607</td>\n",
       "      <td>9.911597</td>\n",
       "      <td>9.045255</td>\n",
       "      <td>9.788359</td>\n",
       "      <td>10.090470</td>\n",
       "      <td>1.683023</td>\n",
       "      <td>0.0</td>\n",
       "    </tr>\n",
       "    <tr>\n",
       "      <th>3</th>\n",
       "      <td>0.0</td>\n",
       "      <td>3.663618</td>\n",
       "      <td>4.507649</td>\n",
       "      <td>6.659068</td>\n",
       "      <td>10.196184</td>\n",
       "      <td>0.0</td>\n",
       "      <td>7.843375</td>\n",
       "      <td>0.434882</td>\n",
       "      <td>0.0</td>\n",
       "      <td>0.0</td>\n",
       "      <td>...</td>\n",
       "      <td>6.076566</td>\n",
       "      <td>8.792959</td>\n",
       "      <td>10.141520</td>\n",
       "      <td>8.942805</td>\n",
       "      <td>9.601208</td>\n",
       "      <td>11.392682</td>\n",
       "      <td>9.694814</td>\n",
       "      <td>9.684365</td>\n",
       "      <td>3.292001</td>\n",
       "      <td>0.0</td>\n",
       "    </tr>\n",
       "    <tr>\n",
       "      <th>4</th>\n",
       "      <td>0.0</td>\n",
       "      <td>2.655741</td>\n",
       "      <td>2.821547</td>\n",
       "      <td>6.539454</td>\n",
       "      <td>9.738265</td>\n",
       "      <td>0.0</td>\n",
       "      <td>6.566967</td>\n",
       "      <td>0.360982</td>\n",
       "      <td>0.0</td>\n",
       "      <td>0.0</td>\n",
       "      <td>...</td>\n",
       "      <td>5.996032</td>\n",
       "      <td>8.891425</td>\n",
       "      <td>10.373790</td>\n",
       "      <td>7.181162</td>\n",
       "      <td>9.846910</td>\n",
       "      <td>11.922439</td>\n",
       "      <td>9.217749</td>\n",
       "      <td>9.461191</td>\n",
       "      <td>5.110372</td>\n",
       "      <td>0.0</td>\n",
       "    </tr>\n",
       "  </tbody>\n",
       "</table>\n",
       "<p>5 rows × 20531 columns</p>\n",
       "</div>"
      ],
      "text/plain": [
       "   gene_0    gene_1    gene_2    gene_3     gene_4  gene_5    gene_6  \\\n",
       "0     0.0  2.017209  3.265527  5.478487  10.431999     0.0  7.175175   \n",
       "1     0.0  0.592732  1.588421  7.586157   9.623011     0.0  6.816049   \n",
       "2     0.0  3.511759  4.327199  6.881787   9.870730     0.0  6.972130   \n",
       "3     0.0  3.663618  4.507649  6.659068  10.196184     0.0  7.843375   \n",
       "4     0.0  2.655741  2.821547  6.539454   9.738265     0.0  6.566967   \n",
       "\n",
       "     gene_7  gene_8  gene_9  ...  gene_20521  gene_20522  gene_20523  \\\n",
       "0  0.591871     0.0     0.0  ...    4.926711    8.210257    9.723516   \n",
       "1  0.000000     0.0     0.0  ...    4.593372    7.323865    9.740931   \n",
       "2  0.452595     0.0     0.0  ...    5.125213    8.127123   10.908640   \n",
       "3  0.434882     0.0     0.0  ...    6.076566    8.792959   10.141520   \n",
       "4  0.360982     0.0     0.0  ...    5.996032    8.891425   10.373790   \n",
       "\n",
       "   gene_20524  gene_20525  gene_20526  gene_20527  gene_20528  gene_20529  \\\n",
       "0    7.220030    9.119813   12.003135    9.650743    8.921326    5.286759   \n",
       "1    6.256586    8.381612   12.674552   10.517059    9.397854    2.094168   \n",
       "2    5.401607    9.911597    9.045255    9.788359   10.090470    1.683023   \n",
       "3    8.942805    9.601208   11.392682    9.694814    9.684365    3.292001   \n",
       "4    7.181162    9.846910   11.922439    9.217749    9.461191    5.110372   \n",
       "\n",
       "   gene_20530  \n",
       "0         0.0  \n",
       "1         0.0  \n",
       "2         0.0  \n",
       "3         0.0  \n",
       "4         0.0  \n",
       "\n",
       "[5 rows x 20531 columns]"
      ]
     },
     "execution_count": 51,
     "metadata": {},
     "output_type": "execute_result"
    }
   ],
   "source": [
    "# dividing the data into X(independent) and Y (dependent var)\n",
    "\n",
    "\n",
    "X = df_1.drop('Class',axis = 1)\n",
    "X.head()"
   ]
  },
  {
   "cell_type": "code",
   "execution_count": 52,
   "id": "40fb8b9b",
   "metadata": {},
   "outputs": [],
   "source": [
    "y = df_1['Class']"
   ]
  },
  {
   "cell_type": "code",
   "execution_count": 53,
   "id": "44cbf8be",
   "metadata": {},
   "outputs": [
    {
     "data": {
      "text/plain": [
       "0    PRAD\n",
       "1    LUAD\n",
       "2    PRAD\n",
       "3    PRAD\n",
       "4    BRCA\n",
       "Name: Class, dtype: object"
      ]
     },
     "execution_count": 53,
     "metadata": {},
     "output_type": "execute_result"
    }
   ],
   "source": [
    "y.head()"
   ]
  },
  {
   "cell_type": "code",
   "execution_count": 54,
   "id": "c588c395",
   "metadata": {},
   "outputs": [
    {
     "data": {
      "text/plain": [
       "array(['PRAD', 'LUAD', 'BRCA', 'KIRC', 'COAD'], dtype=object)"
      ]
     },
     "execution_count": 54,
     "metadata": {},
     "output_type": "execute_result"
    }
   ],
   "source": [
    "y.unique()"
   ]
  },
  {
   "cell_type": "code",
   "execution_count": 55,
   "id": "199a0544",
   "metadata": {},
   "outputs": [
    {
     "data": {
      "text/plain": [
       "LabelEncoder()"
      ]
     },
     "execution_count": 55,
     "metadata": {},
     "output_type": "execute_result"
    }
   ],
   "source": [
    "# in the model, converting the values to categorical\n",
    "\n",
    "from sklearn.preprocessing import LabelEncoder\n",
    "\n",
    "le = LabelEncoder()\n",
    "le"
   ]
  },
  {
   "cell_type": "code",
   "execution_count": 56,
   "id": "164f8034",
   "metadata": {},
   "outputs": [],
   "source": [
    "# fitting and transforming the values for y\n",
    "\n",
    "y = le.fit_transform(y)"
   ]
  },
  {
   "cell_type": "code",
   "execution_count": 57,
   "id": "c6a4fc4d",
   "metadata": {},
   "outputs": [
    {
     "data": {
      "text/plain": [
       "array([4, 3, 4, 4, 0])"
      ]
     },
     "execution_count": 57,
     "metadata": {},
     "output_type": "execute_result"
    }
   ],
   "source": [
    "# 0-BRCA  4- PRAD\n",
    "\n",
    "y[:5] "
   ]
  },
  {
   "cell_type": "code",
   "execution_count": 58,
   "id": "c121f986",
   "metadata": {},
   "outputs": [
    {
     "data": {
      "text/plain": [
       "StandardScaler()"
      ]
     },
     "execution_count": 58,
     "metadata": {},
     "output_type": "execute_result"
    }
   ],
   "source": [
    "# scaling the features for X\n",
    "\n",
    "from sklearn.preprocessing import StandardScaler\n",
    "\n",
    "sc = StandardScaler()\n",
    "sc"
   ]
  },
  {
   "cell_type": "code",
   "execution_count": 59,
   "id": "5f897e52",
   "metadata": {},
   "outputs": [],
   "source": [
    "X = sc.fit_transform(X)"
   ]
  },
  {
   "cell_type": "code",
   "execution_count": 60,
   "id": "23479d8b",
   "metadata": {},
   "outputs": [
    {
     "data": {
      "text/plain": [
       "array([[-0.19479935, -0.82802988,  0.15980044, ..., -1.18793812,\n",
       "        -0.11648251, -0.26190144],\n",
       "       [-0.19479935, -2.01501735, -1.415042  , ..., -0.34227662,\n",
       "        -1.65688871, -0.26190144],\n",
       "       [-0.19479935,  0.41734754,  1.15673547, ...,  0.88686027,\n",
       "        -1.85526414, -0.26190144],\n",
       "       [-0.19479935,  0.54388843,  1.32618236, ...,  0.16617359,\n",
       "        -1.07894144, -0.26190144],\n",
       "       [-0.19479935, -0.29595452, -0.25710728, ..., -0.22987755,\n",
       "        -0.20158849, -0.26190144]])"
      ]
     },
     "execution_count": 60,
     "metadata": {},
     "output_type": "execute_result"
    }
   ],
   "source": [
    "X[:5]"
   ]
  },
  {
   "cell_type": "code",
   "execution_count": 61,
   "id": "b482deab",
   "metadata": {},
   "outputs": [
    {
     "data": {
      "text/plain": [
       "(801, 20531)"
      ]
     },
     "execution_count": 61,
     "metadata": {},
     "output_type": "execute_result"
    }
   ],
   "source": [
    "X.shape"
   ]
  },
  {
   "cell_type": "code",
   "execution_count": 62,
   "id": "fd687117",
   "metadata": {},
   "outputs": [
    {
     "data": {
      "text/plain": [
       "PCA()"
      ]
     },
     "execution_count": 62,
     "metadata": {},
     "output_type": "execute_result"
    }
   ],
   "source": [
    "# PCA class\n",
    "\n",
    "from sklearn.decomposition import PCA\n",
    "\n",
    "pca = PCA()\n",
    "pca"
   ]
  },
  {
   "cell_type": "code",
   "execution_count": 63,
   "id": "355df893",
   "metadata": {},
   "outputs": [],
   "source": [
    "pca_model = pca.fit_transform(X)"
   ]
  },
  {
   "cell_type": "code",
   "execution_count": 64,
   "id": "eb6a0a2c",
   "metadata": {},
   "outputs": [
    {
     "data": {
      "text/plain": [
       "(801, 801)"
      ]
     },
     "execution_count": 64,
     "metadata": {},
     "output_type": "execute_result"
    }
   ],
   "source": [
    "pca_model.shape"
   ]
  },
  {
   "cell_type": "code",
   "execution_count": 65,
   "id": "09944496",
   "metadata": {},
   "outputs": [],
   "source": [
    "pd.DataFrame(pca_model).to_csv('PCA_model_columns.csv')"
   ]
  },
  {
   "cell_type": "markdown",
   "id": "87c107ab",
   "metadata": {},
   "source": [
    "##### Linear Discriminant Analysis"
   ]
  },
  {
   "cell_type": "code",
   "execution_count": 66,
   "id": "7a447a6a",
   "metadata": {},
   "outputs": [],
   "source": [
    "from sklearn.discriminant_analysis import LinearDiscriminantAnalysis\n",
    "\n",
    "lda = LinearDiscriminantAnalysis()"
   ]
  },
  {
   "cell_type": "code",
   "execution_count": 67,
   "id": "cebaa087",
   "metadata": {},
   "outputs": [],
   "source": [
    "# applying LDA on X\n",
    "\n",
    "lda_X = lda.fit_transform(X,y) "
   ]
  },
  {
   "cell_type": "code",
   "execution_count": 68,
   "id": "c1f7fc5f",
   "metadata": {},
   "outputs": [
    {
     "data": {
      "text/plain": [
       "(801, 4)"
      ]
     },
     "execution_count": 68,
     "metadata": {},
     "output_type": "execute_result"
    }
   ],
   "source": [
    "lda_X.shape # dimn reduced from 20 k to 4"
   ]
  },
  {
   "cell_type": "markdown",
   "id": "d3c2925c",
   "metadata": {},
   "source": [
    "##### T-SNE( t distributed stochastic neighbouring entities)\n"
   ]
  },
  {
   "cell_type": "code",
   "execution_count": 69,
   "id": "c792d637",
   "metadata": {},
   "outputs": [],
   "source": [
    "\n",
    "from sklearn.manifold import TSNE\n",
    "\n",
    "tsne = TSNE(verbose=True, random_state= 1 )"
   ]
  },
  {
   "cell_type": "code",
   "execution_count": 70,
   "id": "d60b5a35",
   "metadata": {},
   "outputs": [
    {
     "name": "stderr",
     "output_type": "stream",
     "text": [
      "F:\\Anaconda\\lib\\site-packages\\sklearn\\manifold\\_t_sne.py:780: FutureWarning: The default initialization in TSNE will change from 'random' to 'pca' in 1.2.\n",
      "  warnings.warn(\n",
      "F:\\Anaconda\\lib\\site-packages\\sklearn\\manifold\\_t_sne.py:790: FutureWarning: The default learning rate in TSNE will change from 200.0 to 'auto' in 1.2.\n",
      "  warnings.warn(\n"
     ]
    },
    {
     "name": "stdout",
     "output_type": "stream",
     "text": [
      "[t-SNE] Computing 91 nearest neighbors...\n",
      "[t-SNE] Indexed 801 samples in 0.023s...\n",
      "[t-SNE] Computed neighbors for 801 samples in 0.222s...\n",
      "[t-SNE] Computed conditional probabilities for sample 801 / 801\n",
      "[t-SNE] Mean sigma: 40.641029\n",
      "[t-SNE] KL divergence after 250 iterations with early exaggeration: 69.292488\n",
      "[t-SNE] KL divergence after 1000 iterations: 0.827223\n"
     ]
    }
   ],
   "source": [
    "# applying this class on X\n",
    "\n",
    "tsne_model = tsne.fit_transform(X)"
   ]
  },
  {
   "cell_type": "code",
   "execution_count": 71,
   "id": "42efbe1d",
   "metadata": {},
   "outputs": [
    {
     "data": {
      "text/plain": [
       "(801, 2)"
      ]
     },
     "execution_count": 71,
     "metadata": {},
     "output_type": "execute_result"
    }
   ],
   "source": [
    "tsne_model.shape # from 4 to 2 after t-sne"
   ]
  },
  {
   "cell_type": "code",
   "execution_count": 72,
   "id": "a2c7d5f3",
   "metadata": {},
   "outputs": [],
   "source": [
    "pd.DataFrame(tsne_model).to_csv('tsne_model.csv')"
   ]
  },
  {
   "cell_type": "markdown",
   "id": "31080b98",
   "metadata": {},
   "source": [
    "## Clustering Genes and Samples"
   ]
  },
  {
   "cell_type": "code",
   "execution_count": 73,
   "id": "949fbb86",
   "metadata": {},
   "outputs": [
    {
     "data": {
      "text/html": [
       "<div>\n",
       "<style scoped>\n",
       "    .dataframe tbody tr th:only-of-type {\n",
       "        vertical-align: middle;\n",
       "    }\n",
       "\n",
       "    .dataframe tbody tr th {\n",
       "        vertical-align: top;\n",
       "    }\n",
       "\n",
       "    .dataframe thead th {\n",
       "        text-align: right;\n",
       "    }\n",
       "</style>\n",
       "<table border=\"1\" class=\"dataframe\">\n",
       "  <thead>\n",
       "    <tr style=\"text-align: right;\">\n",
       "      <th></th>\n",
       "      <th>0</th>\n",
       "      <th>1</th>\n",
       "    </tr>\n",
       "  </thead>\n",
       "  <tbody>\n",
       "    <tr>\n",
       "      <th>0</th>\n",
       "      <td>4.364812</td>\n",
       "      <td>27.364166</td>\n",
       "    </tr>\n",
       "    <tr>\n",
       "      <th>1</th>\n",
       "      <td>15.797206</td>\n",
       "      <td>-3.433955</td>\n",
       "    </tr>\n",
       "    <tr>\n",
       "      <th>2</th>\n",
       "      <td>12.052662</td>\n",
       "      <td>38.397358</td>\n",
       "    </tr>\n",
       "    <tr>\n",
       "      <th>3</th>\n",
       "      <td>14.622668</td>\n",
       "      <td>35.073730</td>\n",
       "    </tr>\n",
       "    <tr>\n",
       "      <th>4</th>\n",
       "      <td>-15.710217</td>\n",
       "      <td>4.416759</td>\n",
       "    </tr>\n",
       "  </tbody>\n",
       "</table>\n",
       "</div>"
      ],
      "text/plain": [
       "           0          1\n",
       "0   4.364812  27.364166\n",
       "1  15.797206  -3.433955\n",
       "2  12.052662  38.397358\n",
       "3  14.622668  35.073730\n",
       "4 -15.710217   4.416759"
      ]
     },
     "execution_count": 73,
     "metadata": {},
     "output_type": "execute_result"
    }
   ],
   "source": [
    "kmeans_data=pd.DataFrame(tsne_model)\n",
    "kmeans_data.head()"
   ]
  },
  {
   "cell_type": "code",
   "execution_count": 74,
   "id": "3004b16c",
   "metadata": {},
   "outputs": [],
   "source": [
    "from sklearn.cluster import KMeans\n",
    "kmeans_model = KMeans(n_clusters= 5)"
   ]
  },
  {
   "cell_type": "code",
   "execution_count": 75,
   "id": "994c3b0a",
   "metadata": {},
   "outputs": [
    {
     "data": {
      "text/plain": [
       "KMeans(n_clusters=5)"
      ]
     },
     "execution_count": 75,
     "metadata": {},
     "output_type": "execute_result"
    }
   ],
   "source": [
    "kmeans_model.fit(kmeans_data)"
   ]
  },
  {
   "cell_type": "code",
   "execution_count": 76,
   "id": "4a10745d",
   "metadata": {},
   "outputs": [
    {
     "data": {
      "text/plain": [
       "array([2, 1, 2, 2, 3, 2, 0, 2, 3, 2, 3, 0, 2, 3, 3, 3, 1, 0, 0, 2, 3, 0,\n",
       "       1, 3, 0, 1, 4, 3, 3, 3, 3, 3, 0, 3, 2, 3, 0, 1, 3, 3, 0, 2, 2, 0,\n",
       "       0, 3, 2, 4, 3, 1, 3, 1, 3, 2, 4, 3, 3, 4, 0, 3, 1, 0, 3, 1, 2, 4,\n",
       "       3, 2, 0, 3, 0, 3, 3, 1, 3, 1, 3, 0, 2, 4, 3, 2, 3, 3, 2, 2, 3, 3,\n",
       "       0, 3, 2, 2, 3, 3, 3, 2, 4, 3, 2, 3, 3, 0, 3, 0, 1, 0, 1, 4, 1, 1,\n",
       "       2, 3, 1, 2, 3, 0, 0, 0, 3, 3, 1, 0, 1, 3, 2, 2, 2, 3, 0, 1, 4, 3,\n",
       "       4, 3, 3, 0, 1, 3, 0, 4, 3, 2, 3, 0, 1, 4, 2, 3, 1, 1, 1, 1, 3, 3,\n",
       "       1, 3, 3, 2, 2, 1, 2, 1, 0, 3, 2, 1, 4, 0, 1, 3, 0, 1, 3, 1, 3, 3,\n",
       "       3, 2, 3, 0, 4, 0, 3, 2, 2, 2, 1, 1, 3, 4, 1, 0, 1, 2, 1, 3, 3, 3,\n",
       "       1, 1, 3, 0, 0, 0, 0, 2, 3, 2, 3, 1, 1, 3, 2, 3, 2, 3, 3, 3, 1, 3,\n",
       "       0, 1, 0, 0, 1, 3, 0, 2, 3, 1, 1, 2, 4, 3, 0, 2, 0, 4, 3, 0, 0, 1,\n",
       "       2, 2, 1, 1, 0, 3, 3, 4, 3, 2, 4, 3, 2, 0, 2, 2, 2, 3, 4, 4, 1, 4,\n",
       "       4, 2, 1, 3, 3, 0, 0, 3, 4, 2, 0, 2, 3, 3, 0, 3, 3, 3, 3, 1, 1, 3,\n",
       "       3, 3, 0, 0, 0, 0, 3, 3, 3, 0, 3, 3, 1, 2, 3, 3, 4, 1, 2, 3, 3, 3,\n",
       "       4, 3, 2, 3, 4, 1, 1, 2, 0, 3, 0, 0, 3, 4, 0, 3, 3, 3, 3, 0, 3, 3,\n",
       "       2, 3, 0, 3, 1, 2, 0, 3, 2, 4, 3, 3, 3, 1, 1, 1, 3, 3, 2, 1, 3, 0,\n",
       "       3, 4, 4, 1, 3, 0, 3, 3, 3, 4, 1, 4, 0, 2, 0, 3, 3, 0, 3, 4, 2, 1,\n",
       "       2, 3, 0, 2, 3, 4, 0, 0, 4, 4, 2, 3, 3, 4, 0, 3, 2, 3, 3, 3, 1, 1,\n",
       "       0, 1, 3, 0, 4, 2, 3, 1, 2, 3, 3, 3, 1, 3, 3, 2, 3, 2, 4, 3, 1, 3,\n",
       "       3, 1, 3, 3, 3, 0, 1, 2, 3, 2, 0, 3, 0, 4, 3, 2, 1, 0, 3, 3, 0, 3,\n",
       "       1, 3, 3, 2, 4, 3, 0, 1, 2, 3, 2, 3, 3, 3, 3, 0, 1, 3, 0, 3, 3, 1,\n",
       "       1, 0, 4, 2, 4, 3, 0, 0, 3, 2, 0, 4, 1, 1, 3, 2, 2, 3, 2, 1, 0, 2,\n",
       "       3, 1, 2, 1, 3, 3, 4, 1, 0, 4, 1, 3, 2, 3, 3, 2, 3, 4, 3, 4, 0, 3,\n",
       "       3, 1, 1, 1, 4, 0, 1, 1, 3, 3, 0, 2, 1, 2, 3, 0, 3, 0, 0, 2, 2, 1,\n",
       "       3, 0, 4, 4, 3, 0, 0, 3, 3, 2, 0, 4, 3, 3, 4, 1, 3, 3, 3, 0, 2, 1,\n",
       "       1, 3, 0, 4, 0, 0, 3, 2, 1, 0, 3, 4, 1, 1, 1, 2, 1, 0, 3, 3, 4, 2,\n",
       "       3, 3, 3, 0, 1, 1, 3, 2, 1, 1, 3, 0, 2, 4, 1, 2, 4, 1, 4, 0, 0, 3,\n",
       "       3, 0, 0, 4, 3, 1, 2, 2, 0, 3, 1, 3, 3, 4, 3, 2, 2, 3, 3, 4, 3, 0,\n",
       "       3, 3, 4, 3, 2, 3, 3, 0, 2, 1, 3, 3, 0, 3, 3, 3, 3, 3, 4, 1, 1, 3,\n",
       "       3, 3, 2, 3, 3, 0, 1, 1, 0, 0, 1, 0, 4, 3, 4, 0, 3, 3, 2, 2, 2, 1,\n",
       "       2, 2, 4, 3, 3, 4, 1, 0, 3, 0, 4, 3, 3, 3, 2, 1, 0, 3, 2, 0, 2, 3,\n",
       "       1, 0, 2, 1, 2, 2, 3, 0, 2, 1, 4, 4, 3, 3, 3, 1, 0, 0, 0, 3, 1, 0,\n",
       "       2, 3, 1, 2, 3, 2, 3, 0, 3, 4, 2, 2, 0, 2, 0, 3, 1, 1, 3, 3, 0, 3,\n",
       "       3, 3, 3, 0, 0, 2, 4, 0, 3, 3, 0, 3, 1, 3, 3, 2, 3, 2, 3, 4, 3, 3,\n",
       "       0, 1, 3, 3, 2, 3, 2, 4, 3, 3, 3, 1, 3, 1, 3, 1, 0, 0, 4, 4, 3, 3,\n",
       "       3, 1, 3, 1, 0, 3, 1, 0, 1, 1, 1, 0, 3, 2, 3, 3, 0, 3, 2, 0, 3, 3,\n",
       "       3, 3, 2, 1, 3, 1, 4, 2, 2])"
      ]
     },
     "execution_count": 76,
     "metadata": {},
     "output_type": "execute_result"
    }
   ],
   "source": [
    "kmeans_model.labels_"
   ]
  },
  {
   "cell_type": "code",
   "execution_count": 77,
   "id": "9f7bbb76",
   "metadata": {},
   "outputs": [
    {
     "data": {
      "text/plain": [
       "(801,)"
      ]
     },
     "execution_count": 77,
     "metadata": {},
     "output_type": "execute_result"
    }
   ],
   "source": [
    "kmeans_model.labels_.shape"
   ]
  },
  {
   "cell_type": "code",
   "execution_count": 78,
   "id": "d2a19ae7",
   "metadata": {},
   "outputs": [],
   "source": [
    "kmeans_data['clus_no'] = kmeans_model.labels_ "
   ]
  },
  {
   "cell_type": "code",
   "execution_count": 79,
   "id": "4ffc4ab2",
   "metadata": {},
   "outputs": [
    {
     "data": {
      "text/html": [
       "<div>\n",
       "<style scoped>\n",
       "    .dataframe tbody tr th:only-of-type {\n",
       "        vertical-align: middle;\n",
       "    }\n",
       "\n",
       "    .dataframe tbody tr th {\n",
       "        vertical-align: top;\n",
       "    }\n",
       "\n",
       "    .dataframe thead th {\n",
       "        text-align: right;\n",
       "    }\n",
       "</style>\n",
       "<table border=\"1\" class=\"dataframe\">\n",
       "  <thead>\n",
       "    <tr style=\"text-align: right;\">\n",
       "      <th></th>\n",
       "      <th>0</th>\n",
       "      <th>1</th>\n",
       "      <th>clus_no</th>\n",
       "    </tr>\n",
       "  </thead>\n",
       "  <tbody>\n",
       "    <tr>\n",
       "      <th>0</th>\n",
       "      <td>4.364812</td>\n",
       "      <td>27.364166</td>\n",
       "      <td>2</td>\n",
       "    </tr>\n",
       "    <tr>\n",
       "      <th>1</th>\n",
       "      <td>15.797206</td>\n",
       "      <td>-3.433955</td>\n",
       "      <td>1</td>\n",
       "    </tr>\n",
       "    <tr>\n",
       "      <th>2</th>\n",
       "      <td>12.052662</td>\n",
       "      <td>38.397358</td>\n",
       "      <td>2</td>\n",
       "    </tr>\n",
       "    <tr>\n",
       "      <th>3</th>\n",
       "      <td>14.622668</td>\n",
       "      <td>35.073730</td>\n",
       "      <td>2</td>\n",
       "    </tr>\n",
       "    <tr>\n",
       "      <th>4</th>\n",
       "      <td>-15.710217</td>\n",
       "      <td>4.416759</td>\n",
       "      <td>3</td>\n",
       "    </tr>\n",
       "    <tr>\n",
       "      <th>...</th>\n",
       "      <td>...</td>\n",
       "      <td>...</td>\n",
       "      <td>...</td>\n",
       "    </tr>\n",
       "    <tr>\n",
       "      <th>796</th>\n",
       "      <td>-14.938532</td>\n",
       "      <td>8.140863</td>\n",
       "      <td>3</td>\n",
       "    </tr>\n",
       "    <tr>\n",
       "      <th>797</th>\n",
       "      <td>9.174356</td>\n",
       "      <td>-0.517968</td>\n",
       "      <td>1</td>\n",
       "    </tr>\n",
       "    <tr>\n",
       "      <th>798</th>\n",
       "      <td>22.201982</td>\n",
       "      <td>-13.317844</td>\n",
       "      <td>4</td>\n",
       "    </tr>\n",
       "    <tr>\n",
       "      <th>799</th>\n",
       "      <td>7.012878</td>\n",
       "      <td>31.732162</td>\n",
       "      <td>2</td>\n",
       "    </tr>\n",
       "    <tr>\n",
       "      <th>800</th>\n",
       "      <td>12.510225</td>\n",
       "      <td>30.414379</td>\n",
       "      <td>2</td>\n",
       "    </tr>\n",
       "  </tbody>\n",
       "</table>\n",
       "<p>801 rows × 3 columns</p>\n",
       "</div>"
      ],
      "text/plain": [
       "             0          1  clus_no\n",
       "0     4.364812  27.364166        2\n",
       "1    15.797206  -3.433955        1\n",
       "2    12.052662  38.397358        2\n",
       "3    14.622668  35.073730        2\n",
       "4   -15.710217   4.416759        3\n",
       "..         ...        ...      ...\n",
       "796 -14.938532   8.140863        3\n",
       "797   9.174356  -0.517968        1\n",
       "798  22.201982 -13.317844        4\n",
       "799   7.012878  31.732162        2\n",
       "800  12.510225  30.414379        2\n",
       "\n",
       "[801 rows x 3 columns]"
      ]
     },
     "execution_count": 79,
     "metadata": {},
     "output_type": "execute_result"
    }
   ],
   "source": [
    "kmeans_data"
   ]
  },
  {
   "cell_type": "code",
   "execution_count": 80,
   "id": "5295e439",
   "metadata": {},
   "outputs": [
    {
     "data": {
      "text/plain": [
       "Index([0, 1, 'clus_no'], dtype='object')"
      ]
     },
     "execution_count": 80,
     "metadata": {},
     "output_type": "execute_result"
    }
   ],
   "source": [
    "kmeans_data.columns"
   ]
  },
  {
   "cell_type": "code",
   "execution_count": 81,
   "id": "cf209c79",
   "metadata": {},
   "outputs": [],
   "source": [
    "kmeans_data.rename({0: 'Column1', 1: 'Column2'}, axis = 1, inplace = True)"
   ]
  },
  {
   "cell_type": "code",
   "execution_count": 82,
   "id": "d4d1fd13",
   "metadata": {},
   "outputs": [
    {
     "data": {
      "text/html": [
       "<div>\n",
       "<style scoped>\n",
       "    .dataframe tbody tr th:only-of-type {\n",
       "        vertical-align: middle;\n",
       "    }\n",
       "\n",
       "    .dataframe tbody tr th {\n",
       "        vertical-align: top;\n",
       "    }\n",
       "\n",
       "    .dataframe thead th {\n",
       "        text-align: right;\n",
       "    }\n",
       "</style>\n",
       "<table border=\"1\" class=\"dataframe\">\n",
       "  <thead>\n",
       "    <tr style=\"text-align: right;\">\n",
       "      <th></th>\n",
       "      <th>Column1</th>\n",
       "      <th>Column2</th>\n",
       "      <th>clus_no</th>\n",
       "    </tr>\n",
       "  </thead>\n",
       "  <tbody>\n",
       "    <tr>\n",
       "      <th>0</th>\n",
       "      <td>4.364812</td>\n",
       "      <td>27.364166</td>\n",
       "      <td>2</td>\n",
       "    </tr>\n",
       "    <tr>\n",
       "      <th>1</th>\n",
       "      <td>15.797206</td>\n",
       "      <td>-3.433955</td>\n",
       "      <td>1</td>\n",
       "    </tr>\n",
       "    <tr>\n",
       "      <th>2</th>\n",
       "      <td>12.052662</td>\n",
       "      <td>38.397358</td>\n",
       "      <td>2</td>\n",
       "    </tr>\n",
       "    <tr>\n",
       "      <th>3</th>\n",
       "      <td>14.622668</td>\n",
       "      <td>35.073730</td>\n",
       "      <td>2</td>\n",
       "    </tr>\n",
       "    <tr>\n",
       "      <th>4</th>\n",
       "      <td>-15.710217</td>\n",
       "      <td>4.416759</td>\n",
       "      <td>3</td>\n",
       "    </tr>\n",
       "    <tr>\n",
       "      <th>...</th>\n",
       "      <td>...</td>\n",
       "      <td>...</td>\n",
       "      <td>...</td>\n",
       "    </tr>\n",
       "    <tr>\n",
       "      <th>796</th>\n",
       "      <td>-14.938532</td>\n",
       "      <td>8.140863</td>\n",
       "      <td>3</td>\n",
       "    </tr>\n",
       "    <tr>\n",
       "      <th>797</th>\n",
       "      <td>9.174356</td>\n",
       "      <td>-0.517968</td>\n",
       "      <td>1</td>\n",
       "    </tr>\n",
       "    <tr>\n",
       "      <th>798</th>\n",
       "      <td>22.201982</td>\n",
       "      <td>-13.317844</td>\n",
       "      <td>4</td>\n",
       "    </tr>\n",
       "    <tr>\n",
       "      <th>799</th>\n",
       "      <td>7.012878</td>\n",
       "      <td>31.732162</td>\n",
       "      <td>2</td>\n",
       "    </tr>\n",
       "    <tr>\n",
       "      <th>800</th>\n",
       "      <td>12.510225</td>\n",
       "      <td>30.414379</td>\n",
       "      <td>2</td>\n",
       "    </tr>\n",
       "  </tbody>\n",
       "</table>\n",
       "<p>801 rows × 3 columns</p>\n",
       "</div>"
      ],
      "text/plain": [
       "       Column1    Column2  clus_no\n",
       "0     4.364812  27.364166        2\n",
       "1    15.797206  -3.433955        1\n",
       "2    12.052662  38.397358        2\n",
       "3    14.622668  35.073730        2\n",
       "4   -15.710217   4.416759        3\n",
       "..         ...        ...      ...\n",
       "796 -14.938532   8.140863        3\n",
       "797   9.174356  -0.517968        1\n",
       "798  22.201982 -13.317844        4\n",
       "799   7.012878  31.732162        2\n",
       "800  12.510225  30.414379        2\n",
       "\n",
       "[801 rows x 3 columns]"
      ]
     },
     "execution_count": 82,
     "metadata": {},
     "output_type": "execute_result"
    }
   ],
   "source": [
    "kmeans_data"
   ]
  },
  {
   "cell_type": "code",
   "execution_count": 83,
   "id": "db2cc5c7",
   "metadata": {},
   "outputs": [
    {
     "name": "stderr",
     "output_type": "stream",
     "text": [
      "F:\\Anaconda\\lib\\site-packages\\seaborn\\_decorators.py:36: FutureWarning: Pass the following variables as keyword args: x, y. From version 0.12, the only valid positional argument will be `data`, and passing other arguments without an explicit keyword will result in an error or misinterpretation.\n",
      "  warnings.warn(\n"
     ]
    },
    {
     "data": {
      "text/plain": [
       "<seaborn.axisgrid.FacetGrid at 0xe9b8d5fd60>"
      ]
     },
     "execution_count": 83,
     "metadata": {},
     "output_type": "execute_result"
    },
    {
     "data": {
      "image/png": "[encoded data removed]",
      "text/plain": [
       "<Figure size 562.736x500 with 1 Axes>"
      ]
     },
     "metadata": {},
     "output_type": "display_data"
    }
   ],
   "source": [
    "# ploting using sns\n",
    "\n",
    "sns.lmplot(\"Column1\", \"Column2\", data= kmeans_data, fit_reg=False, hue= 'clus_no')"
   ]
  },
  {
   "cell_type": "code",
   "execution_count": 84,
   "id": "5b4bf83e",
   "metadata": {},
   "outputs": [
    {
     "data": {
      "text/html": [
       "<div>\n",
       "<style scoped>\n",
       "    .dataframe tbody tr th:only-of-type {\n",
       "        vertical-align: middle;\n",
       "    }\n",
       "\n",
       "    .dataframe tbody tr th {\n",
       "        vertical-align: top;\n",
       "    }\n",
       "\n",
       "    .dataframe thead th {\n",
       "        text-align: right;\n",
       "    }\n",
       "</style>\n",
       "<table border=\"1\" class=\"dataframe\">\n",
       "  <thead>\n",
       "    <tr style=\"text-align: right;\">\n",
       "      <th></th>\n",
       "      <th>0</th>\n",
       "      <th>1</th>\n",
       "    </tr>\n",
       "  </thead>\n",
       "  <tbody>\n",
       "    <tr>\n",
       "      <th>0</th>\n",
       "      <td>4.364812</td>\n",
       "      <td>27.364166</td>\n",
       "    </tr>\n",
       "    <tr>\n",
       "      <th>1</th>\n",
       "      <td>15.797206</td>\n",
       "      <td>-3.433955</td>\n",
       "    </tr>\n",
       "    <tr>\n",
       "      <th>2</th>\n",
       "      <td>12.052662</td>\n",
       "      <td>38.397358</td>\n",
       "    </tr>\n",
       "    <tr>\n",
       "      <th>3</th>\n",
       "      <td>14.622668</td>\n",
       "      <td>35.073730</td>\n",
       "    </tr>\n",
       "    <tr>\n",
       "      <th>4</th>\n",
       "      <td>-15.710217</td>\n",
       "      <td>4.416759</td>\n",
       "    </tr>\n",
       "  </tbody>\n",
       "</table>\n",
       "</div>"
      ],
      "text/plain": [
       "           0          1\n",
       "0   4.364812  27.364166\n",
       "1  15.797206  -3.433955\n",
       "2  12.052662  38.397358\n",
       "3  14.622668  35.073730\n",
       "4 -15.710217   4.416759"
      ]
     },
     "execution_count": 84,
     "metadata": {},
     "output_type": "execute_result"
    }
   ],
   "source": [
    "# hieraechical clustering on X\n",
    "\n",
    "hier_data = pd.DataFrame(tsne_model)\n",
    "hier_data.head()"
   ]
  },
  {
   "cell_type": "code",
   "execution_count": 85,
   "id": "44dd3d70",
   "metadata": {},
   "outputs": [],
   "source": [
    "from sklearn.cluster import AgglomerativeClustering\n",
    "\n",
    "hier_cluster_model = AgglomerativeClustering(n_clusters=5, linkage='ward', affinity='euclidean')"
   ]
  },
  {
   "cell_type": "code",
   "execution_count": 86,
   "id": "6686b1bc",
   "metadata": {},
   "outputs": [
    {
     "data": {
      "text/plain": [
       "AgglomerativeClustering(n_clusters=5)"
      ]
     },
     "execution_count": 86,
     "metadata": {},
     "output_type": "execute_result"
    }
   ],
   "source": [
    "#fitting model on X\n",
    "\n",
    "hier_cluster_model.fit(hier_data)"
   ]
  },
  {
   "cell_type": "code",
   "execution_count": 87,
   "id": "62f63b16",
   "metadata": {},
   "outputs": [
    {
     "data": {
      "text/plain": [
       "array([3, 2, 3, 3, 0, 3, 1, 3, 0, 3, 0, 1, 3, 0, 0, 0, 2, 1, 1, 3, 0, 1,\n",
       "       2, 0, 1, 2, 4, 0, 0, 0, 0, 0, 1, 0, 3, 0, 1, 2, 0, 0, 1, 3, 3, 1,\n",
       "       1, 0, 3, 4, 0, 2, 0, 2, 0, 3, 4, 0, 0, 4, 1, 0, 2, 1, 0, 2, 3, 4,\n",
       "       0, 3, 1, 0, 1, 0, 0, 2, 0, 2, 0, 1, 3, 4, 0, 3, 0, 0, 3, 3, 0, 0,\n",
       "       1, 0, 3, 3, 0, 0, 0, 3, 4, 0, 3, 0, 0, 1, 0, 1, 2, 1, 2, 4, 2, 2,\n",
       "       3, 0, 2, 3, 0, 1, 1, 1, 0, 0, 2, 1, 2, 0, 3, 3, 3, 0, 1, 0, 4, 0,\n",
       "       4, 0, 0, 1, 2, 0, 1, 4, 0, 3, 0, 1, 2, 4, 3, 0, 2, 2, 2, 2, 0, 0,\n",
       "       2, 0, 0, 3, 3, 2, 3, 2, 1, 0, 3, 2, 4, 1, 2, 0, 1, 2, 0, 2, 0, 0,\n",
       "       0, 3, 0, 1, 4, 1, 0, 3, 3, 3, 2, 2, 0, 4, 2, 1, 2, 3, 2, 0, 0, 0,\n",
       "       2, 2, 0, 1, 1, 1, 1, 3, 0, 3, 0, 2, 2, 0, 3, 0, 3, 0, 0, 0, 2, 0,\n",
       "       1, 2, 1, 1, 2, 0, 1, 3, 0, 2, 2, 3, 4, 0, 1, 3, 1, 4, 0, 1, 1, 2,\n",
       "       3, 3, 2, 2, 1, 0, 0, 4, 0, 3, 4, 0, 3, 1, 3, 3, 3, 0, 4, 4, 2, 4,\n",
       "       4, 3, 2, 0, 0, 1, 1, 0, 4, 3, 1, 3, 0, 0, 1, 0, 0, 0, 0, 2, 2, 0,\n",
       "       0, 0, 1, 1, 1, 1, 0, 0, 0, 1, 0, 0, 2, 3, 0, 0, 4, 2, 3, 0, 0, 0,\n",
       "       4, 0, 3, 0, 4, 2, 2, 3, 1, 0, 1, 1, 0, 4, 1, 0, 0, 0, 0, 1, 0, 0,\n",
       "       3, 0, 1, 0, 2, 3, 1, 0, 3, 4, 0, 0, 0, 2, 2, 2, 0, 0, 3, 2, 0, 1,\n",
       "       0, 4, 4, 2, 0, 1, 0, 0, 0, 4, 2, 4, 1, 3, 1, 0, 0, 1, 0, 4, 3, 2,\n",
       "       3, 0, 1, 3, 0, 4, 1, 1, 4, 4, 3, 0, 0, 4, 1, 0, 3, 0, 0, 0, 2, 2,\n",
       "       1, 2, 0, 1, 4, 3, 0, 2, 3, 0, 0, 0, 2, 0, 0, 3, 0, 3, 4, 0, 2, 0,\n",
       "       0, 2, 0, 0, 0, 1, 2, 3, 0, 3, 1, 0, 1, 4, 0, 3, 2, 1, 0, 0, 1, 0,\n",
       "       2, 0, 0, 3, 4, 0, 1, 2, 3, 0, 3, 0, 0, 0, 0, 1, 2, 0, 1, 0, 0, 2,\n",
       "       2, 1, 4, 3, 4, 0, 1, 1, 0, 3, 1, 4, 2, 2, 0, 3, 3, 0, 3, 2, 1, 3,\n",
       "       0, 2, 3, 2, 0, 0, 4, 2, 1, 4, 2, 0, 3, 0, 0, 3, 0, 4, 0, 4, 1, 0,\n",
       "       0, 2, 2, 2, 4, 1, 2, 2, 0, 0, 1, 3, 2, 3, 0, 1, 0, 1, 1, 3, 3, 2,\n",
       "       0, 1, 4, 4, 0, 1, 1, 0, 0, 3, 1, 4, 0, 0, 4, 2, 0, 0, 0, 1, 3, 2,\n",
       "       2, 0, 1, 4, 1, 1, 0, 3, 2, 1, 0, 4, 2, 2, 2, 3, 2, 1, 0, 0, 4, 3,\n",
       "       0, 0, 0, 1, 2, 2, 0, 3, 2, 2, 0, 1, 3, 4, 2, 3, 4, 2, 4, 1, 1, 0,\n",
       "       0, 1, 1, 4, 0, 2, 3, 3, 1, 0, 2, 0, 0, 4, 0, 3, 3, 0, 0, 4, 0, 1,\n",
       "       0, 0, 4, 0, 3, 0, 0, 1, 3, 2, 0, 0, 1, 0, 0, 0, 0, 0, 4, 2, 2, 0,\n",
       "       0, 0, 3, 0, 0, 1, 2, 2, 1, 1, 2, 1, 4, 0, 4, 1, 0, 0, 3, 3, 3, 2,\n",
       "       3, 3, 4, 0, 0, 4, 2, 1, 0, 1, 4, 0, 0, 0, 3, 2, 1, 0, 3, 1, 3, 0,\n",
       "       2, 1, 3, 2, 3, 3, 0, 1, 3, 2, 4, 4, 0, 0, 0, 2, 1, 1, 1, 0, 2, 1,\n",
       "       3, 0, 2, 3, 0, 3, 0, 1, 0, 4, 3, 3, 1, 3, 1, 0, 2, 2, 0, 0, 1, 0,\n",
       "       0, 0, 0, 1, 1, 3, 4, 1, 0, 0, 1, 0, 2, 0, 0, 3, 0, 3, 0, 4, 0, 0,\n",
       "       1, 2, 0, 0, 3, 0, 3, 4, 0, 0, 0, 2, 0, 2, 0, 2, 1, 1, 4, 4, 0, 0,\n",
       "       0, 2, 0, 2, 1, 0, 2, 1, 2, 2, 2, 1, 0, 3, 0, 0, 1, 0, 3, 1, 0, 0,\n",
       "       0, 0, 3, 2, 0, 2, 4, 3, 3], dtype=int64)"
      ]
     },
     "execution_count": 87,
     "metadata": {},
     "output_type": "execute_result"
    }
   ],
   "source": [
    "hier_cluster_model.labels_"
   ]
  },
  {
   "cell_type": "code",
   "execution_count": 88,
   "id": "ab5894ab",
   "metadata": {},
   "outputs": [],
   "source": [
    "hier_data['clus_no']= hier_cluster_model.labels_"
   ]
  },
  {
   "cell_type": "code",
   "execution_count": 89,
   "id": "813d841c",
   "metadata": {},
   "outputs": [
    {
     "data": {
      "text/html": [
       "<div>\n",
       "<style scoped>\n",
       "    .dataframe tbody tr th:only-of-type {\n",
       "        vertical-align: middle;\n",
       "    }\n",
       "\n",
       "    .dataframe tbody tr th {\n",
       "        vertical-align: top;\n",
       "    }\n",
       "\n",
       "    .dataframe thead th {\n",
       "        text-align: right;\n",
       "    }\n",
       "</style>\n",
       "<table border=\"1\" class=\"dataframe\">\n",
       "  <thead>\n",
       "    <tr style=\"text-align: right;\">\n",
       "      <th></th>\n",
       "      <th>0</th>\n",
       "      <th>1</th>\n",
       "      <th>clus_no</th>\n",
       "    </tr>\n",
       "  </thead>\n",
       "  <tbody>\n",
       "    <tr>\n",
       "      <th>0</th>\n",
       "      <td>4.364812</td>\n",
       "      <td>27.364166</td>\n",
       "      <td>3</td>\n",
       "    </tr>\n",
       "    <tr>\n",
       "      <th>1</th>\n",
       "      <td>15.797206</td>\n",
       "      <td>-3.433955</td>\n",
       "      <td>2</td>\n",
       "    </tr>\n",
       "    <tr>\n",
       "      <th>2</th>\n",
       "      <td>12.052662</td>\n",
       "      <td>38.397358</td>\n",
       "      <td>3</td>\n",
       "    </tr>\n",
       "    <tr>\n",
       "      <th>3</th>\n",
       "      <td>14.622668</td>\n",
       "      <td>35.073730</td>\n",
       "      <td>3</td>\n",
       "    </tr>\n",
       "    <tr>\n",
       "      <th>4</th>\n",
       "      <td>-15.710217</td>\n",
       "      <td>4.416759</td>\n",
       "      <td>0</td>\n",
       "    </tr>\n",
       "  </tbody>\n",
       "</table>\n",
       "</div>"
      ],
      "text/plain": [
       "           0          1  clus_no\n",
       "0   4.364812  27.364166        3\n",
       "1  15.797206  -3.433955        2\n",
       "2  12.052662  38.397358        3\n",
       "3  14.622668  35.073730        3\n",
       "4 -15.710217   4.416759        0"
      ]
     },
     "execution_count": 89,
     "metadata": {},
     "output_type": "execute_result"
    }
   ],
   "source": [
    "hier_data.head()"
   ]
  },
  {
   "cell_type": "code",
   "execution_count": 90,
   "id": "b3ec1a3c",
   "metadata": {},
   "outputs": [
    {
     "data": {
      "text/html": [
       "<div>\n",
       "<style scoped>\n",
       "    .dataframe tbody tr th:only-of-type {\n",
       "        vertical-align: middle;\n",
       "    }\n",
       "\n",
       "    .dataframe tbody tr th {\n",
       "        vertical-align: top;\n",
       "    }\n",
       "\n",
       "    .dataframe thead th {\n",
       "        text-align: right;\n",
       "    }\n",
       "</style>\n",
       "<table border=\"1\" class=\"dataframe\">\n",
       "  <thead>\n",
       "    <tr style=\"text-align: right;\">\n",
       "      <th></th>\n",
       "      <th>Column1</th>\n",
       "      <th>Column2</th>\n",
       "      <th>clus_no</th>\n",
       "    </tr>\n",
       "  </thead>\n",
       "  <tbody>\n",
       "    <tr>\n",
       "      <th>0</th>\n",
       "      <td>4.364812</td>\n",
       "      <td>27.364166</td>\n",
       "      <td>3</td>\n",
       "    </tr>\n",
       "    <tr>\n",
       "      <th>1</th>\n",
       "      <td>15.797206</td>\n",
       "      <td>-3.433955</td>\n",
       "      <td>2</td>\n",
       "    </tr>\n",
       "    <tr>\n",
       "      <th>2</th>\n",
       "      <td>12.052662</td>\n",
       "      <td>38.397358</td>\n",
       "      <td>3</td>\n",
       "    </tr>\n",
       "    <tr>\n",
       "      <th>3</th>\n",
       "      <td>14.622668</td>\n",
       "      <td>35.073730</td>\n",
       "      <td>3</td>\n",
       "    </tr>\n",
       "    <tr>\n",
       "      <th>4</th>\n",
       "      <td>-15.710217</td>\n",
       "      <td>4.416759</td>\n",
       "      <td>0</td>\n",
       "    </tr>\n",
       "    <tr>\n",
       "      <th>...</th>\n",
       "      <td>...</td>\n",
       "      <td>...</td>\n",
       "      <td>...</td>\n",
       "    </tr>\n",
       "    <tr>\n",
       "      <th>796</th>\n",
       "      <td>-14.938532</td>\n",
       "      <td>8.140863</td>\n",
       "      <td>0</td>\n",
       "    </tr>\n",
       "    <tr>\n",
       "      <th>797</th>\n",
       "      <td>9.174356</td>\n",
       "      <td>-0.517968</td>\n",
       "      <td>2</td>\n",
       "    </tr>\n",
       "    <tr>\n",
       "      <th>798</th>\n",
       "      <td>22.201982</td>\n",
       "      <td>-13.317844</td>\n",
       "      <td>4</td>\n",
       "    </tr>\n",
       "    <tr>\n",
       "      <th>799</th>\n",
       "      <td>7.012878</td>\n",
       "      <td>31.732162</td>\n",
       "      <td>3</td>\n",
       "    </tr>\n",
       "    <tr>\n",
       "      <th>800</th>\n",
       "      <td>12.510225</td>\n",
       "      <td>30.414379</td>\n",
       "      <td>3</td>\n",
       "    </tr>\n",
       "  </tbody>\n",
       "</table>\n",
       "<p>801 rows × 3 columns</p>\n",
       "</div>"
      ],
      "text/plain": [
       "       Column1    Column2  clus_no\n",
       "0     4.364812  27.364166        3\n",
       "1    15.797206  -3.433955        2\n",
       "2    12.052662  38.397358        3\n",
       "3    14.622668  35.073730        3\n",
       "4   -15.710217   4.416759        0\n",
       "..         ...        ...      ...\n",
       "796 -14.938532   8.140863        0\n",
       "797   9.174356  -0.517968        2\n",
       "798  22.201982 -13.317844        4\n",
       "799   7.012878  31.732162        3\n",
       "800  12.510225  30.414379        3\n",
       "\n",
       "[801 rows x 3 columns]"
      ]
     },
     "execution_count": 90,
     "metadata": {},
     "output_type": "execute_result"
    }
   ],
   "source": [
    "hier_data.rename({0: 'Column1', 1: 'Column2'}, axis=1, inplace=True)\n",
    "hier_data"
   ]
  },
  {
   "cell_type": "code",
   "execution_count": 91,
   "id": "40f22c8a",
   "metadata": {},
   "outputs": [
    {
     "name": "stderr",
     "output_type": "stream",
     "text": [
      "F:\\Anaconda\\lib\\site-packages\\seaborn\\_decorators.py:36: FutureWarning: Pass the following variables as keyword args: x, y. From version 0.12, the only valid positional argument will be `data`, and passing other arguments without an explicit keyword will result in an error or misinterpretation.\n",
      "  warnings.warn(\n"
     ]
    },
    {
     "data": {
      "text/plain": [
       "<seaborn.axisgrid.FacetGrid at 0xe9b8f69280>"
      ]
     },
     "execution_count": 91,
     "metadata": {},
     "output_type": "execute_result"
    },
    {
     "data": {
      "image/png": "[encoded data removed]",
      "text/plain": [
       "<Figure size 562.736x500 with 1 Axes>"
      ]
     },
     "metadata": {},
     "output_type": "display_data"
    }
   ],
   "source": [
    "sns.lmplot(\"Column1\", \"Column2\", data= hier_data, fit_reg=False, hue= 'clus_no')"
   ]
  },
  {
   "cell_type": "code",
   "execution_count": 92,
   "id": "0c938992",
   "metadata": {},
   "outputs": [],
   "source": [
    "# mean shift clustering - points are pushed towards the mode"
   ]
  },
  {
   "cell_type": "code",
   "execution_count": 93,
   "id": "80a6ee1f",
   "metadata": {},
   "outputs": [
    {
     "data": {
      "text/plain": [
       "array([[  4.3648124,  27.364166 ],\n",
       "       [ 15.797206 ,  -3.433955 ],\n",
       "       [ 12.052662 ,  38.397358 ],\n",
       "       ...,\n",
       "       [ 22.201982 , -13.317844 ],\n",
       "       [  7.012878 ,  31.732162 ],\n",
       "       [ 12.510225 ,  30.41438  ]], dtype=float32)"
      ]
     },
     "execution_count": 93,
     "metadata": {},
     "output_type": "execute_result"
    }
   ],
   "source": [
    "tsne_model"
   ]
  },
  {
   "cell_type": "code",
   "execution_count": 94,
   "id": "d35d3148",
   "metadata": {},
   "outputs": [
    {
     "data": {
      "text/html": [
       "<div>\n",
       "<style scoped>\n",
       "    .dataframe tbody tr th:only-of-type {\n",
       "        vertical-align: middle;\n",
       "    }\n",
       "\n",
       "    .dataframe tbody tr th {\n",
       "        vertical-align: top;\n",
       "    }\n",
       "\n",
       "    .dataframe thead th {\n",
       "        text-align: right;\n",
       "    }\n",
       "</style>\n",
       "<table border=\"1\" class=\"dataframe\">\n",
       "  <thead>\n",
       "    <tr style=\"text-align: right;\">\n",
       "      <th></th>\n",
       "      <th>0</th>\n",
       "      <th>1</th>\n",
       "    </tr>\n",
       "  </thead>\n",
       "  <tbody>\n",
       "    <tr>\n",
       "      <th>0</th>\n",
       "      <td>4.364812</td>\n",
       "      <td>27.364166</td>\n",
       "    </tr>\n",
       "    <tr>\n",
       "      <th>1</th>\n",
       "      <td>15.797206</td>\n",
       "      <td>-3.433955</td>\n",
       "    </tr>\n",
       "    <tr>\n",
       "      <th>2</th>\n",
       "      <td>12.052662</td>\n",
       "      <td>38.397358</td>\n",
       "    </tr>\n",
       "    <tr>\n",
       "      <th>3</th>\n",
       "      <td>14.622668</td>\n",
       "      <td>35.073730</td>\n",
       "    </tr>\n",
       "    <tr>\n",
       "      <th>4</th>\n",
       "      <td>-15.710217</td>\n",
       "      <td>4.416759</td>\n",
       "    </tr>\n",
       "    <tr>\n",
       "      <th>...</th>\n",
       "      <td>...</td>\n",
       "      <td>...</td>\n",
       "    </tr>\n",
       "    <tr>\n",
       "      <th>796</th>\n",
       "      <td>-14.938532</td>\n",
       "      <td>8.140863</td>\n",
       "    </tr>\n",
       "    <tr>\n",
       "      <th>797</th>\n",
       "      <td>9.174356</td>\n",
       "      <td>-0.517968</td>\n",
       "    </tr>\n",
       "    <tr>\n",
       "      <th>798</th>\n",
       "      <td>22.201982</td>\n",
       "      <td>-13.317844</td>\n",
       "    </tr>\n",
       "    <tr>\n",
       "      <th>799</th>\n",
       "      <td>7.012878</td>\n",
       "      <td>31.732162</td>\n",
       "    </tr>\n",
       "    <tr>\n",
       "      <th>800</th>\n",
       "      <td>12.510225</td>\n",
       "      <td>30.414379</td>\n",
       "    </tr>\n",
       "  </tbody>\n",
       "</table>\n",
       "<p>801 rows × 2 columns</p>\n",
       "</div>"
      ],
      "text/plain": [
       "             0          1\n",
       "0     4.364812  27.364166\n",
       "1    15.797206  -3.433955\n",
       "2    12.052662  38.397358\n",
       "3    14.622668  35.073730\n",
       "4   -15.710217   4.416759\n",
       "..         ...        ...\n",
       "796 -14.938532   8.140863\n",
       "797   9.174356  -0.517968\n",
       "798  22.201982 -13.317844\n",
       "799   7.012878  31.732162\n",
       "800  12.510225  30.414379\n",
       "\n",
       "[801 rows x 2 columns]"
      ]
     },
     "execution_count": 94,
     "metadata": {},
     "output_type": "execute_result"
    }
   ],
   "source": [
    "ms_data = pd.DataFrame(tsne_model)\n",
    "ms_data"
   ]
  },
  {
   "cell_type": "code",
   "execution_count": 95,
   "id": "76ddba41",
   "metadata": {},
   "outputs": [],
   "source": [
    "from sklearn.cluster import MeanShift\n",
    "from mpl_toolkits.mplot3d import Axes3D"
   ]
  },
  {
   "cell_type": "code",
   "execution_count": 96,
   "id": "d205e564",
   "metadata": {},
   "outputs": [],
   "source": [
    "ms_X = MeanShift(bandwidth=10)"
   ]
  },
  {
   "cell_type": "code",
   "execution_count": 97,
   "id": "5935879c",
   "metadata": {},
   "outputs": [
    {
     "data": {
      "text/plain": [
       "MeanShift(bandwidth=10)"
      ]
     },
     "execution_count": 97,
     "metadata": {},
     "output_type": "execute_result"
    }
   ],
   "source": [
    "ms_X.fit(ms_data)"
   ]
  },
  {
   "cell_type": "code",
   "execution_count": 98,
   "id": "cfc6dd00",
   "metadata": {},
   "outputs": [
    {
     "data": {
      "text/plain": [
       "array([3, 2, 3, 3, 0, 3, 1, 3, 0, 3, 0, 1, 3, 0, 0, 0, 2, 1, 1, 3, 0, 1,\n",
       "       2, 0, 1, 2, 4, 0, 0, 0, 0, 0, 1, 0, 3, 0, 1, 2, 0, 0, 1, 3, 3, 1,\n",
       "       1, 0, 3, 4, 0, 2, 0, 2, 0, 3, 4, 0, 0, 4, 1, 0, 2, 1, 0, 2, 3, 4,\n",
       "       0, 3, 1, 0, 1, 0, 0, 2, 0, 2, 0, 1, 3, 4, 0, 3, 0, 0, 3, 3, 0, 0,\n",
       "       1, 0, 3, 3, 0, 0, 0, 3, 4, 0, 3, 0, 0, 1, 0, 1, 2, 1, 2, 4, 2, 2,\n",
       "       3, 0, 2, 3, 0, 1, 1, 1, 0, 0, 2, 1, 2, 0, 3, 3, 3, 0, 1, 2, 4, 0,\n",
       "       4, 0, 0, 1, 2, 0, 1, 4, 0, 3, 0, 1, 2, 4, 3, 0, 2, 2, 2, 2, 0, 0,\n",
       "       2, 0, 0, 3, 3, 2, 3, 2, 1, 0, 3, 2, 4, 1, 2, 0, 1, 2, 0, 2, 0, 0,\n",
       "       0, 3, 0, 1, 4, 1, 0, 3, 3, 3, 2, 2, 0, 4, 2, 1, 2, 3, 2, 0, 0, 0,\n",
       "       2, 2, 0, 1, 1, 1, 1, 3, 0, 3, 0, 2, 2, 0, 3, 0, 3, 0, 0, 0, 2, 0,\n",
       "       1, 2, 1, 1, 2, 0, 1, 3, 0, 2, 2, 3, 4, 0, 1, 3, 1, 4, 0, 1, 1, 2,\n",
       "       3, 3, 2, 2, 1, 0, 0, 4, 0, 3, 4, 0, 3, 1, 3, 3, 3, 0, 4, 4, 2, 4,\n",
       "       4, 3, 2, 0, 0, 1, 1, 0, 4, 3, 1, 3, 0, 0, 1, 0, 0, 0, 0, 2, 2, 0,\n",
       "       0, 0, 1, 1, 1, 1, 0, 0, 0, 1, 0, 0, 2, 3, 0, 0, 4, 2, 3, 0, 0, 0,\n",
       "       4, 0, 3, 0, 4, 2, 2, 3, 1, 0, 1, 1, 0, 4, 1, 0, 0, 0, 0, 1, 0, 0,\n",
       "       3, 0, 1, 0, 2, 3, 1, 0, 3, 4, 0, 0, 0, 2, 2, 2, 0, 0, 3, 2, 0, 1,\n",
       "       0, 4, 4, 2, 0, 1, 0, 0, 0, 4, 2, 4, 1, 3, 1, 0, 0, 1, 0, 4, 3, 2,\n",
       "       3, 0, 1, 3, 0, 4, 1, 1, 4, 4, 3, 0, 0, 4, 1, 0, 3, 0, 0, 0, 2, 2,\n",
       "       1, 2, 0, 1, 4, 3, 0, 2, 3, 0, 0, 0, 2, 0, 0, 3, 0, 3, 4, 0, 2, 0,\n",
       "       0, 2, 0, 0, 0, 1, 2, 3, 0, 3, 1, 0, 1, 4, 0, 3, 2, 1, 0, 0, 1, 0,\n",
       "       2, 0, 0, 3, 4, 0, 1, 2, 3, 0, 3, 0, 0, 0, 0, 1, 2, 0, 1, 0, 0, 2,\n",
       "       2, 1, 4, 3, 4, 0, 1, 1, 0, 3, 1, 4, 2, 2, 0, 3, 3, 0, 3, 2, 1, 3,\n",
       "       0, 2, 3, 2, 0, 0, 4, 2, 1, 4, 2, 0, 3, 0, 0, 3, 0, 4, 0, 4, 1, 0,\n",
       "       0, 2, 2, 2, 4, 1, 2, 2, 0, 0, 1, 3, 2, 3, 0, 1, 0, 1, 1, 3, 3, 2,\n",
       "       0, 1, 4, 4, 0, 1, 1, 0, 0, 3, 1, 4, 0, 0, 4, 2, 0, 0, 0, 1, 3, 2,\n",
       "       2, 0, 1, 4, 1, 1, 0, 3, 2, 1, 0, 4, 2, 2, 2, 3, 2, 1, 0, 0, 4, 3,\n",
       "       0, 0, 0, 1, 2, 2, 0, 3, 2, 2, 0, 1, 3, 4, 2, 3, 4, 2, 4, 1, 1, 0,\n",
       "       0, 1, 1, 4, 0, 2, 3, 3, 1, 0, 2, 0, 0, 4, 0, 3, 3, 0, 0, 4, 0, 1,\n",
       "       0, 0, 4, 0, 3, 0, 0, 1, 3, 2, 0, 0, 1, 0, 0, 0, 0, 0, 4, 2, 2, 0,\n",
       "       0, 0, 3, 0, 0, 1, 2, 2, 1, 1, 2, 1, 4, 0, 4, 1, 0, 0, 3, 3, 3, 2,\n",
       "       3, 3, 4, 0, 0, 4, 2, 1, 0, 1, 4, 0, 0, 0, 3, 2, 1, 0, 3, 1, 3, 0,\n",
       "       2, 1, 3, 2, 3, 3, 0, 1, 3, 2, 4, 4, 0, 0, 0, 2, 1, 1, 1, 0, 2, 1,\n",
       "       3, 0, 2, 3, 0, 3, 0, 1, 0, 4, 3, 3, 1, 3, 1, 0, 2, 2, 0, 0, 1, 0,\n",
       "       0, 0, 0, 1, 1, 3, 4, 1, 0, 0, 1, 0, 2, 0, 0, 3, 0, 3, 0, 4, 0, 0,\n",
       "       1, 2, 0, 0, 3, 0, 3, 4, 0, 0, 0, 2, 0, 2, 0, 2, 1, 1, 4, 4, 0, 0,\n",
       "       0, 2, 0, 2, 1, 0, 2, 1, 2, 2, 2, 1, 0, 3, 0, 0, 1, 0, 3, 1, 0, 0,\n",
       "       0, 0, 3, 2, 0, 2, 4, 3, 3], dtype=int64)"
      ]
     },
     "execution_count": 98,
     "metadata": {},
     "output_type": "execute_result"
    }
   ],
   "source": [
    "ms_X.labels_"
   ]
  },
  {
   "cell_type": "code",
   "execution_count": 99,
   "id": "7925ad15",
   "metadata": {},
   "outputs": [
    {
     "data": {
      "text/html": [
       "<div>\n",
       "<style scoped>\n",
       "    .dataframe tbody tr th:only-of-type {\n",
       "        vertical-align: middle;\n",
       "    }\n",
       "\n",
       "    .dataframe tbody tr th {\n",
       "        vertical-align: top;\n",
       "    }\n",
       "\n",
       "    .dataframe thead th {\n",
       "        text-align: right;\n",
       "    }\n",
       "</style>\n",
       "<table border=\"1\" class=\"dataframe\">\n",
       "  <thead>\n",
       "    <tr style=\"text-align: right;\">\n",
       "      <th></th>\n",
       "      <th>0</th>\n",
       "      <th>1</th>\n",
       "      <th>clus_no</th>\n",
       "    </tr>\n",
       "  </thead>\n",
       "  <tbody>\n",
       "    <tr>\n",
       "      <th>0</th>\n",
       "      <td>4.364812</td>\n",
       "      <td>27.364166</td>\n",
       "      <td>3</td>\n",
       "    </tr>\n",
       "    <tr>\n",
       "      <th>1</th>\n",
       "      <td>15.797206</td>\n",
       "      <td>-3.433955</td>\n",
       "      <td>2</td>\n",
       "    </tr>\n",
       "    <tr>\n",
       "      <th>2</th>\n",
       "      <td>12.052662</td>\n",
       "      <td>38.397358</td>\n",
       "      <td>3</td>\n",
       "    </tr>\n",
       "    <tr>\n",
       "      <th>3</th>\n",
       "      <td>14.622668</td>\n",
       "      <td>35.073730</td>\n",
       "      <td>3</td>\n",
       "    </tr>\n",
       "    <tr>\n",
       "      <th>4</th>\n",
       "      <td>-15.710217</td>\n",
       "      <td>4.416759</td>\n",
       "      <td>0</td>\n",
       "    </tr>\n",
       "  </tbody>\n",
       "</table>\n",
       "</div>"
      ],
      "text/plain": [
       "           0          1  clus_no\n",
       "0   4.364812  27.364166        3\n",
       "1  15.797206  -3.433955        2\n",
       "2  12.052662  38.397358        3\n",
       "3  14.622668  35.073730        3\n",
       "4 -15.710217   4.416759        0"
      ]
     },
     "execution_count": 99,
     "metadata": {},
     "output_type": "execute_result"
    }
   ],
   "source": [
    "ms_data['clus_no'] = ms_X.labels_\n",
    "ms_data.head()"
   ]
  },
  {
   "cell_type": "code",
   "execution_count": 100,
   "id": "e5407ec1",
   "metadata": {},
   "outputs": [],
   "source": [
    "ms_data.rename({0 : 'column1', 1: 'column2'},axis = 1, inplace = True)"
   ]
  },
  {
   "cell_type": "code",
   "execution_count": 101,
   "id": "74816a20",
   "metadata": {},
   "outputs": [
    {
     "data": {
      "text/html": [
       "<div>\n",
       "<style scoped>\n",
       "    .dataframe tbody tr th:only-of-type {\n",
       "        vertical-align: middle;\n",
       "    }\n",
       "\n",
       "    .dataframe tbody tr th {\n",
       "        vertical-align: top;\n",
       "    }\n",
       "\n",
       "    .dataframe thead th {\n",
       "        text-align: right;\n",
       "    }\n",
       "</style>\n",
       "<table border=\"1\" class=\"dataframe\">\n",
       "  <thead>\n",
       "    <tr style=\"text-align: right;\">\n",
       "      <th></th>\n",
       "      <th>column1</th>\n",
       "      <th>column2</th>\n",
       "      <th>clus_no</th>\n",
       "    </tr>\n",
       "  </thead>\n",
       "  <tbody>\n",
       "    <tr>\n",
       "      <th>0</th>\n",
       "      <td>4.364812</td>\n",
       "      <td>27.364166</td>\n",
       "      <td>3</td>\n",
       "    </tr>\n",
       "    <tr>\n",
       "      <th>1</th>\n",
       "      <td>15.797206</td>\n",
       "      <td>-3.433955</td>\n",
       "      <td>2</td>\n",
       "    </tr>\n",
       "    <tr>\n",
       "      <th>2</th>\n",
       "      <td>12.052662</td>\n",
       "      <td>38.397358</td>\n",
       "      <td>3</td>\n",
       "    </tr>\n",
       "    <tr>\n",
       "      <th>3</th>\n",
       "      <td>14.622668</td>\n",
       "      <td>35.073730</td>\n",
       "      <td>3</td>\n",
       "    </tr>\n",
       "    <tr>\n",
       "      <th>4</th>\n",
       "      <td>-15.710217</td>\n",
       "      <td>4.416759</td>\n",
       "      <td>0</td>\n",
       "    </tr>\n",
       "  </tbody>\n",
       "</table>\n",
       "</div>"
      ],
      "text/plain": [
       "     column1    column2  clus_no\n",
       "0   4.364812  27.364166        3\n",
       "1  15.797206  -3.433955        2\n",
       "2  12.052662  38.397358        3\n",
       "3  14.622668  35.073730        3\n",
       "4 -15.710217   4.416759        0"
      ]
     },
     "execution_count": 101,
     "metadata": {},
     "output_type": "execute_result"
    }
   ],
   "source": [
    "ms_data.head()"
   ]
  },
  {
   "cell_type": "code",
   "execution_count": 102,
   "id": "94f21ba5",
   "metadata": {},
   "outputs": [],
   "source": [
    "#mean shift clustering visualization"
   ]
  },
  {
   "cell_type": "code",
   "execution_count": 103,
   "id": "0e8bf0b9",
   "metadata": {},
   "outputs": [],
   "source": [
    "import seaborn as sns"
   ]
  },
  {
   "cell_type": "code",
   "execution_count": 104,
   "id": "e0a3776c",
   "metadata": {},
   "outputs": [
    {
     "name": "stderr",
     "output_type": "stream",
     "text": [
      "F:\\Anaconda\\lib\\site-packages\\seaborn\\_decorators.py:36: FutureWarning: Pass the following variables as keyword args: x, y. From version 0.12, the only valid positional argument will be `data`, and passing other arguments without an explicit keyword will result in an error or misinterpretation.\n",
      "  warnings.warn(\n"
     ]
    },
    {
     "data": {
      "text/plain": [
       "<seaborn.axisgrid.FacetGrid at 0xe9ba391610>"
      ]
     },
     "execution_count": 104,
     "metadata": {},
     "output_type": "execute_result"
    },
    {
     "data": {
      "image/png": "[encoded data removed]",
      "text/plain": [
       "<Figure size 562.736x500 with 1 Axes>"
      ]
     },
     "metadata": {},
     "output_type": "display_data"
    }
   ],
   "source": [
    "sns.lmplot('column1','column2', data=ms_data, fit_reg=False, hue = 'clus_no')"
   ]
  },
  {
   "cell_type": "code",
   "execution_count": 105,
   "id": "c59c9663",
   "metadata": {},
   "outputs": [],
   "source": [
    "ms_data_y = pd.DataFrame(y)"
   ]
  },
  {
   "cell_type": "code",
   "execution_count": 106,
   "id": "3a7cc2bb",
   "metadata": {},
   "outputs": [],
   "source": [
    "ms_data_y.rename({0 : 'actual_class'}, axis = 1, inplace=True)"
   ]
  },
  {
   "cell_type": "code",
   "execution_count": 107,
   "id": "5fe6d7e8",
   "metadata": {},
   "outputs": [
    {
     "data": {
      "text/html": [
       "<div>\n",
       "<style scoped>\n",
       "    .dataframe tbody tr th:only-of-type {\n",
       "        vertical-align: middle;\n",
       "    }\n",
       "\n",
       "    .dataframe tbody tr th {\n",
       "        vertical-align: top;\n",
       "    }\n",
       "\n",
       "    .dataframe thead th {\n",
       "        text-align: right;\n",
       "    }\n",
       "</style>\n",
       "<table border=\"1\" class=\"dataframe\">\n",
       "  <thead>\n",
       "    <tr style=\"text-align: right;\">\n",
       "      <th></th>\n",
       "      <th>actual_class</th>\n",
       "    </tr>\n",
       "  </thead>\n",
       "  <tbody>\n",
       "    <tr>\n",
       "      <th>0</th>\n",
       "      <td>4</td>\n",
       "    </tr>\n",
       "    <tr>\n",
       "      <th>1</th>\n",
       "      <td>3</td>\n",
       "    </tr>\n",
       "    <tr>\n",
       "      <th>2</th>\n",
       "      <td>4</td>\n",
       "    </tr>\n",
       "    <tr>\n",
       "      <th>3</th>\n",
       "      <td>4</td>\n",
       "    </tr>\n",
       "    <tr>\n",
       "      <th>4</th>\n",
       "      <td>0</td>\n",
       "    </tr>\n",
       "  </tbody>\n",
       "</table>\n",
       "</div>"
      ],
      "text/plain": [
       "   actual_class\n",
       "0             4\n",
       "1             3\n",
       "2             4\n",
       "3             4\n",
       "4             0"
      ]
     },
     "execution_count": 107,
     "metadata": {},
     "output_type": "execute_result"
    }
   ],
   "source": [
    "ms_data_y.head()"
   ]
  },
  {
   "cell_type": "code",
   "execution_count": 108,
   "id": "c6246e13",
   "metadata": {},
   "outputs": [],
   "source": [
    "ms_y = MeanShift(bandwidth=10)"
   ]
  },
  {
   "cell_type": "code",
   "execution_count": 109,
   "id": "3b187266",
   "metadata": {},
   "outputs": [
    {
     "data": {
      "text/plain": [
       "MeanShift(bandwidth=10)"
      ]
     },
     "execution_count": 109,
     "metadata": {},
     "output_type": "execute_result"
    }
   ],
   "source": [
    "ms_y.fit(ms_data_y)"
   ]
  },
  {
   "cell_type": "code",
   "execution_count": 110,
   "id": "839040c4",
   "metadata": {},
   "outputs": [
    {
     "data": {
      "text/plain": [
       "array([0, 0, 0, 0, 0, 0, 0, 0, 0, 0, 0, 0, 0, 0, 0, 0, 0, 0, 0, 0, 0, 0,\n",
       "       0, 0, 0, 0, 0, 0, 0, 0, 0, 0, 0, 0, 0, 0, 0, 0, 0, 0, 0, 0, 0, 0,\n",
       "       0, 0, 0, 0, 0, 0, 0, 0, 0, 0, 0, 0, 0, 0, 0, 0, 0, 0, 0, 0, 0, 0,\n",
       "       0, 0, 0, 0, 0, 0, 0, 0, 0, 0, 0, 0, 0, 0, 0, 0, 0, 0, 0, 0, 0, 0,\n",
       "       0, 0, 0, 0, 0, 0, 0, 0, 0, 0, 0, 0, 0, 0, 0, 0, 0, 0, 0, 0, 0, 0,\n",
       "       0, 0, 0, 0, 0, 0, 0, 0, 0, 0, 0, 0, 0, 0, 0, 0, 0, 0, 0, 0, 0, 0,\n",
       "       0, 0, 0, 0, 0, 0, 0, 0, 0, 0, 0, 0, 0, 0, 0, 0, 0, 0, 0, 0, 0, 0,\n",
       "       0, 0, 0, 0, 0, 0, 0, 0, 0, 0, 0, 0, 0, 0, 0, 0, 0, 0, 0, 0, 0, 0,\n",
       "       0, 0, 0, 0, 0, 0, 0, 0, 0, 0, 0, 0, 0, 0, 0, 0, 0, 0, 0, 0, 0, 0,\n",
       "       0, 0, 0, 0, 0, 0, 0, 0, 0, 0, 0, 0, 0, 0, 0, 0, 0, 0, 0, 0, 0, 0,\n",
       "       0, 0, 0, 0, 0, 0, 0, 0, 0, 0, 0, 0, 0, 0, 0, 0, 0, 0, 0, 0, 0, 0,\n",
       "       0, 0, 0, 0, 0, 0, 0, 0, 0, 0, 0, 0, 0, 0, 0, 0, 0, 0, 0, 0, 0, 0,\n",
       "       0, 0, 0, 0, 0, 0, 0, 0, 0, 0, 0, 0, 0, 0, 0, 0, 0, 0, 0, 0, 0, 0,\n",
       "       0, 0, 0, 0, 0, 0, 0, 0, 0, 0, 0, 0, 0, 0, 0, 0, 0, 0, 0, 0, 0, 0,\n",
       "       0, 0, 0, 0, 0, 0, 0, 0, 0, 0, 0, 0, 0, 0, 0, 0, 0, 0, 0, 0, 0, 0,\n",
       "       0, 0, 0, 0, 0, 0, 0, 0, 0, 0, 0, 0, 0, 0, 0, 0, 0, 0, 0, 0, 0, 0,\n",
       "       0, 0, 0, 0, 0, 0, 0, 0, 0, 0, 0, 0, 0, 0, 0, 0, 0, 0, 0, 0, 0, 0,\n",
       "       0, 0, 0, 0, 0, 0, 0, 0, 0, 0, 0, 0, 0, 0, 0, 0, 0, 0, 0, 0, 0, 0,\n",
       "       0, 0, 0, 0, 0, 0, 0, 0, 0, 0, 0, 0, 0, 0, 0, 0, 0, 0, 0, 0, 0, 0,\n",
       "       0, 0, 0, 0, 0, 0, 0, 0, 0, 0, 0, 0, 0, 0, 0, 0, 0, 0, 0, 0, 0, 0,\n",
       "       0, 0, 0, 0, 0, 0, 0, 0, 0, 0, 0, 0, 0, 0, 0, 0, 0, 0, 0, 0, 0, 0,\n",
       "       0, 0, 0, 0, 0, 0, 0, 0, 0, 0, 0, 0, 0, 0, 0, 0, 0, 0, 0, 0, 0, 0,\n",
       "       0, 0, 0, 0, 0, 0, 0, 0, 0, 0, 0, 0, 0, 0, 0, 0, 0, 0, 0, 0, 0, 0,\n",
       "       0, 0, 0, 0, 0, 0, 0, 0, 0, 0, 0, 0, 0, 0, 0, 0, 0, 0, 0, 0, 0, 0,\n",
       "       0, 0, 0, 0, 0, 0, 0, 0, 0, 0, 0, 0, 0, 0, 0, 0, 0, 0, 0, 0, 0, 0,\n",
       "       0, 0, 0, 0, 0, 0, 0, 0, 0, 0, 0, 0, 0, 0, 0, 0, 0, 0, 0, 0, 0, 0,\n",
       "       0, 0, 0, 0, 0, 0, 0, 0, 0, 0, 0, 0, 0, 0, 0, 0, 0, 0, 0, 0, 0, 0,\n",
       "       0, 0, 0, 0, 0, 0, 0, 0, 0, 0, 0, 0, 0, 0, 0, 0, 0, 0, 0, 0, 0, 0,\n",
       "       0, 0, 0, 0, 0, 0, 0, 0, 0, 0, 0, 0, 0, 0, 0, 0, 0, 0, 0, 0, 0, 0,\n",
       "       0, 0, 0, 0, 0, 0, 0, 0, 0, 0, 0, 0, 0, 0, 0, 0, 0, 0, 0, 0, 0, 0,\n",
       "       0, 0, 0, 0, 0, 0, 0, 0, 0, 0, 0, 0, 0, 0, 0, 0, 0, 0, 0, 0, 0, 0,\n",
       "       0, 0, 0, 0, 0, 0, 0, 0, 0, 0, 0, 0, 0, 0, 0, 0, 0, 0, 0, 0, 0, 0,\n",
       "       0, 0, 0, 0, 0, 0, 0, 0, 0, 0, 0, 0, 0, 0, 0, 0, 0, 0, 0, 0, 0, 0,\n",
       "       0, 0, 0, 0, 0, 0, 0, 0, 0, 0, 0, 0, 0, 0, 0, 0, 0, 0, 0, 0, 0, 0,\n",
       "       0, 0, 0, 0, 0, 0, 0, 0, 0, 0, 0, 0, 0, 0, 0, 0, 0, 0, 0, 0, 0, 0,\n",
       "       0, 0, 0, 0, 0, 0, 0, 0, 0, 0, 0, 0, 0, 0, 0, 0, 0, 0, 0, 0, 0, 0,\n",
       "       0, 0, 0, 0, 0, 0, 0, 0, 0], dtype=int64)"
      ]
     },
     "execution_count": 110,
     "metadata": {},
     "output_type": "execute_result"
    }
   ],
   "source": [
    "ms_y.labels_"
   ]
  },
  {
   "cell_type": "code",
   "execution_count": 111,
   "id": "5ba9b02d",
   "metadata": {},
   "outputs": [],
   "source": [
    "ms_data_y['clus_label'] = ms_y.labels_"
   ]
  },
  {
   "cell_type": "code",
   "execution_count": 112,
   "id": "d769e5f7",
   "metadata": {},
   "outputs": [
    {
     "data": {
      "text/html": [
       "<div>\n",
       "<style scoped>\n",
       "    .dataframe tbody tr th:only-of-type {\n",
       "        vertical-align: middle;\n",
       "    }\n",
       "\n",
       "    .dataframe tbody tr th {\n",
       "        vertical-align: top;\n",
       "    }\n",
       "\n",
       "    .dataframe thead th {\n",
       "        text-align: right;\n",
       "    }\n",
       "</style>\n",
       "<table border=\"1\" class=\"dataframe\">\n",
       "  <thead>\n",
       "    <tr style=\"text-align: right;\">\n",
       "      <th></th>\n",
       "      <th>actual_class</th>\n",
       "      <th>clus_label</th>\n",
       "    </tr>\n",
       "  </thead>\n",
       "  <tbody>\n",
       "    <tr>\n",
       "      <th>0</th>\n",
       "      <td>4</td>\n",
       "      <td>0</td>\n",
       "    </tr>\n",
       "    <tr>\n",
       "      <th>1</th>\n",
       "      <td>3</td>\n",
       "      <td>0</td>\n",
       "    </tr>\n",
       "    <tr>\n",
       "      <th>2</th>\n",
       "      <td>4</td>\n",
       "      <td>0</td>\n",
       "    </tr>\n",
       "    <tr>\n",
       "      <th>3</th>\n",
       "      <td>4</td>\n",
       "      <td>0</td>\n",
       "    </tr>\n",
       "    <tr>\n",
       "      <th>4</th>\n",
       "      <td>0</td>\n",
       "      <td>0</td>\n",
       "    </tr>\n",
       "  </tbody>\n",
       "</table>\n",
       "</div>"
      ],
      "text/plain": [
       "   actual_class  clus_label\n",
       "0             4           0\n",
       "1             3           0\n",
       "2             4           0\n",
       "3             4           0\n",
       "4             0           0"
      ]
     },
     "execution_count": 112,
     "metadata": {},
     "output_type": "execute_result"
    }
   ],
   "source": [
    "ms_data_y.head()"
   ]
  },
  {
   "cell_type": "code",
   "execution_count": 113,
   "id": "92ab1193",
   "metadata": {},
   "outputs": [
    {
     "data": {
      "text/plain": [
       "RangeIndex(start=0, stop=801, step=1)"
      ]
     },
     "execution_count": 113,
     "metadata": {},
     "output_type": "execute_result"
    }
   ],
   "source": [
    "ms_data_y.index"
   ]
  },
  {
   "cell_type": "code",
   "execution_count": 114,
   "id": "63e5635d",
   "metadata": {},
   "outputs": [
    {
     "data": {
      "text/html": [
       "<div>\n",
       "<style scoped>\n",
       "    .dataframe tbody tr th:only-of-type {\n",
       "        vertical-align: middle;\n",
       "    }\n",
       "\n",
       "    .dataframe tbody tr th {\n",
       "        vertical-align: top;\n",
       "    }\n",
       "\n",
       "    .dataframe thead th {\n",
       "        text-align: right;\n",
       "    }\n",
       "</style>\n",
       "<table border=\"1\" class=\"dataframe\">\n",
       "  <thead>\n",
       "    <tr style=\"text-align: right;\">\n",
       "      <th></th>\n",
       "      <th>actual_class</th>\n",
       "      <th>clus_label</th>\n",
       "      <th>index_col</th>\n",
       "    </tr>\n",
       "  </thead>\n",
       "  <tbody>\n",
       "    <tr>\n",
       "      <th>0</th>\n",
       "      <td>4</td>\n",
       "      <td>0</td>\n",
       "      <td>0</td>\n",
       "    </tr>\n",
       "    <tr>\n",
       "      <th>1</th>\n",
       "      <td>3</td>\n",
       "      <td>0</td>\n",
       "      <td>1</td>\n",
       "    </tr>\n",
       "    <tr>\n",
       "      <th>2</th>\n",
       "      <td>4</td>\n",
       "      <td>0</td>\n",
       "      <td>2</td>\n",
       "    </tr>\n",
       "    <tr>\n",
       "      <th>3</th>\n",
       "      <td>4</td>\n",
       "      <td>0</td>\n",
       "      <td>3</td>\n",
       "    </tr>\n",
       "    <tr>\n",
       "      <th>4</th>\n",
       "      <td>0</td>\n",
       "      <td>0</td>\n",
       "      <td>4</td>\n",
       "    </tr>\n",
       "    <tr>\n",
       "      <th>...</th>\n",
       "      <td>...</td>\n",
       "      <td>...</td>\n",
       "      <td>...</td>\n",
       "    </tr>\n",
       "    <tr>\n",
       "      <th>796</th>\n",
       "      <td>0</td>\n",
       "      <td>0</td>\n",
       "      <td>796</td>\n",
       "    </tr>\n",
       "    <tr>\n",
       "      <th>797</th>\n",
       "      <td>3</td>\n",
       "      <td>0</td>\n",
       "      <td>797</td>\n",
       "    </tr>\n",
       "    <tr>\n",
       "      <th>798</th>\n",
       "      <td>1</td>\n",
       "      <td>0</td>\n",
       "      <td>798</td>\n",
       "    </tr>\n",
       "    <tr>\n",
       "      <th>799</th>\n",
       "      <td>4</td>\n",
       "      <td>0</td>\n",
       "      <td>799</td>\n",
       "    </tr>\n",
       "    <tr>\n",
       "      <th>800</th>\n",
       "      <td>4</td>\n",
       "      <td>0</td>\n",
       "      <td>800</td>\n",
       "    </tr>\n",
       "  </tbody>\n",
       "</table>\n",
       "<p>801 rows × 3 columns</p>\n",
       "</div>"
      ],
      "text/plain": [
       "     actual_class  clus_label  index_col\n",
       "0               4           0          0\n",
       "1               3           0          1\n",
       "2               4           0          2\n",
       "3               4           0          3\n",
       "4               0           0          4\n",
       "..            ...         ...        ...\n",
       "796             0           0        796\n",
       "797             3           0        797\n",
       "798             1           0        798\n",
       "799             4           0        799\n",
       "800             4           0        800\n",
       "\n",
       "[801 rows x 3 columns]"
      ]
     },
     "execution_count": 114,
     "metadata": {},
     "output_type": "execute_result"
    }
   ],
   "source": [
    "ms_data_y['index_col'] = ms_data_y.index\n",
    "ms_data_y"
   ]
  },
  {
   "cell_type": "code",
   "execution_count": 115,
   "id": "d1c54df4",
   "metadata": {},
   "outputs": [
    {
     "name": "stderr",
     "output_type": "stream",
     "text": [
      "F:\\Anaconda\\lib\\site-packages\\seaborn\\_decorators.py:36: FutureWarning: Pass the following variables as keyword args: x, y. From version 0.12, the only valid positional argument will be `data`, and passing other arguments without an explicit keyword will result in an error or misinterpretation.\n",
      "  warnings.warn(\n"
     ]
    },
    {
     "data": {
      "text/plain": [
       "<seaborn.axisgrid.FacetGrid at 0xe9ba47cc40>"
      ]
     },
     "execution_count": 115,
     "metadata": {},
     "output_type": "execute_result"
    },
    {
     "data": {
      "image/png": "[encoded data removed]",
      "text/plain": [
       "<Figure size 579.236x500 with 1 Axes>"
      ]
     },
     "metadata": {},
     "output_type": "display_data"
    }
   ],
   "source": [
    "sns.lmplot('index_col','actual_class', data= ms_data_y,hue ='clus_label', fit_reg=False)"
   ]
  },
  {
   "cell_type": "markdown",
   "id": "31923b6f",
   "metadata": {},
   "source": [
    "## Building Classification Model(s) with Feature Selection"
   ]
  },
  {
   "cell_type": "markdown",
   "id": "0af2b31e",
   "metadata": {},
   "source": [
    "##### Building classification model"
   ]
  },
  {
   "cell_type": "code",
   "execution_count": 116,
   "id": "ac684bc5",
   "metadata": {},
   "outputs": [
    {
     "data": {
      "text/html": [
       "<div>\n",
       "<style scoped>\n",
       "    .dataframe tbody tr th:only-of-type {\n",
       "        vertical-align: middle;\n",
       "    }\n",
       "\n",
       "    .dataframe tbody tr th {\n",
       "        vertical-align: top;\n",
       "    }\n",
       "\n",
       "    .dataframe thead th {\n",
       "        text-align: right;\n",
       "    }\n",
       "</style>\n",
       "<table border=\"1\" class=\"dataframe\">\n",
       "  <thead>\n",
       "    <tr style=\"text-align: right;\">\n",
       "      <th></th>\n",
       "      <th>Unnamed: 0</th>\n",
       "      <th>gene_0</th>\n",
       "      <th>gene_1</th>\n",
       "      <th>gene_2</th>\n",
       "      <th>gene_3</th>\n",
       "      <th>gene_4</th>\n",
       "      <th>gene_5</th>\n",
       "      <th>gene_6</th>\n",
       "      <th>gene_7</th>\n",
       "      <th>gene_8</th>\n",
       "      <th>...</th>\n",
       "      <th>gene_20521</th>\n",
       "      <th>gene_20522</th>\n",
       "      <th>gene_20523</th>\n",
       "      <th>gene_20524</th>\n",
       "      <th>gene_20525</th>\n",
       "      <th>gene_20526</th>\n",
       "      <th>gene_20527</th>\n",
       "      <th>gene_20528</th>\n",
       "      <th>gene_20529</th>\n",
       "      <th>gene_20530</th>\n",
       "    </tr>\n",
       "  </thead>\n",
       "  <tbody>\n",
       "    <tr>\n",
       "      <th>0</th>\n",
       "      <td>sample_0</td>\n",
       "      <td>0.0</td>\n",
       "      <td>2.017209</td>\n",
       "      <td>3.265527</td>\n",
       "      <td>5.478487</td>\n",
       "      <td>10.431999</td>\n",
       "      <td>0.0</td>\n",
       "      <td>7.175175</td>\n",
       "      <td>0.591871</td>\n",
       "      <td>0.0</td>\n",
       "      <td>...</td>\n",
       "      <td>4.926711</td>\n",
       "      <td>8.210257</td>\n",
       "      <td>9.723516</td>\n",
       "      <td>7.220030</td>\n",
       "      <td>9.119813</td>\n",
       "      <td>12.003135</td>\n",
       "      <td>9.650743</td>\n",
       "      <td>8.921326</td>\n",
       "      <td>5.286759</td>\n",
       "      <td>0.000000</td>\n",
       "    </tr>\n",
       "    <tr>\n",
       "      <th>1</th>\n",
       "      <td>sample_1</td>\n",
       "      <td>0.0</td>\n",
       "      <td>0.592732</td>\n",
       "      <td>1.588421</td>\n",
       "      <td>7.586157</td>\n",
       "      <td>9.623011</td>\n",
       "      <td>0.0</td>\n",
       "      <td>6.816049</td>\n",
       "      <td>0.000000</td>\n",
       "      <td>0.0</td>\n",
       "      <td>...</td>\n",
       "      <td>4.593372</td>\n",
       "      <td>7.323865</td>\n",
       "      <td>9.740931</td>\n",
       "      <td>6.256586</td>\n",
       "      <td>8.381612</td>\n",
       "      <td>12.674552</td>\n",
       "      <td>10.517059</td>\n",
       "      <td>9.397854</td>\n",
       "      <td>2.094168</td>\n",
       "      <td>0.000000</td>\n",
       "    </tr>\n",
       "    <tr>\n",
       "      <th>2</th>\n",
       "      <td>sample_2</td>\n",
       "      <td>0.0</td>\n",
       "      <td>3.511759</td>\n",
       "      <td>4.327199</td>\n",
       "      <td>6.881787</td>\n",
       "      <td>9.870730</td>\n",
       "      <td>0.0</td>\n",
       "      <td>6.972130</td>\n",
       "      <td>0.452595</td>\n",
       "      <td>0.0</td>\n",
       "      <td>...</td>\n",
       "      <td>5.125213</td>\n",
       "      <td>8.127123</td>\n",
       "      <td>10.908640</td>\n",
       "      <td>5.401607</td>\n",
       "      <td>9.911597</td>\n",
       "      <td>9.045255</td>\n",
       "      <td>9.788359</td>\n",
       "      <td>10.090470</td>\n",
       "      <td>1.683023</td>\n",
       "      <td>0.000000</td>\n",
       "    </tr>\n",
       "    <tr>\n",
       "      <th>3</th>\n",
       "      <td>sample_3</td>\n",
       "      <td>0.0</td>\n",
       "      <td>3.663618</td>\n",
       "      <td>4.507649</td>\n",
       "      <td>6.659068</td>\n",
       "      <td>10.196184</td>\n",
       "      <td>0.0</td>\n",
       "      <td>7.843375</td>\n",
       "      <td>0.434882</td>\n",
       "      <td>0.0</td>\n",
       "      <td>...</td>\n",
       "      <td>6.076566</td>\n",
       "      <td>8.792959</td>\n",
       "      <td>10.141520</td>\n",
       "      <td>8.942805</td>\n",
       "      <td>9.601208</td>\n",
       "      <td>11.392682</td>\n",
       "      <td>9.694814</td>\n",
       "      <td>9.684365</td>\n",
       "      <td>3.292001</td>\n",
       "      <td>0.000000</td>\n",
       "    </tr>\n",
       "    <tr>\n",
       "      <th>4</th>\n",
       "      <td>sample_4</td>\n",
       "      <td>0.0</td>\n",
       "      <td>2.655741</td>\n",
       "      <td>2.821547</td>\n",
       "      <td>6.539454</td>\n",
       "      <td>9.738265</td>\n",
       "      <td>0.0</td>\n",
       "      <td>6.566967</td>\n",
       "      <td>0.360982</td>\n",
       "      <td>0.0</td>\n",
       "      <td>...</td>\n",
       "      <td>5.996032</td>\n",
       "      <td>8.891425</td>\n",
       "      <td>10.373790</td>\n",
       "      <td>7.181162</td>\n",
       "      <td>9.846910</td>\n",
       "      <td>11.922439</td>\n",
       "      <td>9.217749</td>\n",
       "      <td>9.461191</td>\n",
       "      <td>5.110372</td>\n",
       "      <td>0.000000</td>\n",
       "    </tr>\n",
       "    <tr>\n",
       "      <th>...</th>\n",
       "      <td>...</td>\n",
       "      <td>...</td>\n",
       "      <td>...</td>\n",
       "      <td>...</td>\n",
       "      <td>...</td>\n",
       "      <td>...</td>\n",
       "      <td>...</td>\n",
       "      <td>...</td>\n",
       "      <td>...</td>\n",
       "      <td>...</td>\n",
       "      <td>...</td>\n",
       "      <td>...</td>\n",
       "      <td>...</td>\n",
       "      <td>...</td>\n",
       "      <td>...</td>\n",
       "      <td>...</td>\n",
       "      <td>...</td>\n",
       "      <td>...</td>\n",
       "      <td>...</td>\n",
       "      <td>...</td>\n",
       "      <td>...</td>\n",
       "    </tr>\n",
       "    <tr>\n",
       "      <th>796</th>\n",
       "      <td>sample_796</td>\n",
       "      <td>0.0</td>\n",
       "      <td>1.865642</td>\n",
       "      <td>2.718197</td>\n",
       "      <td>7.350099</td>\n",
       "      <td>10.006003</td>\n",
       "      <td>0.0</td>\n",
       "      <td>6.764792</td>\n",
       "      <td>0.496922</td>\n",
       "      <td>0.0</td>\n",
       "      <td>...</td>\n",
       "      <td>6.088133</td>\n",
       "      <td>9.118313</td>\n",
       "      <td>10.004852</td>\n",
       "      <td>4.484415</td>\n",
       "      <td>9.614701</td>\n",
       "      <td>12.031267</td>\n",
       "      <td>9.813063</td>\n",
       "      <td>10.092770</td>\n",
       "      <td>8.819269</td>\n",
       "      <td>0.000000</td>\n",
       "    </tr>\n",
       "    <tr>\n",
       "      <th>797</th>\n",
       "      <td>sample_797</td>\n",
       "      <td>0.0</td>\n",
       "      <td>3.942955</td>\n",
       "      <td>4.453807</td>\n",
       "      <td>6.346597</td>\n",
       "      <td>10.056868</td>\n",
       "      <td>0.0</td>\n",
       "      <td>7.320331</td>\n",
       "      <td>0.000000</td>\n",
       "      <td>0.0</td>\n",
       "      <td>...</td>\n",
       "      <td>6.371876</td>\n",
       "      <td>9.623335</td>\n",
       "      <td>9.823921</td>\n",
       "      <td>6.555327</td>\n",
       "      <td>9.064002</td>\n",
       "      <td>11.633422</td>\n",
       "      <td>10.317266</td>\n",
       "      <td>8.745983</td>\n",
       "      <td>9.659081</td>\n",
       "      <td>0.000000</td>\n",
       "    </tr>\n",
       "    <tr>\n",
       "      <th>798</th>\n",
       "      <td>sample_798</td>\n",
       "      <td>0.0</td>\n",
       "      <td>3.249582</td>\n",
       "      <td>3.707492</td>\n",
       "      <td>8.185901</td>\n",
       "      <td>9.504082</td>\n",
       "      <td>0.0</td>\n",
       "      <td>7.536589</td>\n",
       "      <td>1.811101</td>\n",
       "      <td>0.0</td>\n",
       "      <td>...</td>\n",
       "      <td>5.719386</td>\n",
       "      <td>8.610704</td>\n",
       "      <td>10.485517</td>\n",
       "      <td>3.589763</td>\n",
       "      <td>9.350636</td>\n",
       "      <td>12.180944</td>\n",
       "      <td>10.681194</td>\n",
       "      <td>9.466711</td>\n",
       "      <td>4.677458</td>\n",
       "      <td>0.586693</td>\n",
       "    </tr>\n",
       "    <tr>\n",
       "      <th>799</th>\n",
       "      <td>sample_799</td>\n",
       "      <td>0.0</td>\n",
       "      <td>2.590339</td>\n",
       "      <td>2.787976</td>\n",
       "      <td>7.318624</td>\n",
       "      <td>9.987136</td>\n",
       "      <td>0.0</td>\n",
       "      <td>9.213464</td>\n",
       "      <td>0.000000</td>\n",
       "      <td>0.0</td>\n",
       "      <td>...</td>\n",
       "      <td>5.785237</td>\n",
       "      <td>8.605387</td>\n",
       "      <td>11.004677</td>\n",
       "      <td>4.745888</td>\n",
       "      <td>9.626383</td>\n",
       "      <td>11.198279</td>\n",
       "      <td>10.335513</td>\n",
       "      <td>10.400581</td>\n",
       "      <td>5.718751</td>\n",
       "      <td>0.000000</td>\n",
       "    </tr>\n",
       "    <tr>\n",
       "      <th>800</th>\n",
       "      <td>sample_800</td>\n",
       "      <td>0.0</td>\n",
       "      <td>2.325242</td>\n",
       "      <td>3.805932</td>\n",
       "      <td>6.530246</td>\n",
       "      <td>9.560367</td>\n",
       "      <td>0.0</td>\n",
       "      <td>7.957027</td>\n",
       "      <td>0.000000</td>\n",
       "      <td>0.0</td>\n",
       "      <td>...</td>\n",
       "      <td>6.403075</td>\n",
       "      <td>8.594354</td>\n",
       "      <td>10.243079</td>\n",
       "      <td>9.139459</td>\n",
       "      <td>10.102934</td>\n",
       "      <td>11.641081</td>\n",
       "      <td>10.607358</td>\n",
       "      <td>9.844794</td>\n",
       "      <td>4.550716</td>\n",
       "      <td>0.000000</td>\n",
       "    </tr>\n",
       "  </tbody>\n",
       "</table>\n",
       "<p>801 rows × 20532 columns</p>\n",
       "</div>"
      ],
      "text/plain": [
       "     Unnamed: 0  gene_0    gene_1    gene_2    gene_3     gene_4  gene_5  \\\n",
       "0      sample_0     0.0  2.017209  3.265527  5.478487  10.431999     0.0   \n",
       "1      sample_1     0.0  0.592732  1.588421  7.586157   9.623011     0.0   \n",
       "2      sample_2     0.0  3.511759  4.327199  6.881787   9.870730     0.0   \n",
       "3      sample_3     0.0  3.663618  4.507649  6.659068  10.196184     0.0   \n",
       "4      sample_4     0.0  2.655741  2.821547  6.539454   9.738265     0.0   \n",
       "..          ...     ...       ...       ...       ...        ...     ...   \n",
       "796  sample_796     0.0  1.865642  2.718197  7.350099  10.006003     0.0   \n",
       "797  sample_797     0.0  3.942955  4.453807  6.346597  10.056868     0.0   \n",
       "798  sample_798     0.0  3.249582  3.707492  8.185901   9.504082     0.0   \n",
       "799  sample_799     0.0  2.590339  2.787976  7.318624   9.987136     0.0   \n",
       "800  sample_800     0.0  2.325242  3.805932  6.530246   9.560367     0.0   \n",
       "\n",
       "       gene_6    gene_7  gene_8  ...  gene_20521  gene_20522  gene_20523  \\\n",
       "0    7.175175  0.591871     0.0  ...    4.926711    8.210257    9.723516   \n",
       "1    6.816049  0.000000     0.0  ...    4.593372    7.323865    9.740931   \n",
       "2    6.972130  0.452595     0.0  ...    5.125213    8.127123   10.908640   \n",
       "3    7.843375  0.434882     0.0  ...    6.076566    8.792959   10.141520   \n",
       "4    6.566967  0.360982     0.0  ...    5.996032    8.891425   10.373790   \n",
       "..        ...       ...     ...  ...         ...         ...         ...   \n",
       "796  6.764792  0.496922     0.0  ...    6.088133    9.118313   10.004852   \n",
       "797  7.320331  0.000000     0.0  ...    6.371876    9.623335    9.823921   \n",
       "798  7.536589  1.811101     0.0  ...    5.719386    8.610704   10.485517   \n",
       "799  9.213464  0.000000     0.0  ...    5.785237    8.605387   11.004677   \n",
       "800  7.957027  0.000000     0.0  ...    6.403075    8.594354   10.243079   \n",
       "\n",
       "     gene_20524  gene_20525  gene_20526  gene_20527  gene_20528  gene_20529  \\\n",
       "0      7.220030    9.119813   12.003135    9.650743    8.921326    5.286759   \n",
       "1      6.256586    8.381612   12.674552   10.517059    9.397854    2.094168   \n",
       "2      5.401607    9.911597    9.045255    9.788359   10.090470    1.683023   \n",
       "3      8.942805    9.601208   11.392682    9.694814    9.684365    3.292001   \n",
       "4      7.181162    9.846910   11.922439    9.217749    9.461191    5.110372   \n",
       "..          ...         ...         ...         ...         ...         ...   \n",
       "796    4.484415    9.614701   12.031267    9.813063   10.092770    8.819269   \n",
       "797    6.555327    9.064002   11.633422   10.317266    8.745983    9.659081   \n",
       "798    3.589763    9.350636   12.180944   10.681194    9.466711    4.677458   \n",
       "799    4.745888    9.626383   11.198279   10.335513   10.400581    5.718751   \n",
       "800    9.139459   10.102934   11.641081   10.607358    9.844794    4.550716   \n",
       "\n",
       "     gene_20530  \n",
       "0      0.000000  \n",
       "1      0.000000  \n",
       "2      0.000000  \n",
       "3      0.000000  \n",
       "4      0.000000  \n",
       "..          ...  \n",
       "796    0.000000  \n",
       "797    0.000000  \n",
       "798    0.586693  \n",
       "799    0.000000  \n",
       "800    0.000000  \n",
       "\n",
       "[801 rows x 20532 columns]"
      ]
     },
     "execution_count": 116,
     "metadata": {},
     "output_type": "execute_result"
    }
   ],
   "source": [
    "df"
   ]
  },
  {
   "cell_type": "code",
   "execution_count": 117,
   "id": "eb8a7ca9",
   "metadata": {
    "scrolled": true
   },
   "outputs": [],
   "source": [
    "df.drop('Unnamed: 0', axis = 1, inplace = True)"
   ]
  },
  {
   "cell_type": "code",
   "execution_count": 118,
   "id": "56d354f1",
   "metadata": {},
   "outputs": [
    {
     "data": {
      "text/plain": [
       "(801, 20531)"
      ]
     },
     "execution_count": 118,
     "metadata": {},
     "output_type": "execute_result"
    }
   ],
   "source": [
    "# independent variable shape\n",
    "df.shape"
   ]
  },
  {
   "cell_type": "code",
   "execution_count": 119,
   "id": "cc738575",
   "metadata": {},
   "outputs": [
    {
     "data": {
      "text/plain": [
       "(801,)"
      ]
     },
     "execution_count": 119,
     "metadata": {},
     "output_type": "execute_result"
    }
   ],
   "source": [
    "# dependent variable shape\n",
    "y.shape"
   ]
  },
  {
   "cell_type": "code",
   "execution_count": 120,
   "id": "f40c44a6",
   "metadata": {},
   "outputs": [],
   "source": [
    "from sklearn.model_selection import train_test_split\n",
    "\n",
    "X_train_svm,X_test_svm,y_train,y_test = train_test_split(df,y,test_size=0.3)"
   ]
  },
  {
   "cell_type": "code",
   "execution_count": 121,
   "id": "b691d410",
   "metadata": {},
   "outputs": [
    {
     "data": {
      "text/plain": [
       "(560, 20531)"
      ]
     },
     "execution_count": 121,
     "metadata": {},
     "output_type": "execute_result"
    }
   ],
   "source": [
    "X_train_svm.shape"
   ]
  },
  {
   "cell_type": "code",
   "execution_count": 122,
   "id": "0cc19ef9",
   "metadata": {},
   "outputs": [
    {
     "data": {
      "text/plain": [
       "(241, 20531)"
      ]
     },
     "execution_count": 122,
     "metadata": {},
     "output_type": "execute_result"
    }
   ],
   "source": [
    "X_test_svm.shape"
   ]
  },
  {
   "cell_type": "code",
   "execution_count": 123,
   "id": "ac5df38c",
   "metadata": {},
   "outputs": [
    {
     "data": {
      "text/plain": [
       "(560,)"
      ]
     },
     "execution_count": 123,
     "metadata": {},
     "output_type": "execute_result"
    }
   ],
   "source": [
    "y_train.shape"
   ]
  },
  {
   "cell_type": "code",
   "execution_count": 124,
   "id": "1910c43b",
   "metadata": {},
   "outputs": [
    {
     "data": {
      "text/plain": [
       "241"
      ]
     },
     "execution_count": 124,
     "metadata": {},
     "output_type": "execute_result"
    }
   ],
   "source": [
    "y_test.size"
   ]
  },
  {
   "cell_type": "markdown",
   "id": "5df98001",
   "metadata": {},
   "source": [
    "##### Support Vector Machines"
   ]
  },
  {
   "cell_type": "code",
   "execution_count": 125,
   "id": "b3984c7d",
   "metadata": {},
   "outputs": [],
   "source": [
    "from sklearn.svm import SVC"
   ]
  },
  {
   "cell_type": "code",
   "execution_count": 126,
   "id": "fce0c63f",
   "metadata": {},
   "outputs": [],
   "source": [
    "model_svc = SVC()"
   ]
  },
  {
   "cell_type": "code",
   "execution_count": 127,
   "id": "b203c992",
   "metadata": {},
   "outputs": [
    {
     "data": {
      "text/plain": [
       "SVC()"
      ]
     },
     "execution_count": 127,
     "metadata": {},
     "output_type": "execute_result"
    }
   ],
   "source": [
    "model_svc.fit(X_train_svm,y_train)"
   ]
  },
  {
   "cell_type": "code",
   "execution_count": 128,
   "id": "e2c1f30e",
   "metadata": {},
   "outputs": [],
   "source": [
    "y_pred = model_svc.predict(X_test_svm)"
   ]
  },
  {
   "cell_type": "code",
   "execution_count": 129,
   "id": "79484076",
   "metadata": {},
   "outputs": [
    {
     "data": {
      "text/plain": [
       "array([0, 0, 3, 3, 0, 2, 4, 2, 4, 4, 2, 0, 3, 4, 0, 2, 0, 0, 2, 3, 0, 3,\n",
       "       0, 0, 0, 2, 1, 0, 3, 3, 0, 3, 0, 0, 1, 2, 3, 1, 0, 3, 0, 3, 2, 3,\n",
       "       1, 2, 2, 4, 0, 0, 2, 0, 0, 0, 0, 0, 2, 3, 2, 2, 2, 1, 0, 0, 0, 0,\n",
       "       2, 0, 1, 0, 0, 0, 3, 4, 0, 3, 0, 4, 0, 0, 4, 4, 2, 4, 4, 2, 3, 3,\n",
       "       2, 3, 1, 1, 0, 0, 0, 3, 0, 0, 3, 0, 1, 2, 3, 2, 3, 0, 2, 0, 4, 4,\n",
       "       4, 4, 2, 0, 3, 4, 0, 4, 0, 2, 1, 2, 0, 0, 0, 3, 4, 2, 2, 3, 1, 0,\n",
       "       0, 2, 0, 4, 0, 0, 0, 4, 1, 3, 4, 3, 2, 2, 4, 0, 3, 2, 4, 0, 1, 1,\n",
       "       4, 2, 0, 0, 0, 3, 1, 2, 1, 0, 0, 2, 0, 4, 2, 3, 2, 0, 4, 0, 0, 0,\n",
       "       4, 1, 0, 0, 0, 0, 2, 3, 3, 0, 1, 1, 0, 0, 0, 3, 3, 2, 0, 0, 4, 0,\n",
       "       0, 4, 0, 2, 3, 0, 4, 0, 0, 4, 0, 2, 0, 1, 0, 1, 4, 0, 0, 3, 2, 1,\n",
       "       0, 3, 0, 2, 3, 1, 1, 1, 2, 0, 0, 1, 4, 3, 2, 3, 3, 0, 0, 0, 1])"
      ]
     },
     "execution_count": 129,
     "metadata": {},
     "output_type": "execute_result"
    }
   ],
   "source": [
    "y_pred"
   ]
  },
  {
   "cell_type": "code",
   "execution_count": 130,
   "id": "1c6b04a9",
   "metadata": {},
   "outputs": [],
   "source": [
    "from sklearn.metrics import accuracy_score, confusion_matrix, classification_report"
   ]
  },
  {
   "cell_type": "code",
   "execution_count": 131,
   "id": "1c2b043a",
   "metadata": {},
   "outputs": [
    {
     "data": {
      "text/plain": [
       "0.995850622406639"
      ]
     },
     "execution_count": 131,
     "metadata": {},
     "output_type": "execute_result"
    }
   ],
   "source": [
    "accuracy_score(y_test, y_pred)"
   ]
  },
  {
   "cell_type": "code",
   "execution_count": 132,
   "id": "a4ee29c3",
   "metadata": {},
   "outputs": [
    {
     "name": "stdout",
     "output_type": "stream",
     "text": [
      "              precision    recall  f1-score   support\n",
      "\n",
      "           0       1.00      1.00      1.00        96\n",
      "           1       1.00      0.96      0.98        28\n",
      "           2       1.00      1.00      1.00        44\n",
      "           3       0.98      1.00      0.99        40\n",
      "           4       1.00      1.00      1.00        33\n",
      "\n",
      "    accuracy                           1.00       241\n",
      "   macro avg       1.00      0.99      0.99       241\n",
      "weighted avg       1.00      1.00      1.00       241\n",
      "\n"
     ]
    }
   ],
   "source": [
    "print(classification_report(y_test,y_pred))"
   ]
  },
  {
   "cell_type": "code",
   "execution_count": 133,
   "id": "3d0c9466",
   "metadata": {},
   "outputs": [],
   "source": [
    "# ROC code"
   ]
  },
  {
   "cell_type": "code",
   "execution_count": 134,
   "id": "cb374d49",
   "metadata": {},
   "outputs": [],
   "source": [
    "from sklearn.metrics import roc_auc_score\n",
    "model_roc_svm = SVC(probability=True)"
   ]
  },
  {
   "cell_type": "code",
   "execution_count": 135,
   "id": "dc75c5fa",
   "metadata": {},
   "outputs": [
    {
     "data": {
      "text/plain": [
       "SVC(probability=True)"
      ]
     },
     "execution_count": 135,
     "metadata": {},
     "output_type": "execute_result"
    }
   ],
   "source": [
    "model_roc_svm.fit(X_train_svm,y_train)"
   ]
  },
  {
   "cell_type": "code",
   "execution_count": 136,
   "id": "2bf1fd8f",
   "metadata": {},
   "outputs": [],
   "source": [
    "y_test_pred = model_roc_svm.predict_proba(X_test_svm)"
   ]
  },
  {
   "cell_type": "code",
   "execution_count": 137,
   "id": "1cdc8b64",
   "metadata": {},
   "outputs": [
    {
     "data": {
      "text/plain": [
       "array([[9.92936519e-01, 1.36583710e-03, 1.51769327e-03, 2.62166041e-03,\n",
       "        1.55829015e-03],\n",
       "       [9.81762973e-01, 2.18493021e-03, 2.36786841e-03, 8.46249183e-03,\n",
       "        5.22173629e-03],\n",
       "       [1.63879603e-02, 1.18806416e-01, 1.69579628e-02, 8.38013499e-01,\n",
       "        9.83416152e-03],\n",
       "       ...,\n",
       "       [9.93344349e-01, 8.64664033e-04, 1.56029651e-03, 1.81567934e-03,\n",
       "        2.41501078e-03],\n",
       "       [9.93057892e-01, 8.34318334e-04, 1.57681359e-03, 2.21803842e-03,\n",
       "        2.31293727e-03],\n",
       "       [9.37979987e-03, 9.66059717e-01, 5.23487717e-03, 1.24471211e-02,\n",
       "        6.87848488e-03]])"
      ]
     },
     "execution_count": 137,
     "metadata": {},
     "output_type": "execute_result"
    }
   ],
   "source": [
    "y_test_pred"
   ]
  },
  {
   "cell_type": "code",
   "execution_count": 138,
   "id": "ee838f1f",
   "metadata": {},
   "outputs": [
    {
     "data": {
      "text/plain": [
       "1.0"
      ]
     },
     "execution_count": 138,
     "metadata": {},
     "output_type": "execute_result"
    }
   ],
   "source": [
    "# roc_auc_score\n",
    "roc_auc_score(y_test,y_test_pred,multi_class='ovr')"
   ]
  },
  {
   "cell_type": "markdown",
   "id": "4698650c",
   "metadata": {},
   "source": [
    "##### Classification using Random Forest"
   ]
  },
  {
   "cell_type": "code",
   "execution_count": 139,
   "id": "95459357",
   "metadata": {},
   "outputs": [],
   "source": [
    "X_train_rf,X_test_rf,y_train_rf,y_test_rf = train_test_split(df,y,test_size=0.3)"
   ]
  },
  {
   "cell_type": "code",
   "execution_count": 140,
   "id": "98a08e39",
   "metadata": {},
   "outputs": [
    {
     "data": {
      "text/plain": [
       "RandomForestClassifier()"
      ]
     },
     "execution_count": 140,
     "metadata": {},
     "output_type": "execute_result"
    }
   ],
   "source": [
    "from sklearn.ensemble import RandomForestClassifier\n",
    "model_rf = RandomForestClassifier()\n",
    "model_rf.fit(X_train_rf,y_train_rf)"
   ]
  },
  {
   "cell_type": "code",
   "execution_count": 141,
   "id": "e581fdc4",
   "metadata": {},
   "outputs": [],
   "source": [
    "# pred on fit data using the fitted model\n",
    "y_test_pred_rf = model_rf.predict(X_test_rf)\n"
   ]
  },
  {
   "cell_type": "code",
   "execution_count": 142,
   "id": "8c419e33",
   "metadata": {},
   "outputs": [
    {
     "data": {
      "text/plain": [
       "0.995850622406639"
      ]
     },
     "execution_count": 142,
     "metadata": {},
     "output_type": "execute_result"
    }
   ],
   "source": [
    "accuracy_score(y_test_rf,y_test_pred_rf)"
   ]
  },
  {
   "cell_type": "code",
   "execution_count": 143,
   "id": "0761a7b5",
   "metadata": {},
   "outputs": [],
   "source": [
    "\n",
    "y_train_pred_rf = model_rf.predict(X_train_rf)"
   ]
  },
  {
   "cell_type": "code",
   "execution_count": 144,
   "id": "8d5af0ba",
   "metadata": {},
   "outputs": [
    {
     "data": {
      "text/plain": [
       "1.0"
      ]
     },
     "execution_count": 144,
     "metadata": {},
     "output_type": "execute_result"
    }
   ],
   "source": [
    "accuracy_score(y_train_rf,y_train_pred_rf)"
   ]
  },
  {
   "cell_type": "code",
   "execution_count": 145,
   "id": "a9b1c9dc",
   "metadata": {},
   "outputs": [
    {
     "name": "stdout",
     "output_type": "stream",
     "text": [
      "              precision    recall  f1-score   support\n",
      "\n",
      "           0       1.00      1.00      1.00       219\n",
      "           1       1.00      1.00      1.00        56\n",
      "           2       1.00      1.00      1.00       103\n",
      "           3       1.00      1.00      1.00        89\n",
      "           4       1.00      1.00      1.00        93\n",
      "\n",
      "    accuracy                           1.00       560\n",
      "   macro avg       1.00      1.00      1.00       560\n",
      "weighted avg       1.00      1.00      1.00       560\n",
      "\n"
     ]
    }
   ],
   "source": [
    "print(classification_report(y_train_rf,y_train_pred_rf))"
   ]
  },
  {
   "cell_type": "code",
   "execution_count": 146,
   "id": "e3daedd0",
   "metadata": {},
   "outputs": [
    {
     "name": "stdout",
     "output_type": "stream",
     "text": [
      "              precision    recall  f1-score   support\n",
      "\n",
      "           0       0.99      1.00      0.99        81\n",
      "           1       1.00      1.00      1.00        22\n",
      "           2       1.00      1.00      1.00        43\n",
      "           3       1.00      0.98      0.99        52\n",
      "           4       1.00      1.00      1.00        43\n",
      "\n",
      "    accuracy                           1.00       241\n",
      "   macro avg       1.00      1.00      1.00       241\n",
      "weighted avg       1.00      1.00      1.00       241\n",
      "\n"
     ]
    }
   ],
   "source": [
    "print(classification_report(y_test_rf,y_test_pred_rf))"
   ]
  },
  {
   "cell_type": "code",
   "execution_count": 147,
   "id": "c13eba90",
   "metadata": {},
   "outputs": [],
   "source": [
    "# roc_auc_score\n",
    "\n",
    "rf_model_roc = RandomForestClassifier()"
   ]
  },
  {
   "cell_type": "code",
   "execution_count": 148,
   "id": "a3f4d311",
   "metadata": {},
   "outputs": [
    {
     "data": {
      "text/plain": [
       "RandomForestClassifier()"
      ]
     },
     "execution_count": 148,
     "metadata": {},
     "output_type": "execute_result"
    }
   ],
   "source": [
    "rf_model_roc.fit(X_train_rf,y_train_rf)"
   ]
  },
  {
   "cell_type": "code",
   "execution_count": 149,
   "id": "d3d8aab2",
   "metadata": {},
   "outputs": [],
   "source": [
    "y_test_pred_roc = rf_model_roc.predict_proba(X_test_rf)"
   ]
  },
  {
   "cell_type": "code",
   "execution_count": 150,
   "id": "a58e4d89",
   "metadata": {},
   "outputs": [
    {
     "data": {
      "text/plain": [
       "99.99642178808845"
      ]
     },
     "execution_count": 150,
     "metadata": {},
     "output_type": "execute_result"
    }
   ],
   "source": [
    "roc_auc_score(y_test_rf,y_test_pred_roc,multi_class='ovr')*100"
   ]
  },
  {
   "cell_type": "markdown",
   "id": "65816053",
   "metadata": {},
   "source": [
    "##### Neural Networks\n"
   ]
  },
  {
   "cell_type": "code",
   "execution_count": 151,
   "id": "82e3d298",
   "metadata": {},
   "outputs": [],
   "source": [
    "import tensorflow as tf\n",
    "from tensorflow.keras.models import Sequential\n",
    "from tensorflow.keras.layers import Dense"
   ]
  },
  {
   "cell_type": "code",
   "execution_count": 152,
   "id": "2bae86b9",
   "metadata": {},
   "outputs": [],
   "source": [
    "X_train_nn,X_test_nn,y_train_nn,y_test_nn = train_test_split(df,y,test_size=0.3)"
   ]
  },
  {
   "cell_type": "code",
   "execution_count": 153,
   "id": "68afdd34",
   "metadata": {},
   "outputs": [
    {
     "data": {
      "text/plain": [
       "(560, 20531)"
      ]
     },
     "execution_count": 153,
     "metadata": {},
     "output_type": "execute_result"
    }
   ],
   "source": [
    "X_train_nn.shape"
   ]
  },
  {
   "cell_type": "code",
   "execution_count": 154,
   "id": "a3247e84",
   "metadata": {},
   "outputs": [
    {
     "data": {
      "text/plain": [
       "(241, 20531)"
      ]
     },
     "execution_count": 154,
     "metadata": {},
     "output_type": "execute_result"
    }
   ],
   "source": [
    "X_test_nn.shape"
   ]
  },
  {
   "cell_type": "code",
   "execution_count": 155,
   "id": "b61cebd0",
   "metadata": {},
   "outputs": [
    {
     "data": {
      "text/plain": [
       "(560,)"
      ]
     },
     "execution_count": 155,
     "metadata": {},
     "output_type": "execute_result"
    }
   ],
   "source": [
    "y_train_nn.shape"
   ]
  },
  {
   "cell_type": "code",
   "execution_count": 156,
   "id": "c071b6aa",
   "metadata": {},
   "outputs": [
    {
     "data": {
      "text/plain": [
       "(241,)"
      ]
     },
     "execution_count": 156,
     "metadata": {},
     "output_type": "execute_result"
    }
   ],
   "source": [
    "y_test_nn.shape"
   ]
  },
  {
   "cell_type": "code",
   "execution_count": 157,
   "id": "205b898c",
   "metadata": {},
   "outputs": [],
   "source": [
    "model_nn_org = Sequential()"
   ]
  },
  {
   "cell_type": "code",
   "execution_count": 158,
   "id": "8af82429",
   "metadata": {},
   "outputs": [],
   "source": [
    "model_nn_org.add(tf.keras.layers.BatchNormalization(input_shape = (20531,)))"
   ]
  },
  {
   "cell_type": "code",
   "execution_count": 159,
   "id": "ee3a0e62",
   "metadata": {},
   "outputs": [],
   "source": [
    "model_nn_org.add(tf.keras.layers.Dense(20531))"
   ]
  },
  {
   "cell_type": "code",
   "execution_count": 160,
   "id": "bc6abaed",
   "metadata": {},
   "outputs": [],
   "source": [
    "y_train_nn = tf.keras.utils.to_categorical(y_train_nn,5)"
   ]
  },
  {
   "cell_type": "code",
   "execution_count": 161,
   "id": "d4784049",
   "metadata": {},
   "outputs": [],
   "source": [
    "y_test_nn = tf.keras.utils.to_categorical(y_test_nn,5)"
   ]
  },
  {
   "cell_type": "code",
   "execution_count": 162,
   "id": "24966963",
   "metadata": {},
   "outputs": [
    {
     "data": {
      "text/plain": [
       "array([4, 3, 4, 4, 0, 4, 2, 4, 0, 4, 0, 2, 4, 0, 0, 0, 3, 2, 2, 4, 0, 2,\n",
       "       3, 0, 2, 3, 1, 0, 0, 0, 0, 0, 2, 0, 4, 0, 2, 3, 0, 0, 2, 4, 4, 2,\n",
       "       2, 0, 4, 1, 0, 3, 0, 3, 0, 4, 1, 0, 0, 1, 2, 0, 3, 2, 0, 3, 4, 1,\n",
       "       0, 4, 2, 0, 2, 0, 0, 3, 0, 3, 0, 2, 4, 1, 0, 4, 0, 0, 4, 4, 0, 0,\n",
       "       2, 0, 4, 4, 0, 0, 0, 4, 1, 0, 4, 0, 0, 2, 0, 2, 3, 2, 3, 1, 3, 3,\n",
       "       4, 0, 3, 4, 0, 2, 2, 2, 0, 0, 3, 2, 3, 0, 4, 4, 4, 0, 2, 3, 1, 0,\n",
       "       1, 0, 0, 2, 3, 0, 2, 1, 0, 4, 0, 2, 3, 1, 4, 0, 3, 3, 3, 3, 0, 0,\n",
       "       3, 0, 0, 4, 4, 3, 4, 3, 2, 0, 4, 3, 1, 2, 3, 0, 2, 3, 0, 3, 0, 0,\n",
       "       0, 4, 0, 2, 1, 2, 0, 4, 4, 4, 3, 3, 0, 3, 3, 2, 3, 4, 3, 0, 0, 0,\n",
       "       3, 3, 0, 2, 2, 2, 2, 4, 0, 4, 0, 3, 3, 0, 4, 0, 4, 0, 0, 0, 3, 0,\n",
       "       2, 3, 2, 2, 3, 0, 2, 4, 0, 3, 3, 4, 1, 0, 2, 4, 2, 1, 0, 2, 2, 3,\n",
       "       4, 4, 3, 3, 2, 0, 0, 1, 0, 4, 1, 0, 4, 2, 4, 4, 4, 0, 1, 1, 3, 1,\n",
       "       1, 4, 3, 0, 0, 2, 2, 0, 1, 4, 2, 4, 0, 0, 2, 0, 0, 0, 0, 3, 3, 0,\n",
       "       0, 0, 2, 2, 2, 2, 0, 0, 0, 2, 0, 0, 3, 4, 0, 0, 1, 3, 4, 0, 0, 0,\n",
       "       1, 0, 4, 0, 1, 3, 3, 4, 2, 0, 2, 2, 3, 1, 2, 0, 0, 0, 0, 2, 0, 0,\n",
       "       4, 0, 2, 0, 3, 4, 2, 0, 4, 1, 0, 0, 0, 3, 3, 3, 0, 0, 4, 3, 0, 2,\n",
       "       0, 1, 1, 3, 0, 2, 0, 0, 0, 1, 3, 1, 2, 4, 2, 0, 0, 2, 0, 1, 4, 3,\n",
       "       4, 0, 2, 4, 0, 1, 2, 2, 1, 1, 4, 0, 0, 1, 2, 0, 4, 0, 0, 0, 3, 3,\n",
       "       2, 3, 0, 2, 1, 4, 0, 3, 4, 0, 0, 0, 3, 0, 0, 4, 0, 4, 1, 0, 3, 0,\n",
       "       0, 3, 0, 0, 0, 2, 3, 4, 0, 4, 2, 0, 2, 1, 0, 4, 3, 2, 0, 0, 2, 0,\n",
       "       3, 0, 0, 4, 1, 0, 2, 3, 4, 0, 4, 0, 0, 0, 0, 2, 3, 0, 2, 0, 0, 3,\n",
       "       3, 2, 1, 4, 1, 0, 2, 2, 0, 4, 2, 1, 3, 3, 0, 4, 4, 0, 4, 3, 2, 4,\n",
       "       0, 3, 4, 3, 0, 0, 1, 3, 2, 1, 3, 0, 4, 0, 0, 4, 0, 1, 0, 1, 2, 0,\n",
       "       0, 3, 3, 3, 1, 2, 3, 3, 0, 0, 2, 4, 3, 4, 0, 2, 0, 2, 2, 4, 4, 3,\n",
       "       0, 2, 1, 1, 0, 2, 2, 0, 0, 4, 2, 1, 0, 0, 1, 3, 0, 0, 0, 2, 4, 3,\n",
       "       3, 0, 2, 1, 2, 2, 0, 4, 3, 2, 0, 1, 3, 3, 3, 4, 3, 2, 0, 0, 1, 4,\n",
       "       0, 0, 0, 2, 3, 3, 0, 4, 3, 3, 0, 2, 4, 1, 3, 4, 1, 3, 1, 2, 2, 0,\n",
       "       0, 2, 2, 1, 0, 3, 4, 4, 2, 0, 3, 0, 0, 1, 0, 4, 4, 0, 0, 1, 0, 2,\n",
       "       0, 0, 1, 0, 4, 0, 0, 2, 4, 3, 0, 0, 2, 0, 0, 0, 0, 0, 1, 3, 3, 0,\n",
       "       0, 0, 4, 0, 0, 2, 3, 3, 2, 2, 3, 2, 1, 0, 1, 2, 0, 0, 4, 4, 4, 3,\n",
       "       4, 4, 1, 0, 0, 1, 3, 2, 0, 2, 1, 0, 0, 0, 4, 3, 2, 0, 4, 2, 4, 0,\n",
       "       3, 2, 4, 3, 4, 4, 0, 2, 4, 3, 1, 1, 0, 0, 0, 3, 2, 2, 2, 0, 3, 2,\n",
       "       4, 0, 3, 4, 0, 4, 0, 2, 0, 1, 4, 4, 2, 4, 2, 0, 3, 3, 0, 0, 2, 0,\n",
       "       0, 0, 0, 2, 2, 4, 1, 2, 0, 0, 2, 0, 3, 0, 0, 4, 0, 4, 0, 1, 0, 0,\n",
       "       2, 3, 0, 0, 4, 0, 4, 1, 0, 0, 0, 3, 0, 3, 0, 3, 2, 2, 1, 1, 0, 0,\n",
       "       0, 3, 0, 3, 2, 0, 3, 2, 3, 3, 3, 2, 0, 4, 0, 0, 2, 0, 4, 2, 0, 0,\n",
       "       0, 0, 4, 3, 0, 3, 1, 4, 4])"
      ]
     },
     "execution_count": 162,
     "metadata": {},
     "output_type": "execute_result"
    }
   ],
   "source": [
    "y"
   ]
  },
  {
   "cell_type": "code",
   "execution_count": 163,
   "id": "b666fa1a",
   "metadata": {},
   "outputs": [],
   "source": [
    "# first hidden layer\n",
    "model_nn_org.add(tf.keras.layers.Dense(1000,activation='tanh'))\n",
    "model_nn_org.add(tf.keras.layers.BatchNormalization())\n",
    "model_nn_org.add(tf.keras.layers.Dropout(0.03))\n",
    "tf.random.set_seed(0)"
   ]
  },
  {
   "cell_type": "code",
   "execution_count": 164,
   "id": "c0d18fe2",
   "metadata": {},
   "outputs": [],
   "source": [
    "# second hidden layer\n",
    "model_nn_org.add(tf.keras.layers.Dense(500))\n",
    "model_nn_org.add(tf.keras.layers.LeakyReLU())\n",
    "model_nn_org.add(tf.keras.layers.BatchNormalization())\n",
    "model_nn_org.add(tf.keras.layers.Dropout(0.01))\n",
    "tf.random.set_seed(0)"
   ]
  },
  {
   "cell_type": "code",
   "execution_count": 165,
   "id": "c620b46c",
   "metadata": {},
   "outputs": [],
   "source": [
    "# third hidden layer\n",
    "\n",
    "model_nn_org.add(tf.keras.layers.Dense(250,activation='softmax'))"
   ]
  },
  {
   "cell_type": "code",
   "execution_count": 166,
   "id": "ff725a77",
   "metadata": {},
   "outputs": [],
   "source": [
    "# output layer\n",
    "\n",
    "model_nn_org.add(tf.keras.layers.Dense(5))"
   ]
  },
  {
   "cell_type": "code",
   "execution_count": 167,
   "id": "9ab3fd8f",
   "metadata": {},
   "outputs": [],
   "source": [
    "# compiling the model\n",
    "\n",
    "optimizer = tf.keras.optimizers.Adam(learning_rate=0.001)\n",
    "model_nn_org.compile(optimizer=optimizer, loss = 'categorical_crossentropy',metrics = ['accuracy'])"
   ]
  },
  {
   "cell_type": "code",
   "execution_count": null,
   "id": "5c4d5b9e",
   "metadata": {},
   "outputs": [],
   "source": [
    "model_nn_org.fit(X_train_nn,y_train_nn, epochs = 10, batch_size = 1000, validation_data= (X_test_nn,y_test_nn))"
   ]
  },
  {
   "cell_type": "code",
   "execution_count": null,
   "id": "5f338315",
   "metadata": {},
   "outputs": [],
   "source": []
  }
 ],
 "metadata": {
  "kernelspec": {
   "display_name": "Python 3 (ipykernel)",
   "language": "python",
   "name": "python3"
  },
  "language_info": {
   "codemirror_mode": {
    "name": "ipython",
    "version": 3
   },
   "file_extension": ".py",
   "mimetype": "text/x-python",
   "name": "python",
   "nbconvert_exporter": "python",
   "pygments_lexer": "ipython3",
   "version": "3.9.13"
  }
 },
 "nbformat": 4,
 "nbformat_minor": 5
}
